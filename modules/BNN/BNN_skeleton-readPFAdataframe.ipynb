{
 "cells": [
  {
   "cell_type": "markdown",
   "metadata": {},
   "source": [
    "# Geothermal and Machine Learning Sandbox"
   ]
  },
  {
   "cell_type": "markdown",
   "metadata": {
    "tags": []
   },
   "source": [
    "# Skeleton of an Variational Bayes Artificial Neural Network (BNN) in PyTorch applied to Nevada PFA Geothermal Resources Dataset"
   ]
  },
  {
   "cell_type": "code",
   "execution_count": 1,
   "metadata": {
    "tags": []
   },
   "outputs": [],
   "source": [
    "import numpy as np\n",
    "import matplotlib.pyplot as plt\n",
    "\n",
    "import math\n",
    "\n",
    "import pickle\n",
    "\n",
    "import pandas as pd\n",
    "\n",
    "from sklearn.model_selection import train_test_split\n",
    "from sklearn.preprocessing import StandardScaler\n",
    "from sklearn.preprocessing import OneHotEncoder\n",
    "\n",
    "from scipy.stats import kurtosis\n",
    "\n",
    "import torch\n",
    "import torch.nn as nn\n",
    "import torch.nn.functional as F\n",
    "import torch.optim as optim\n",
    "\n",
    "# Load packages to create dataset\n",
    "from torch.utils.data import DataLoader, TensorDataset\n",
    "from torch.utils.data import Dataset\n",
    "from torch import Tensor\n",
    "\n",
    "from torch.utils.data import WeightedRandomSampler\n",
    "\n",
    "# from torchvision import models\n",
    "from torchsummary import summary\n",
    "\n",
    "import datetime\n",
    "import time\n",
    "\n",
    "from pathlib import Path\n",
    "import sys\n",
    "\n",
    "import h5py\n",
    "\n",
    "from tqdm.notebook import trange, tqdm\n",
    "\n",
    "%matplotlib inline"
   ]
  },
  {
   "cell_type": "markdown",
   "metadata": {},
   "source": [
    "# Training Setup"
   ]
  },
  {
   "cell_type": "code",
   "execution_count": 2,
   "metadata": {
    "lines_to_next_cell": 2,
    "tags": []
   },
   "outputs": [],
   "source": [
    "# ALPHA = 4.19\n",
    "ALPHA = 2.35"
   ]
  },
  {
   "cell_type": "code",
   "execution_count": 3,
   "metadata": {
    "tags": []
   },
   "outputs": [],
   "source": [
    "BATCH_SIZE = 64"
   ]
  },
  {
   "cell_type": "code",
   "execution_count": 4,
   "metadata": {
    "tags": []
   },
   "outputs": [],
   "source": [
    "TRAIN_EPOCHS = 1000"
   ]
  },
  {
   "cell_type": "code",
   "execution_count": null,
   "metadata": {},
   "outputs": [],
   "source": []
  },
  {
   "cell_type": "code",
   "execution_count": null,
   "metadata": {},
   "outputs": [],
   "source": []
  },
  {
   "cell_type": "markdown",
   "metadata": {},
   "source": [
    "## BEGIN data preprocessing"
   ]
  },
  {
   "cell_type": "markdown",
   "metadata": {},
   "source": [
    "## load preprocessed data"
   ]
  },
  {
   "cell_type": "code",
   "execution_count": 5,
   "metadata": {
    "lines_to_next_cell": 2,
    "tags": []
   },
   "outputs": [],
   "source": [
    "path = '../../datasets/'\n",
    "\n",
    "filename = 'PFA_features&labels_march2021_tc2_imbalanced_SmoothLSS_FSS_df.h5'\n",
    "\n",
    "hf5File = path+filename"
   ]
  },
  {
   "cell_type": "code",
   "execution_count": 6,
   "metadata": {},
   "outputs": [
    {
     "name": "stdout",
     "output_type": "stream",
     "text": [
      "['X', 'XyInfo', 'dfInfo', 'dfn', 'nullIndexes', 'scaler', 'y']\n"
     ]
    }
   ],
   "source": [
    "f = h5py.File(hf5File, 'r')\n",
    "\n",
    "def keys(f):\n",
    "    return [key for key in f.keys()]\n",
    "\n",
    "key_list = keys(f)\n",
    "print(key_list)\n",
    "\n",
    "f.close()"
   ]
  },
  {
   "cell_type": "code",
   "execution_count": 7,
   "metadata": {},
   "outputs": [],
   "source": [
    "dfXAll = pd.read_hdf(hf5File, key='X')\n",
    "dfyAll = pd.read_hdf(hf5File, key='y')\n",
    "XyInfo = pd.read_hdf(hf5File, key='XyInfo')"
   ]
  },
  {
   "cell_type": "code",
   "execution_count": 8,
   "metadata": {
    "tags": []
   },
   "outputs": [
    {
     "name": "stdout",
     "output_type": "stream",
     "text": [
      "(725, 20) (725,) (725, 17)\n"
     ]
    }
   ],
   "source": [
    "print( dfXAll.shape, dfyAll.shape, XyInfo.shape)"
   ]
  },
  {
   "cell_type": "code",
   "execution_count": 9,
   "metadata": {},
   "outputs": [
    {
     "data": {
      "text/html": [
       "<div>\n",
       "<style scoped>\n",
       "    .dataframe tbody tr th:only-of-type {\n",
       "        vertical-align: middle;\n",
       "    }\n",
       "\n",
       "    .dataframe tbody tr th {\n",
       "        vertical-align: top;\n",
       "    }\n",
       "\n",
       "    .dataframe thead th {\n",
       "        text-align: right;\n",
       "    }\n",
       "</style>\n",
       "<table border=\"1\" class=\"dataframe\">\n",
       "  <thead>\n",
       "    <tr style=\"text-align: right;\">\n",
       "      <th></th>\n",
       "      <th>Local-StructuralSetting</th>\n",
       "      <th>Local-QuaternaryFaultRecency</th>\n",
       "      <th>Local-QuaternaryFaultSlipDilation</th>\n",
       "      <th>Local-QuaternaryFaultSlipRate</th>\n",
       "      <th>QuaternaryFaultTraces</th>\n",
       "      <th>HorizGravityGradient2</th>\n",
       "      <th>HorizMagneticGradient2</th>\n",
       "      <th>GeodeticStrainRate</th>\n",
       "      <th>QuaternarySlipRate</th>\n",
       "      <th>FaultRecency</th>\n",
       "      <th>FaultSlipDilationTendency2</th>\n",
       "      <th>Earthquakes</th>\n",
       "      <th>Heatflow</th>\n",
       "      <th>GravityDensity</th>\n",
       "      <th>MagneticDensity</th>\n",
       "      <th>GeochemistryTemperature2</th>\n",
       "      <th>Silica_Distance</th>\n",
       "      <th>TufaOrTravertine_Distance</th>\n",
       "      <th>DEM-30m</th>\n",
       "      <th>FavorableStructuralSettings_Distance</th>\n",
       "    </tr>\n",
       "  </thead>\n",
       "  <tbody>\n",
       "    <tr>\n",
       "      <th>1629211</th>\n",
       "      <td>0.605907</td>\n",
       "      <td>1.214984</td>\n",
       "      <td>3.191540</td>\n",
       "      <td>1.120474</td>\n",
       "      <td>-0.784042</td>\n",
       "      <td>0.956721</td>\n",
       "      <td>-0.383781</td>\n",
       "      <td>-1.553196</td>\n",
       "      <td>3.963975</td>\n",
       "      <td>-2.485171</td>\n",
       "      <td>0.451266</td>\n",
       "      <td>-1.352377</td>\n",
       "      <td>0.856456</td>\n",
       "      <td>-1.447685</td>\n",
       "      <td>0.042378</td>\n",
       "      <td>7.965358</td>\n",
       "      <td>-1.153277</td>\n",
       "      <td>-1.748728</td>\n",
       "      <td>0.071722</td>\n",
       "      <td>-1.439888</td>\n",
       "    </tr>\n",
       "    <tr>\n",
       "      <th>792748</th>\n",
       "      <td>2.753820</td>\n",
       "      <td>0.973401</td>\n",
       "      <td>0.219568</td>\n",
       "      <td>2.368457</td>\n",
       "      <td>0.743874</td>\n",
       "      <td>2.838552</td>\n",
       "      <td>-0.631091</td>\n",
       "      <td>-1.014735</td>\n",
       "      <td>-1.162640</td>\n",
       "      <td>1.180387</td>\n",
       "      <td>1.218827</td>\n",
       "      <td>0.250527</td>\n",
       "      <td>-1.224496</td>\n",
       "      <td>-1.678404</td>\n",
       "      <td>0.500513</td>\n",
       "      <td>-0.185826</td>\n",
       "      <td>0.993788</td>\n",
       "      <td>1.746996</td>\n",
       "      <td>-0.003075</td>\n",
       "      <td>0.524243</td>\n",
       "    </tr>\n",
       "    <tr>\n",
       "      <th>1427233</th>\n",
       "      <td>-0.532809</td>\n",
       "      <td>-0.586230</td>\n",
       "      <td>-0.402900</td>\n",
       "      <td>-0.584992</td>\n",
       "      <td>1.248917</td>\n",
       "      <td>1.627900</td>\n",
       "      <td>-0.435304</td>\n",
       "      <td>-1.246016</td>\n",
       "      <td>-0.087931</td>\n",
       "      <td>0.565757</td>\n",
       "      <td>-0.099213</td>\n",
       "      <td>-2.182920</td>\n",
       "      <td>0.426947</td>\n",
       "      <td>-1.332326</td>\n",
       "      <td>1.416784</td>\n",
       "      <td>-0.185826</td>\n",
       "      <td>0.055923</td>\n",
       "      <td>1.526730</td>\n",
       "      <td>-0.137194</td>\n",
       "      <td>1.095007</td>\n",
       "    </tr>\n",
       "    <tr>\n",
       "      <th>630421</th>\n",
       "      <td>0.627393</td>\n",
       "      <td>1.615954</td>\n",
       "      <td>-0.183165</td>\n",
       "      <td>1.500129</td>\n",
       "      <td>-1.064303</td>\n",
       "      <td>-1.286707</td>\n",
       "      <td>-0.662004</td>\n",
       "      <td>-0.813587</td>\n",
       "      <td>-1.262306</td>\n",
       "      <td>0.897017</td>\n",
       "      <td>0.459076</td>\n",
       "      <td>0.142340</td>\n",
       "      <td>-0.693443</td>\n",
       "      <td>0.974860</td>\n",
       "      <td>0.844115</td>\n",
       "      <td>-0.185826</td>\n",
       "      <td>1.719070</td>\n",
       "      <td>1.030348</td>\n",
       "      <td>0.948657</td>\n",
       "      <td>-1.130844</td>\n",
       "    </tr>\n",
       "    <tr>\n",
       "      <th>741007</th>\n",
       "      <td>-0.108018</td>\n",
       "      <td>-0.384650</td>\n",
       "      <td>-0.362674</td>\n",
       "      <td>-0.394128</td>\n",
       "      <td>-0.965216</td>\n",
       "      <td>-0.928128</td>\n",
       "      <td>-0.971141</td>\n",
       "      <td>-0.811781</td>\n",
       "      <td>-1.198261</td>\n",
       "      <td>0.909340</td>\n",
       "      <td>0.206954</td>\n",
       "      <td>-0.170018</td>\n",
       "      <td>-0.528820</td>\n",
       "      <td>-0.178733</td>\n",
       "      <td>1.416784</td>\n",
       "      <td>-0.185826</td>\n",
       "      <td>1.529526</td>\n",
       "      <td>1.298969</td>\n",
       "      <td>0.732003</td>\n",
       "      <td>-0.038541</td>\n",
       "    </tr>\n",
       "  </tbody>\n",
       "</table>\n",
       "</div>"
      ],
      "text/plain": [
       "         Local-StructuralSetting  Local-QuaternaryFaultRecency  \\\n",
       "1629211                 0.605907                      1.214984   \n",
       "792748                  2.753820                      0.973401   \n",
       "1427233                -0.532809                     -0.586230   \n",
       "630421                  0.627393                      1.615954   \n",
       "741007                 -0.108018                     -0.384650   \n",
       "\n",
       "         Local-QuaternaryFaultSlipDilation  Local-QuaternaryFaultSlipRate  \\\n",
       "1629211                           3.191540                       1.120474   \n",
       "792748                            0.219568                       2.368457   \n",
       "1427233                          -0.402900                      -0.584992   \n",
       "630421                           -0.183165                       1.500129   \n",
       "741007                           -0.362674                      -0.394128   \n",
       "\n",
       "         QuaternaryFaultTraces  HorizGravityGradient2  HorizMagneticGradient2  \\\n",
       "1629211              -0.784042               0.956721               -0.383781   \n",
       "792748                0.743874               2.838552               -0.631091   \n",
       "1427233               1.248917               1.627900               -0.435304   \n",
       "630421               -1.064303              -1.286707               -0.662004   \n",
       "741007               -0.965216              -0.928128               -0.971141   \n",
       "\n",
       "         GeodeticStrainRate  QuaternarySlipRate  FaultRecency  \\\n",
       "1629211           -1.553196            3.963975     -2.485171   \n",
       "792748            -1.014735           -1.162640      1.180387   \n",
       "1427233           -1.246016           -0.087931      0.565757   \n",
       "630421            -0.813587           -1.262306      0.897017   \n",
       "741007            -0.811781           -1.198261      0.909340   \n",
       "\n",
       "         FaultSlipDilationTendency2  Earthquakes  Heatflow  GravityDensity  \\\n",
       "1629211                    0.451266    -1.352377  0.856456       -1.447685   \n",
       "792748                     1.218827     0.250527 -1.224496       -1.678404   \n",
       "1427233                   -0.099213    -2.182920  0.426947       -1.332326   \n",
       "630421                     0.459076     0.142340 -0.693443        0.974860   \n",
       "741007                     0.206954    -0.170018 -0.528820       -0.178733   \n",
       "\n",
       "         MagneticDensity  GeochemistryTemperature2  Silica_Distance  \\\n",
       "1629211         0.042378                  7.965358        -1.153277   \n",
       "792748          0.500513                 -0.185826         0.993788   \n",
       "1427233         1.416784                 -0.185826         0.055923   \n",
       "630421          0.844115                 -0.185826         1.719070   \n",
       "741007          1.416784                 -0.185826         1.529526   \n",
       "\n",
       "         TufaOrTravertine_Distance   DEM-30m  \\\n",
       "1629211                  -1.748728  0.071722   \n",
       "792748                    1.746996 -0.003075   \n",
       "1427233                   1.526730 -0.137194   \n",
       "630421                    1.030348  0.948657   \n",
       "741007                    1.298969  0.732003   \n",
       "\n",
       "         FavorableStructuralSettings_Distance  \n",
       "1629211                             -1.439888  \n",
       "792748                               0.524243  \n",
       "1427233                              1.095007  \n",
       "630421                              -1.130844  \n",
       "741007                              -0.038541  "
      ]
     },
     "execution_count": 9,
     "metadata": {},
     "output_type": "execute_result"
    }
   ],
   "source": [
    "dfXAll.head()"
   ]
  },
  {
   "cell_type": "code",
   "execution_count": 10,
   "metadata": {
    "tags": []
   },
   "outputs": [
    {
     "data": {
      "text/plain": [
       "1629211    1\n",
       "792748     0\n",
       "1427233    0\n",
       "630421     0\n",
       "741007     0\n",
       "Name: labels, dtype: int64"
      ]
     },
     "execution_count": 10,
     "metadata": {},
     "output_type": "execute_result"
    }
   ],
   "source": [
    "dfyAll.head()"
   ]
  },
  {
   "cell_type": "code",
   "execution_count": 11,
   "metadata": {
    "tags": []
   },
   "outputs": [
    {
     "data": {
      "text/html": [
       "<div>\n",
       "<style scoped>\n",
       "    .dataframe tbody tr th:only-of-type {\n",
       "        vertical-align: middle;\n",
       "    }\n",
       "\n",
       "    .dataframe tbody tr th {\n",
       "        vertical-align: top;\n",
       "    }\n",
       "\n",
       "    .dataframe thead th {\n",
       "        text-align: right;\n",
       "    }\n",
       "</style>\n",
       "<table border=\"1\" class=\"dataframe\">\n",
       "  <thead>\n",
       "    <tr style=\"text-align: right;\">\n",
       "      <th></th>\n",
       "      <th>row</th>\n",
       "      <th>column</th>\n",
       "      <th>id_rc</th>\n",
       "      <th>X_83UTM11</th>\n",
       "      <th>Y_83UTM11</th>\n",
       "      <th>NullInfo</th>\n",
       "      <th>TrainCodeNeg</th>\n",
       "      <th>TrainCodePos</th>\n",
       "      <th>TrainCodePosT130</th>\n",
       "      <th>PosSite130_Id</th>\n",
       "      <th>PosSite130_Distance</th>\n",
       "      <th>PosSite_Id</th>\n",
       "      <th>PosSite_Distance</th>\n",
       "      <th>NegSite_Id</th>\n",
       "      <th>NegSite_Distance</th>\n",
       "      <th>Local_polygon_Id</th>\n",
       "      <th>Local_polygon_overlap_Id</th>\n",
       "    </tr>\n",
       "  </thead>\n",
       "  <tbody>\n",
       "    <tr>\n",
       "      <th>1629211</th>\n",
       "      <td>942.0</td>\n",
       "      <td>1435.0</td>\n",
       "      <td>R943C1436</td>\n",
       "      <td>645077.690182</td>\n",
       "      <td>4.494214e+06</td>\n",
       "      <td>notNull</td>\n",
       "      <td>12</td>\n",
       "      <td>1</td>\n",
       "      <td>1</td>\n",
       "      <td>14</td>\n",
       "      <td>84.074090</td>\n",
       "      <td>14</td>\n",
       "      <td>84.074090</td>\n",
       "      <td>4</td>\n",
       "      <td>10574.081138</td>\n",
       "      <td>315</td>\n",
       "      <td>0</td>\n",
       "    </tr>\n",
       "    <tr>\n",
       "      <th>792748</th>\n",
       "      <td>458.0</td>\n",
       "      <td>1324.0</td>\n",
       "      <td>R459C1325</td>\n",
       "      <td>617327.690182</td>\n",
       "      <td>4.373214e+06</td>\n",
       "      <td>notNull</td>\n",
       "      <td>2</td>\n",
       "      <td>12</td>\n",
       "      <td>12</td>\n",
       "      <td>76</td>\n",
       "      <td>109719.824992</td>\n",
       "      <td>47</td>\n",
       "      <td>28269.390720</td>\n",
       "      <td>48</td>\n",
       "      <td>224.802810</td>\n",
       "      <td>24</td>\n",
       "      <td>0</td>\n",
       "    </tr>\n",
       "    <tr>\n",
       "      <th>1427233</th>\n",
       "      <td>825.0</td>\n",
       "      <td>1633.0</td>\n",
       "      <td>R826C1634</td>\n",
       "      <td>694577.690182</td>\n",
       "      <td>4.464964e+06</td>\n",
       "      <td>notNull</td>\n",
       "      <td>1</td>\n",
       "      <td>12</td>\n",
       "      <td>12</td>\n",
       "      <td>14</td>\n",
       "      <td>57577.584385</td>\n",
       "      <td>25</td>\n",
       "      <td>49848.864916</td>\n",
       "      <td>31</td>\n",
       "      <td>83.994037</td>\n",
       "      <td>0</td>\n",
       "      <td>0</td>\n",
       "    </tr>\n",
       "    <tr>\n",
       "      <th>630421</th>\n",
       "      <td>364.0</td>\n",
       "      <td>1429.0</td>\n",
       "      <td>R365C1430</td>\n",
       "      <td>643577.690182</td>\n",
       "      <td>4.349714e+06</td>\n",
       "      <td>notNull</td>\n",
       "      <td>2</td>\n",
       "      <td>12</td>\n",
       "      <td>12</td>\n",
       "      <td>13</td>\n",
       "      <td>88734.532066</td>\n",
       "      <td>55</td>\n",
       "      <td>38087.135264</td>\n",
       "      <td>41</td>\n",
       "      <td>173.133020</td>\n",
       "      <td>37</td>\n",
       "      <td>0</td>\n",
       "    </tr>\n",
       "    <tr>\n",
       "      <th>741007</th>\n",
       "      <td>428.0</td>\n",
       "      <td>1423.0</td>\n",
       "      <td>R429C1424</td>\n",
       "      <td>642077.690182</td>\n",
       "      <td>4.365714e+06</td>\n",
       "      <td>notNull</td>\n",
       "      <td>2</td>\n",
       "      <td>12</td>\n",
       "      <td>12</td>\n",
       "      <td>13</td>\n",
       "      <td>104234.526475</td>\n",
       "      <td>47</td>\n",
       "      <td>37025.554552</td>\n",
       "      <td>33</td>\n",
       "      <td>218.270209</td>\n",
       "      <td>0</td>\n",
       "      <td>0</td>\n",
       "    </tr>\n",
       "  </tbody>\n",
       "</table>\n",
       "</div>"
      ],
      "text/plain": [
       "           row  column      id_rc      X_83UTM11     Y_83UTM11 NullInfo  \\\n",
       "1629211  942.0  1435.0  R943C1436  645077.690182  4.494214e+06  notNull   \n",
       "792748   458.0  1324.0  R459C1325  617327.690182  4.373214e+06  notNull   \n",
       "1427233  825.0  1633.0  R826C1634  694577.690182  4.464964e+06  notNull   \n",
       "630421   364.0  1429.0  R365C1430  643577.690182  4.349714e+06  notNull   \n",
       "741007   428.0  1423.0  R429C1424  642077.690182  4.365714e+06  notNull   \n",
       "\n",
       "         TrainCodeNeg  TrainCodePos  TrainCodePosT130  PosSite130_Id  \\\n",
       "1629211            12             1                 1             14   \n",
       "792748              2            12                12             76   \n",
       "1427233             1            12                12             14   \n",
       "630421              2            12                12             13   \n",
       "741007              2            12                12             13   \n",
       "\n",
       "         PosSite130_Distance  PosSite_Id  PosSite_Distance  NegSite_Id  \\\n",
       "1629211            84.074090          14         84.074090           4   \n",
       "792748         109719.824992          47      28269.390720          48   \n",
       "1427233         57577.584385          25      49848.864916          31   \n",
       "630421          88734.532066          55      38087.135264          41   \n",
       "741007         104234.526475          47      37025.554552          33   \n",
       "\n",
       "         NegSite_Distance  Local_polygon_Id  Local_polygon_overlap_Id  \n",
       "1629211      10574.081138               315                         0  \n",
       "792748         224.802810                24                         0  \n",
       "1427233         83.994037                 0                         0  \n",
       "630421         173.133020                37                         0  \n",
       "741007         218.270209                 0                         0  "
      ]
     },
     "execution_count": 11,
     "metadata": {},
     "output_type": "execute_result"
    }
   ],
   "source": [
    "XyInfo.head()"
   ]
  },
  {
   "cell_type": "code",
   "execution_count": 12,
   "metadata": {
    "tags": []
   },
   "outputs": [],
   "source": [
    "columns=dfXAll.columns"
   ]
  },
  {
   "cell_type": "markdown",
   "metadata": {},
   "source": [
    "### balance the dataset?"
   ]
  },
  {
   "cell_type": "code",
   "execution_count": 13,
   "metadata": {},
   "outputs": [],
   "source": [
    "# balance = None\n",
    "# balance = 'truncate'\n",
    "balance = 'weighted'"
   ]
  },
  {
   "cell_type": "markdown",
   "metadata": {},
   "source": [
    "### balance dataset method 1: by truncation"
   ]
  },
  {
   "cell_type": "code",
   "execution_count": 14,
   "metadata": {
    "lines_to_next_cell": 2,
    "tags": []
   },
   "outputs": [],
   "source": [
    "if balance == 'truncate':\n",
    "    dfyAll_neg = dfyAll[dfyAll==0]\n",
    "    dfyAll_pos = dfyAll[dfyAll==1]\n",
    "    dfXAll_neg = dfXAll.loc[dfyAll_neg.index]\n",
    "    dfXAll_pos = dfXAll.loc[dfyAll_pos.index]\n",
    "    \n",
    "    # find out which set is smaller\n",
    "    imin = np.argmin([len(dfyAll_neg), len(dfyAll_pos)])\n",
    "    \n",
    "    if imin==0:\n",
    "        dfyAll_pos = dfyAll_pos.sample(n=len(dfyAll_neg))\n",
    "        dfXAll_pos = dfXAll_pos.loc[dfyAll_pos.index]\n",
    "    elif imin==1:\n",
    "        dfyAll_neg = dfyAll_neg.sample(n=len(dfyAll_pos))\n",
    "        dfXAll_neg = dfXAll_neg.loc[dfyAll_neg.index]\n",
    "\n",
    "    dfXAll = pd.concat([dfXAll_neg, dfXAll_pos])\n",
    "    dfyAll = pd.concat([dfyAll_neg, dfyAll_pos])\n",
    "    XyInfo = XyInfo.loc[dfXAll.index]"
   ]
  },
  {
   "cell_type": "markdown",
   "metadata": {},
   "source": [
    "### balance dataset method 2: design weighted sampler for dataloaders"
   ]
  },
  {
   "cell_type": "code",
   "execution_count": 15,
   "metadata": {
    "tags": []
   },
   "outputs": [
    {
     "name": "stdout",
     "output_type": "stream",
     "text": [
      "[415 310] [0.57241379 0.42758621]\n"
     ]
    }
   ],
   "source": [
    "if balance == 'weighted':\n",
    "    class_counts = dfyAll.value_counts()\n",
    "    class_weights = class_counts/len(dfyAll)\n",
    "\n",
    "    print(class_counts.values,  class_weights.values)"
   ]
  },
  {
   "cell_type": "markdown",
   "metadata": {},
   "source": [
    "### break into features and labels"
   ]
  },
  {
   "cell_type": "code",
   "execution_count": 16,
   "metadata": {
    "tags": []
   },
   "outputs": [],
   "source": [
    "XAll = dfXAll\n",
    "yAll = dfyAll"
   ]
  },
  {
   "cell_type": "code",
   "execution_count": 17,
   "metadata": {
    "tags": []
   },
   "outputs": [
    {
     "data": {
      "text/plain": [
       "(725, 20)"
      ]
     },
     "execution_count": 17,
     "metadata": {},
     "output_type": "execute_result"
    }
   ],
   "source": [
    "XAll.shape"
   ]
  },
  {
   "cell_type": "code",
   "execution_count": 18,
   "metadata": {
    "tags": []
   },
   "outputs": [
    {
     "data": {
      "text/plain": [
       "(725,)"
      ]
     },
     "execution_count": 18,
     "metadata": {},
     "output_type": "execute_result"
    }
   ],
   "source": [
    "yAll.shape"
   ]
  },
  {
   "cell_type": "code",
   "execution_count": 19,
   "metadata": {
    "tags": []
   },
   "outputs": [
    {
     "data": {
      "text/plain": [
       "Index(['Local-StructuralSetting', 'Local-QuaternaryFaultRecency',\n",
       "       'Local-QuaternaryFaultSlipDilation', 'Local-QuaternaryFaultSlipRate',\n",
       "       'QuaternaryFaultTraces', 'HorizGravityGradient2',\n",
       "       'HorizMagneticGradient2', 'GeodeticStrainRate', 'QuaternarySlipRate',\n",
       "       'FaultRecency', 'FaultSlipDilationTendency2', 'Earthquakes', 'Heatflow',\n",
       "       'GravityDensity', 'MagneticDensity', 'GeochemistryTemperature2',\n",
       "       'Silica_Distance', 'TufaOrTravertine_Distance', 'DEM-30m',\n",
       "       'FavorableStructuralSettings_Distance'],\n",
       "      dtype='object')"
      ]
     },
     "execution_count": 19,
     "metadata": {},
     "output_type": "execute_result"
    }
   ],
   "source": [
    "XAll.columns"
   ]
  },
  {
   "cell_type": "code",
   "execution_count": 20,
   "metadata": {
    "tags": []
   },
   "outputs": [
    {
     "data": {
      "text/plain": [
       "'labels'"
      ]
     },
     "execution_count": 20,
     "metadata": {},
     "output_type": "execute_result"
    }
   ],
   "source": [
    "yAll.name"
   ]
  },
  {
   "cell_type": "markdown",
   "metadata": {},
   "source": [
    "### train/test split"
   ]
  },
  {
   "cell_type": "code",
   "execution_count": 21,
   "metadata": {
    "lines_to_next_cell": 2,
    "tags": []
   },
   "outputs": [],
   "source": [
    "X_trainAll, X_testAll, y_trainAll, y_testAll = train_test_split(\n",
    "    XAll, yAll, test_size=0.33, random_state=42)\n",
    "    # XAll, yAll, test_size=0.33)"
   ]
  },
  {
   "cell_type": "code",
   "execution_count": 22,
   "metadata": {
    "tags": []
   },
   "outputs": [
    {
     "name": "stdout",
     "output_type": "stream",
     "text": [
      "(485, 20) (485,) (240, 20) (240,)\n"
     ]
    }
   ],
   "source": [
    "print (X_trainAll.shape, y_trainAll.shape, X_testAll.shape, y_testAll.shape)"
   ]
  },
  {
   "cell_type": "code",
   "execution_count": 23,
   "metadata": {
    "tags": []
   },
   "outputs": [
    {
     "data": {
      "text/html": [
       "<div>\n",
       "<style scoped>\n",
       "    .dataframe tbody tr th:only-of-type {\n",
       "        vertical-align: middle;\n",
       "    }\n",
       "\n",
       "    .dataframe tbody tr th {\n",
       "        vertical-align: top;\n",
       "    }\n",
       "\n",
       "    .dataframe thead th {\n",
       "        text-align: right;\n",
       "    }\n",
       "</style>\n",
       "<table border=\"1\" class=\"dataframe\">\n",
       "  <thead>\n",
       "    <tr style=\"text-align: right;\">\n",
       "      <th></th>\n",
       "      <th>Local-StructuralSetting</th>\n",
       "      <th>Local-QuaternaryFaultRecency</th>\n",
       "      <th>Local-QuaternaryFaultSlipDilation</th>\n",
       "      <th>Local-QuaternaryFaultSlipRate</th>\n",
       "      <th>QuaternaryFaultTraces</th>\n",
       "      <th>HorizGravityGradient2</th>\n",
       "      <th>HorizMagneticGradient2</th>\n",
       "      <th>GeodeticStrainRate</th>\n",
       "      <th>QuaternarySlipRate</th>\n",
       "      <th>FaultRecency</th>\n",
       "      <th>FaultSlipDilationTendency2</th>\n",
       "      <th>Earthquakes</th>\n",
       "      <th>Heatflow</th>\n",
       "      <th>GravityDensity</th>\n",
       "      <th>MagneticDensity</th>\n",
       "      <th>GeochemistryTemperature2</th>\n",
       "      <th>Silica_Distance</th>\n",
       "      <th>TufaOrTravertine_Distance</th>\n",
       "      <th>DEM-30m</th>\n",
       "      <th>FavorableStructuralSettings_Distance</th>\n",
       "    </tr>\n",
       "  </thead>\n",
       "  <tbody>\n",
       "    <tr>\n",
       "      <th>851760</th>\n",
       "      <td>1.219532</td>\n",
       "      <td>1.907248</td>\n",
       "      <td>0.150295</td>\n",
       "      <td>2.039372</td>\n",
       "      <td>-0.211921</td>\n",
       "      <td>1.557584</td>\n",
       "      <td>0.296321</td>\n",
       "      <td>-1.218099</td>\n",
       "      <td>0.455146</td>\n",
       "      <td>0.218541</td>\n",
       "      <td>0.639279</td>\n",
       "      <td>-1.200670</td>\n",
       "      <td>-0.469886</td>\n",
       "      <td>-1.447685</td>\n",
       "      <td>-0.644825</td>\n",
       "      <td>-0.185826</td>\n",
       "      <td>1.339493</td>\n",
       "      <td>-1.021991</td>\n",
       "      <td>0.035613</td>\n",
       "      <td>-1.214275</td>\n",
       "    </tr>\n",
       "    <tr>\n",
       "      <th>918627</th>\n",
       "      <td>-0.276916</td>\n",
       "      <td>-0.203856</td>\n",
       "      <td>-0.021599</td>\n",
       "      <td>-0.403835</td>\n",
       "      <td>-1.064303</td>\n",
       "      <td>-0.292717</td>\n",
       "      <td>-0.569263</td>\n",
       "      <td>-0.811781</td>\n",
       "      <td>-0.922382</td>\n",
       "      <td>-1.454516</td>\n",
       "      <td>-0.400033</td>\n",
       "      <td>-0.787486</td>\n",
       "      <td>0.507925</td>\n",
       "      <td>-0.986248</td>\n",
       "      <td>0.156912</td>\n",
       "      <td>-0.185826</td>\n",
       "      <td>-0.351455</td>\n",
       "      <td>-1.018601</td>\n",
       "      <td>0.198104</td>\n",
       "      <td>-0.658516</td>\n",
       "    </tr>\n",
       "    <tr>\n",
       "      <th>1528718</th>\n",
       "      <td>-0.092083</td>\n",
       "      <td>-0.287456</td>\n",
       "      <td>-0.283656</td>\n",
       "      <td>-0.019209</td>\n",
       "      <td>-0.309676</td>\n",
       "      <td>2.304730</td>\n",
       "      <td>-0.198299</td>\n",
       "      <td>-1.537737</td>\n",
       "      <td>-0.428710</td>\n",
       "      <td>0.947958</td>\n",
       "      <td>0.481170</td>\n",
       "      <td>-0.467806</td>\n",
       "      <td>-0.467885</td>\n",
       "      <td>-1.678404</td>\n",
       "      <td>0.271446</td>\n",
       "      <td>-0.185826</td>\n",
       "      <td>-0.452455</td>\n",
       "      <td>-0.201201</td>\n",
       "      <td>-0.397695</td>\n",
       "      <td>0.010648</td>\n",
       "    </tr>\n",
       "    <tr>\n",
       "      <th>626965</th>\n",
       "      <td>0.564056</td>\n",
       "      <td>1.495610</td>\n",
       "      <td>-0.195161</td>\n",
       "      <td>1.386182</td>\n",
       "      <td>-1.064303</td>\n",
       "      <td>-1.304623</td>\n",
       "      <td>-0.651700</td>\n",
       "      <td>-0.813587</td>\n",
       "      <td>-1.268894</td>\n",
       "      <td>0.949120</td>\n",
       "      <td>0.460385</td>\n",
       "      <td>0.118718</td>\n",
       "      <td>-0.701636</td>\n",
       "      <td>1.090220</td>\n",
       "      <td>0.729581</td>\n",
       "      <td>-0.185826</td>\n",
       "      <td>1.724593</td>\n",
       "      <td>1.008396</td>\n",
       "      <td>0.982187</td>\n",
       "      <td>-1.091732</td>\n",
       "    </tr>\n",
       "    <tr>\n",
       "      <th>134427</th>\n",
       "      <td>-0.398323</td>\n",
       "      <td>-0.395663</td>\n",
       "      <td>-0.276137</td>\n",
       "      <td>-0.384507</td>\n",
       "      <td>0.095486</td>\n",
       "      <td>2.098599</td>\n",
       "      <td>-1.032969</td>\n",
       "      <td>-0.052316</td>\n",
       "      <td>0.787964</td>\n",
       "      <td>0.168520</td>\n",
       "      <td>-0.360607</td>\n",
       "      <td>0.504901</td>\n",
       "      <td>-1.420290</td>\n",
       "      <td>-1.678404</td>\n",
       "      <td>1.645851</td>\n",
       "      <td>-0.185826</td>\n",
       "      <td>1.916649</td>\n",
       "      <td>-0.381975</td>\n",
       "      <td>-0.895485</td>\n",
       "      <td>-0.793871</td>\n",
       "    </tr>\n",
       "  </tbody>\n",
       "</table>\n",
       "</div>"
      ],
      "text/plain": [
       "         Local-StructuralSetting  Local-QuaternaryFaultRecency  \\\n",
       "851760                  1.219532                      1.907248   \n",
       "918627                 -0.276916                     -0.203856   \n",
       "1528718                -0.092083                     -0.287456   \n",
       "626965                  0.564056                      1.495610   \n",
       "134427                 -0.398323                     -0.395663   \n",
       "\n",
       "         Local-QuaternaryFaultSlipDilation  Local-QuaternaryFaultSlipRate  \\\n",
       "851760                            0.150295                       2.039372   \n",
       "918627                           -0.021599                      -0.403835   \n",
       "1528718                          -0.283656                      -0.019209   \n",
       "626965                           -0.195161                       1.386182   \n",
       "134427                           -0.276137                      -0.384507   \n",
       "\n",
       "         QuaternaryFaultTraces  HorizGravityGradient2  HorizMagneticGradient2  \\\n",
       "851760               -0.211921               1.557584                0.296321   \n",
       "918627               -1.064303              -0.292717               -0.569263   \n",
       "1528718              -0.309676               2.304730               -0.198299   \n",
       "626965               -1.064303              -1.304623               -0.651700   \n",
       "134427                0.095486               2.098599               -1.032969   \n",
       "\n",
       "         GeodeticStrainRate  QuaternarySlipRate  FaultRecency  \\\n",
       "851760            -1.218099            0.455146      0.218541   \n",
       "918627            -0.811781           -0.922382     -1.454516   \n",
       "1528718           -1.537737           -0.428710      0.947958   \n",
       "626965            -0.813587           -1.268894      0.949120   \n",
       "134427            -0.052316            0.787964      0.168520   \n",
       "\n",
       "         FaultSlipDilationTendency2  Earthquakes  Heatflow  GravityDensity  \\\n",
       "851760                     0.639279    -1.200670 -0.469886       -1.447685   \n",
       "918627                    -0.400033    -0.787486  0.507925       -0.986248   \n",
       "1528718                    0.481170    -0.467806 -0.467885       -1.678404   \n",
       "626965                     0.460385     0.118718 -0.701636        1.090220   \n",
       "134427                    -0.360607     0.504901 -1.420290       -1.678404   \n",
       "\n",
       "         MagneticDensity  GeochemistryTemperature2  Silica_Distance  \\\n",
       "851760         -0.644825                 -0.185826         1.339493   \n",
       "918627          0.156912                 -0.185826        -0.351455   \n",
       "1528718         0.271446                 -0.185826        -0.452455   \n",
       "626965          0.729581                 -0.185826         1.724593   \n",
       "134427          1.645851                 -0.185826         1.916649   \n",
       "\n",
       "         TufaOrTravertine_Distance   DEM-30m  \\\n",
       "851760                   -1.021991  0.035613   \n",
       "918627                   -1.018601  0.198104   \n",
       "1528718                  -0.201201 -0.397695   \n",
       "626965                    1.008396  0.982187   \n",
       "134427                   -0.381975 -0.895485   \n",
       "\n",
       "         FavorableStructuralSettings_Distance  \n",
       "851760                              -1.214275  \n",
       "918627                              -0.658516  \n",
       "1528718                              0.010648  \n",
       "626965                              -1.091732  \n",
       "134427                              -0.793871  "
      ]
     },
     "execution_count": 23,
     "metadata": {},
     "output_type": "execute_result"
    }
   ],
   "source": [
    "X_trainAll.head()"
   ]
  },
  {
   "cell_type": "code",
   "execution_count": 24,
   "metadata": {
    "tags": []
   },
   "outputs": [
    {
     "data": {
      "text/plain": [
       "851760     0\n",
       "918627     0\n",
       "1528718    0\n",
       "626965     0\n",
       "134427     0\n",
       "Name: labels, dtype: int64"
      ]
     },
     "execution_count": 24,
     "metadata": {},
     "output_type": "execute_result"
    }
   ],
   "source": [
    "y_trainAll.head()"
   ]
  },
  {
   "cell_type": "code",
   "execution_count": 25,
   "metadata": {
    "tags": []
   },
   "outputs": [
    {
     "name": "stdout",
     "output_type": "stream",
     "text": [
      "(485,) 275\n"
     ]
    }
   ],
   "source": [
    "print(y_trainAll.shape, y_trainAll.sum())"
   ]
  },
  {
   "cell_type": "code",
   "execution_count": 26,
   "metadata": {
    "tags": []
   },
   "outputs": [
    {
     "data": {
      "text/plain": [
       "['Local-StructuralSetting',\n",
       " 'Local-QuaternaryFaultRecency',\n",
       " 'Local-QuaternaryFaultSlipDilation',\n",
       " 'Local-QuaternaryFaultSlipRate',\n",
       " 'QuaternaryFaultTraces',\n",
       " 'HorizGravityGradient2',\n",
       " 'HorizMagneticGradient2',\n",
       " 'GeodeticStrainRate',\n",
       " 'QuaternarySlipRate',\n",
       " 'FaultRecency',\n",
       " 'FaultSlipDilationTendency2',\n",
       " 'Earthquakes',\n",
       " 'Heatflow',\n",
       " 'GravityDensity',\n",
       " 'MagneticDensity',\n",
       " 'GeochemistryTemperature2',\n",
       " 'Silica_Distance',\n",
       " 'TufaOrTravertine_Distance',\n",
       " 'DEM-30m',\n",
       " 'FavorableStructuralSettings_Distance']"
      ]
     },
     "execution_count": 26,
     "metadata": {},
     "output_type": "execute_result"
    }
   ],
   "source": [
    "columns = X_trainAll.columns.to_list()\n",
    "columns"
   ]
  },
  {
   "cell_type": "markdown",
   "metadata": {},
   "source": [
    "## select feature set"
   ]
  },
  {
   "cell_type": "code",
   "execution_count": 27,
   "metadata": {
    "scrolled": true,
    "tags": []
   },
   "outputs": [
    {
     "name": "stdout",
     "output_type": "stream",
     "text": [
      "1\n"
     ]
    }
   ],
   "source": [
    "featureSets = [\n",
    "\n",
    "# MASTER SET 1\n",
    "################################# 0\n",
    "['QuaternaryFaultTraces',\n",
    " 'HorizGravityGradient2',\n",
    " 'HorizMagneticGradient2',\n",
    " 'GeodeticStrainRate',\n",
    " 'QuaternarySlipRate',\n",
    " 'FaultRecency',\n",
    " 'FaultSlipDilationTendency2',\n",
    " 'Earthquakes',\n",
    " 'Heatflow',\n",
    " 'DEM-30m',\n",
    "],\n",
    "\n",
    "]\n",
    "\n",
    "print (len(featureSets))"
   ]
  },
  {
   "cell_type": "code",
   "execution_count": 28,
   "metadata": {
    "tags": []
   },
   "outputs": [],
   "source": [
    "# featureSets"
   ]
  },
  {
   "cell_type": "code",
   "execution_count": 29,
   "metadata": {
    "tags": []
   },
   "outputs": [
    {
     "data": {
      "text/plain": [
       "['QuaternaryFaultTraces',\n",
       " 'HorizGravityGradient2',\n",
       " 'HorizMagneticGradient2',\n",
       " 'GeodeticStrainRate',\n",
       " 'QuaternarySlipRate',\n",
       " 'FaultRecency',\n",
       " 'FaultSlipDilationTendency2',\n",
       " 'Earthquakes',\n",
       " 'Heatflow',\n",
       " 'DEM-30m']"
      ]
     },
     "execution_count": 29,
     "metadata": {},
     "output_type": "execute_result"
    }
   ],
   "source": [
    "feature_set = 0\n",
    "\n",
    "columns = featureSets[feature_set]\n",
    "\n",
    "columns"
   ]
  },
  {
   "cell_type": "markdown",
   "metadata": {},
   "source": [
    "## END data preprocessing"
   ]
  },
  {
   "cell_type": "code",
   "execution_count": null,
   "metadata": {},
   "outputs": [],
   "source": []
  },
  {
   "cell_type": "code",
   "execution_count": null,
   "metadata": {},
   "outputs": [],
   "source": []
  },
  {
   "cell_type": "markdown",
   "metadata": {},
   "source": [
    "## fix input types and dimensions"
   ]
  },
  {
   "cell_type": "code",
   "execution_count": 30,
   "metadata": {
    "tags": []
   },
   "outputs": [],
   "source": [
    "X_train = X_trainAll[columns].copy()\n",
    "X_test = X_testAll[columns].copy()\n",
    "\n",
    "y_train = y_trainAll.copy()\n",
    "y_test = y_testAll.copy()"
   ]
  },
  {
   "cell_type": "code",
   "execution_count": 31,
   "metadata": {
    "tags": []
   },
   "outputs": [
    {
     "data": {
      "text/plain": [
       "10"
      ]
     },
     "execution_count": 31,
     "metadata": {},
     "output_type": "execute_result"
    }
   ],
   "source": [
    "nFeatures = X_train.shape[1]\n",
    "nFeatures"
   ]
  },
  {
   "cell_type": "code",
   "execution_count": 32,
   "metadata": {
    "tags": []
   },
   "outputs": [
    {
     "name": "stdout",
     "output_type": "stream",
     "text": [
      "(485, 10) (485,)\n"
     ]
    }
   ],
   "source": [
    "print (X_train.shape, y_train.shape)"
   ]
  },
  {
   "cell_type": "code",
   "execution_count": null,
   "metadata": {},
   "outputs": [],
   "source": []
  },
  {
   "cell_type": "markdown",
   "metadata": {},
   "source": [
    "### balance dataset method 2: using weighted samplers in the dataloaders"
   ]
  },
  {
   "cell_type": "code",
   "execution_count": 33,
   "metadata": {
    "tags": []
   },
   "outputs": [],
   "source": [
    "if balance == 'weighted':\n",
    "\n",
    "    # training dataloader sampler\n",
    "    sample_weights = [1-class_weights[i] for i in y_train.to_numpy()]\n",
    "    sampler = WeightedRandomSampler(weights=sample_weights, \n",
    "                                    num_samples=len(y_train), replacement=True)\n",
    "\n",
    "    # testing dataloader sampler\n",
    "    sample_weights_test = [1-class_weights[i] for i in y_test.to_numpy()]\n",
    "    sampler_test = WeightedRandomSampler(weights=sample_weights_test, \n",
    "                                         num_samples=len(y_test), replacement=True)"
   ]
  },
  {
   "cell_type": "code",
   "execution_count": null,
   "metadata": {},
   "outputs": [],
   "source": []
  },
  {
   "cell_type": "markdown",
   "metadata": {},
   "source": [
    "# Build model"
   ]
  },
  {
   "cell_type": "markdown",
   "metadata": {},
   "source": [
    "### use GPU"
   ]
  },
  {
   "cell_type": "code",
   "execution_count": 34,
   "metadata": {
    "tags": []
   },
   "outputs": [
    {
     "name": "stdout",
     "output_type": "stream",
     "text": [
      "Using device: cuda\n",
      "\n",
      "NVIDIA GeForce RTX 2070\n",
      "Memory Usage:\n",
      "Allocated: 0.0 GB\n",
      "Cached:    0.0 GB\n"
     ]
    }
   ],
   "source": [
    "# setting device on GPU if available, else CPU\n",
    "DEVICE = torch.device('cuda' if torch.cuda.is_available() else 'cpu')\n",
    "# DEVICE = torch.device('cpu')\n",
    "print('Using device:', DEVICE)\n",
    "print()\n",
    "\n",
    "#Additional Info when using cuda\n",
    "if DEVICE.type == 'cuda':\n",
    "    print(torch.cuda.get_device_name(0))\n",
    "    print('Memory Usage:')\n",
    "    print('Allocated:', round(torch.cuda.memory_allocated(0)/1024**3,1), 'GB')\n",
    "    print('Cached:   ', round(torch.cuda.memory_reserved(0)/1024**3,1), 'GB')"
   ]
  },
  {
   "cell_type": "markdown",
   "metadata": {},
   "source": [
    "## custom dataset class to put random numbers in certain columns each call"
   ]
  },
  {
   "cell_type": "code",
   "execution_count": 35,
   "metadata": {
    "tags": []
   },
   "outputs": [],
   "source": [
    "# class CustomDataset(Dataset):\n",
    "#     def __init__(self, X, y, randomList=[]):\n",
    "#         self.X = X.clone() # without clone this seems to retain changes in original array\n",
    "#         self.y = y.clone()\n",
    "#         self.randomList = randomList\n",
    "        \n",
    "#     def __len__(self):\n",
    "#         return len(self.X)\n",
    "    \n",
    "#     def __getitem__(self, idx):\n",
    "#         if self.randomList:\n",
    "#             self.X[idx,self.randomList] = torch.rand(len(self.randomList))*0\n",
    "#         return self.X[idx], self.y[idx]"
   ]
  },
  {
   "cell_type": "code",
   "execution_count": 36,
   "metadata": {
    "tags": []
   },
   "outputs": [],
   "source": [
    "# # test new custom datasets\n",
    "\n",
    "# features = Tensor(X_train.to_numpy())\n",
    "# labels = Tensor(y_train.to_numpy()).long()\n",
    "\n",
    "# dataset = CustomDataset(features, labels, randomList=[9,10,11,12,13,14])\n",
    "# # dataset = CustomDataset(features, labels)\n",
    "# print('Number of samples in the data: ', len(dataset))\n",
    "# print(dataset[2])\n",
    "# print(dataset[0:5])"
   ]
  },
  {
   "cell_type": "code",
   "execution_count": 37,
   "metadata": {
    "tags": []
   },
   "outputs": [],
   "source": [
    "# feature columns to continually randomize\n",
    "\n",
    "# randomList = [9,10,11,12,13,14]"
   ]
  },
  {
   "cell_type": "markdown",
   "metadata": {},
   "source": [
    "## create datasets and batch loaders"
   ]
  },
  {
   "cell_type": "code",
   "execution_count": 38,
   "metadata": {
    "tags": []
   },
   "outputs": [],
   "source": [
    "###################################################################\n",
    "# Create train dataset from several tensors with matching first dimension\n",
    "features = Tensor(X_train.to_numpy())\n",
    "labels = Tensor(y_train.to_numpy()).long()\n",
    "\n",
    "train_dataset = TensorDataset( features, labels )\n",
    "# train_dataset = CustomDataset( features, labels, randomList ) # randomize certain columns\n",
    "\n",
    "# Create a data loader from the dataset\n",
    "if balance == None or balance == 'truncate':\n",
    "    # Type of sampling and batch size are specified at this step\n",
    "    train_loader = DataLoader(train_dataset, shuffle=True, \n",
    "                              batch_size=BATCH_SIZE, drop_last=True)\n",
    "\n",
    "if balance == 'weighted':\n",
    "    # weighted sampler to balance training data\n",
    "    train_loader = DataLoader(train_dataset, sampler=sampler, \n",
    "                              batch_size=BATCH_SIZE, drop_last=True)\n",
    "\n",
    "###################################################################\n",
    "# Create test dataset from several tensors with matching first dimension\n",
    "features = Tensor(X_test.to_numpy())\n",
    "labels = Tensor(y_test.to_numpy()).long()\n",
    "\n",
    "test_dataset = TensorDataset( features, labels )\n",
    "# test_dataset = CustomDataset( features, labels, randomList ) # randomize certain columns\n",
    "\n",
    "# Create a data loader from the dataset\n",
    "if balance == None or balance == 'truncate':\n",
    "    test_loader = DataLoader(test_dataset, shuffle=False, \n",
    "                             batch_size=BATCH_SIZE, drop_last=True)\n",
    "\n",
    "if balance == 'weighted':\n",
    "    # need this weighted sampler to balance testing data too, \n",
    "    #      otherwise learning curves are odd\n",
    "    # a weighted test_loader is a good substitute for the required weighting \n",
    "    #      of the test accuracy in imbalanced cases ... \n",
    "    #      since accuracies are means over epochs statistics are incorrect without it\n",
    "    #\n",
    "    # test_loader = DataLoader(test_dataset, shuffle=False, \n",
    "    #                          batch_size=BATCH_SIZE, drop_last=False)\n",
    "    # test_loader = DataLoader(test_dataset, sampler=sampler_test, \n",
    "                             # batch_size=BATCH_SIZE, drop_last=False)\n",
    "    test_loader = DataLoader(test_dataset, sampler=sampler_test, \n",
    "                             batch_size=BATCH_SIZE, drop_last=True)    "
   ]
  },
  {
   "cell_type": "markdown",
   "metadata": {},
   "source": [
    "## vanilla pytorch bayes by backprop"
   ]
  },
  {
   "cell_type": "markdown",
   "metadata": {},
   "source": [
    "### global variables"
   ]
  },
  {
   "cell_type": "code",
   "execution_count": 39,
   "metadata": {
    "tags": []
   },
   "outputs": [],
   "source": [
    "TRAIN_SIZE = len(train_loader.dataset)\n",
    "TEST_SIZE = len(test_loader.dataset)\n",
    "\n",
    "NUM_BATCHES = len(train_loader)\n",
    "NUM_TEST_BATCHES = len(test_loader)\n",
    "\n",
    "# CLASSES = 2\n",
    "\n",
    "# SAMPLES = 3\n",
    "# TEST_SAMPLES = 10"
   ]
  },
  {
   "cell_type": "code",
   "execution_count": 40,
   "metadata": {
    "tags": []
   },
   "outputs": [],
   "source": [
    "class Gaussian(object):\n",
    "    def __init__(self, mu, rho):\n",
    "        super().__init__()\n",
    "        self.mu = mu\n",
    "        self.rho = rho\n",
    "        self.normal = torch.distributions.Normal(0,1)\n",
    "    \n",
    "    @property\n",
    "    def sigma(self):\n",
    "        return torch.log1p(torch.exp(self.rho))\n",
    "    \n",
    "    def sample(self):\n",
    "#         epsilon = self.normal.sample(self.rho.size()).to(DEVICE)\n",
    "        epsilon = self.normal.sample().to(DEVICE)\n",
    "        return self.mu + self.sigma * epsilon\n",
    "    \n",
    "    def entropy(self, input):\n",
    "#         entropy = 0.5 * torch.log(2 * math.pi * math.e * self.sigma**2)\n",
    "        entropy = -self.normal.log_prob(input).exp() * self.normal.log_prob(input)\n",
    "        return entropy.sum()\n",
    "\n",
    "    def log_prob(self, input):\n",
    "        return (- math.log(math.sqrt(2 * math.pi))\n",
    "                - torch.log(self.sigma)\n",
    "                - ((input - self.mu) ** 2) / (2 * self.sigma ** 2)).sum()"
   ]
  },
  {
   "cell_type": "code",
   "execution_count": 41,
   "metadata": {
    "tags": []
   },
   "outputs": [],
   "source": [
    "from scipy.stats import gennorm\n",
    "\n",
    "class GenNormal(object):\n",
    "    def __init__(self, beta, scale):\n",
    "        super().__init__()\n",
    "        self.beta = beta.cpu().numpy()\n",
    "        self.scale = scale.cpu().numpy()\n",
    "        self.gennormal = gennorm(self.beta, loc=0.0, scale=self.scale)\n",
    "    \n",
    "    @property\n",
    "    def sigma(self):\n",
    "        return self.gennormal.std()\n",
    "    \n",
    "    def sample(self):\n",
    "        rv = self.gennormal.rvs(self.scale.shape[0])\n",
    "        rv = torch.FloatTensor(rv).to(DEVICE)\n",
    "        return rv\n",
    "    \n",
    "    def entropy(self, input):\n",
    "        x = input.cpu().detach().numpy()\n",
    "        entropy = -self.gennormal.pdf(x) * self.gennormal.logpdf(x)\n",
    "        entropy = torch.FloatTensor(entropy)\n",
    "        return entropy.sum()\n",
    "\n",
    "    def log_prob(self, input):\n",
    "        x = input.cpu().detach().numpy()\n",
    "#         x = input\n",
    "        logprob = self.gennormal.logpdf(x)\n",
    "        logprob = torch.FloatTensor(logprob)\n",
    "        return logprob.sum()"
   ]
  },
  {
   "cell_type": "code",
   "execution_count": 42,
   "metadata": {
    "tags": []
   },
   "outputs": [],
   "source": [
    "class Normal(object):\n",
    "    def __init__(self, scale):\n",
    "        super().__init__()\n",
    "        self.scale = scale\n",
    "        self.normal = torch.distributions.Normal(loc=0.0, scale=self.scale)\n",
    "        \n",
    "    def sample(self):\n",
    "        sample = self.normal.sample().to(DEVICE)\n",
    "        return sample\n",
    "    \n",
    "    def entropy(self):\n",
    "        entropy = self.normal.entropy()\n",
    "        return entropy\n",
    "\n",
    "    def log_prob(self, input):\n",
    "        prob = self.normal.log_prob(input)\n",
    "        return prob.sum()"
   ]
  },
  {
   "cell_type": "markdown",
   "metadata": {},
   "source": [
    "## prior starting parameters"
   ]
  },
  {
   "cell_type": "code",
   "execution_count": 43,
   "metadata": {
    "tags": []
   },
   "outputs": [],
   "source": [
    "BETAw = torch.FloatTensor([10]).to(DEVICE)\n",
    "BETAb = torch.FloatTensor([10]).to(DEVICE)\n",
    "\n",
    "SCALEw = torch.FloatTensor([0.3]).to(DEVICE)\n",
    "SCALEb = torch.FloatTensor([0.3]).to(DEVICE)"
   ]
  },
  {
   "cell_type": "markdown",
   "metadata": {},
   "source": [
    "## view the prior"
   ]
  },
  {
   "cell_type": "code",
   "execution_count": 44,
   "metadata": {
    "tags": []
   },
   "outputs": [],
   "source": [
    "prior = Normal(SCALEw)\n",
    "# prior = GenNormal(BETAw, SCALEw)"
   ]
  },
  {
   "cell_type": "code",
   "execution_count": 45,
   "metadata": {
    "tags": []
   },
   "outputs": [],
   "source": [
    "prior_x = torch.FloatTensor(np.linspace(-10,10,1000))\n",
    "# print(x)\n",
    "# x = (np.linspace(-5,5,1000))\n",
    "prior_pdf = np.array([])\n",
    "for xsample in prior_x:\n",
    "#     xsample = xsample.cpu()\n",
    "    p = np.exp(prior.log_prob(xsample).cpu().numpy())\n",
    "    prior_pdf = np.append(prior_pdf, p)    "
   ]
  },
  {
   "cell_type": "code",
   "execution_count": 46,
   "metadata": {
    "tags": []
   },
   "outputs": [
    {
     "name": "stdout",
     "output_type": "stream",
     "text": [
      "2.915225073526393\n"
     ]
    }
   ],
   "source": [
    "prior_samples=np.array([])\n",
    "for i in range(10000):\n",
    "    sample = prior.sample()\n",
    "    if abs(sample) < 10:\n",
    "        prior_samples = np.append(prior_samples,sample.cpu().detach().numpy())\n",
    "    \n",
    "kurs = kurtosis(prior_samples, fisher=False)\n",
    "\n",
    "print (kurs)"
   ]
  },
  {
   "cell_type": "code",
   "execution_count": 47,
   "metadata": {
    "tags": []
   },
   "outputs": [
    {
     "data": {
      "image/png": "[encoded data removed]",
      "text/plain": [
       "<Figure size 800x300 with 1 Axes>"
      ]
     },
     "metadata": {},
     "output_type": "display_data"
    }
   ],
   "source": [
    "plt.rc('figure', figsize=(8, 3))\n",
    "\n",
    "plt.hist(prior_samples, 50, density=True, label='prior');\n",
    "plt.plot(prior_x, prior_pdf);\n",
    "plt.grid(True)\n",
    "\n",
    "# plt.xlim(-0.5,0.5)\n",
    "\n",
    "plt.title('prior: normal(scale='+str(SCALEw.cpu().numpy()[0])+')');\n",
    "# plt.title('prior: gennormal(beta=10, scale=0.3');\n",
    "# plt.savefig('figures/prior-gennormal.png')\n",
    "\n",
    "# plt.savefig('figures/prior-normal('+str(SCALEw.cpu().numpy()[0])+')'+'.png')\n"
   ]
  },
  {
   "cell_type": "code",
   "execution_count": 48,
   "metadata": {
    "tags": []
   },
   "outputs": [],
   "source": [
    "from sklearn import mixture"
   ]
  },
  {
   "cell_type": "code",
   "execution_count": 49,
   "metadata": {
    "tags": []
   },
   "outputs": [],
   "source": [
    "X = prior_samples.reshape(-1, 1)"
   ]
  },
  {
   "cell_type": "code",
   "execution_count": 50,
   "metadata": {
    "tags": []
   },
   "outputs": [],
   "source": [
    "# gmm = mixture.GaussianMixture(n_components = 2, max_iter=100000, covariance_type='diag').fit(X)\n",
    "gmm = mixture.BayesianGaussianMixture(n_components = 2, max_iter=100000).fit(X)"
   ]
  },
  {
   "cell_type": "code",
   "execution_count": 51,
   "metadata": {
    "tags": []
   },
   "outputs": [
    {
     "name": "stdout",
     "output_type": "stream",
     "text": [
      "[-0.12808932  0.14057298]\n",
      "\n",
      "[0.26758178 0.26404733]\n"
     ]
    }
   ],
   "source": [
    "print (gmm.means_.squeeze())\n",
    "print (\"\")\n",
    "print (np.sqrt(gmm.covariances_).squeeze())"
   ]
  },
  {
   "cell_type": "markdown",
   "metadata": {},
   "source": [
    "## Bayesian modules"
   ]
  },
  {
   "cell_type": "code",
   "execution_count": 52,
   "metadata": {
    "lines_to_next_cell": 1,
    "tags": []
   },
   "outputs": [],
   "source": [
    "class BayesianLinear(nn.Module):\n",
    "    def __init__(self, in_features, out_features):\n",
    "        super().__init__()\n",
    "        \n",
    "        self.in_features = in_features\n",
    "        self.out_features = out_features\n",
    "\n",
    "        # Weight parameters\n",
    "        self.weight_mu  = nn.Parameter(torch.Tensor(out_features, in_features).uniform_(-0.2, 0.2))\n",
    "        self.weight_rho = nn.Parameter(torch.Tensor(out_features, in_features).uniform_(-5,-4))\n",
    "        self.weight = Gaussian(self.weight_mu, self.weight_rho)\n",
    "        \n",
    "        # Bias parameters\n",
    "        self.bias_mu  = nn.Parameter(torch.Tensor(out_features).uniform_(-0.2, 0.2))\n",
    "        self.bias_rho = nn.Parameter(torch.Tensor(out_features).uniform_(-5,-4))\n",
    "        self.bias = Gaussian(self.bias_mu, self.bias_rho)\n",
    "        \n",
    "        # Prior distributions\n",
    "#         self.weight_prior = GenNormal(BETAw, SCALEw)\n",
    "#         self.bias_prior   = GenNormal(BETAb, SCALEb)\n",
    "\n",
    "        self.weight_prior = Normal(SCALEw)\n",
    "        self.bias_prior   = Normal(SCALEb)\n",
    "\n",
    "        self.log_prior = 0\n",
    "        self.log_variational_posterior = 0\n",
    "\n",
    "    def forward(self, input, sample=False, calculate_log_probs=False):\n",
    "        if self.training or sample:\n",
    "            weight = self.weight.sample()\n",
    "            bias = self.bias.sample()\n",
    "        else:\n",
    "            weight = self.weight.mu\n",
    "            bias = self.bias.mu\n",
    "        if self.training or calculate_log_probs:\n",
    "            self.log_prior = self.weight_prior.log_prob(weight) + self.bias_prior.log_prob(bias)\n",
    "            self.log_variational_posterior = self.weight.log_prob(weight) + self.bias.log_prob(bias)\n",
    "        else:\n",
    "            self.log_prior, self.log_variational_posterior = 0, 0\n",
    "\n",
    "        return F.linear(input, weight, bias)"
   ]
  },
  {
   "cell_type": "code",
   "execution_count": 53,
   "metadata": {
    "tags": []
   },
   "outputs": [],
   "source": [
    "class BayesianNetwork(nn.Module):\n",
    "    def __init__(self, nFeatures, nHidden, nLabels, complexityWeight):\n",
    "        super().__init__()\n",
    "        self.nFeatures = nFeatures\n",
    "        self.nHidden   = nHidden\n",
    "        self.nLabels   = nLabels\n",
    "        \n",
    "        self.complexityWeight = complexityWeight\n",
    "        \n",
    "        self.l1 = BayesianLinear(self.nFeatures, self.nHidden)\n",
    "        self.l2 = BayesianLinear(self.nHidden, self.nHidden)\n",
    "        self.l3 = BayesianLinear(self.nHidden, self.nLabels)\n",
    "        \n",
    "        self.LeakyRelu  = nn.LeakyReLU(0.1)\n",
    "        self.BatchNorm  = nn.BatchNorm1d(self.nHidden)\n",
    "        self.dropout    = nn.Dropout(p=0.3)\n",
    "        self.LogSoftmax = nn.LogSoftmax(dim=1)\n",
    "    \n",
    "    def forward(self, x, sample=False):\n",
    "        x = x.view(-1, self.nFeatures)\n",
    "        \n",
    "        x = self.l1(x, sample)\n",
    "#         x = self.BatchNorm(x)\n",
    "        x = self.LeakyRelu(x)\n",
    "\n",
    "        x = self.l2(x, sample)\n",
    "        x = self.LeakyRelu(x)\n",
    "\n",
    "        x = self.l3(x, sample)\n",
    "        x = self.LogSoftmax(x)\n",
    "        \n",
    "        return x\n",
    "    \n",
    "    def mfvi_forward(self, inputs, stat=None, q=None, sample_nbr=10):\n",
    "        \"\"\"\n",
    "        Perform mean-field variational inference for the variational estimator model:\n",
    "            Performs sample_nbr forward passes with uncertainty on the weights, \n",
    "            returning its mean and standard deviation\n",
    "        \"\"\"\n",
    "        # logits from all samples - are these logsoftmax called logits?\n",
    "        logits = torch.stack([self(inputs, sample=True) for _ in range(sample_nbr)])\n",
    "        # convert logits to probability\n",
    "        probability = torch.exp(logits)\n",
    "        \n",
    "        if   stat == 'mean':\n",
    "            value = torch.mean(probability, dim=0)\n",
    "        elif stat == 'stddev':\n",
    "            value = torch.std(probability, dim=0)\n",
    "        elif stat == 'mode':\n",
    "            value, _ = torch.mode(probability, dim=0)\n",
    "        elif stat == 'quantile':\n",
    "            value = torch.quantile(probability, q, dim=0)\n",
    "        else:\n",
    "            value = torch.tensor([0.0])            \n",
    "        return value\n",
    "\n",
    "    def log_prior(self):\n",
    "        return self.l1.log_prior \\\n",
    "               + self.l2.log_prior \\\n",
    "               + self.l3.log_prior\n",
    "    \n",
    "    def log_variational_posterior(self):\n",
    "        return self.l1.log_variational_posterior \\\n",
    "               + self.l2.log_variational_posterior \\\n",
    "               + self.l3.log_variational_posterior\n",
    "    \n",
    "    def get_weights(self, param):\n",
    "        if param == 'samples':\n",
    "            return self.l1.weight.sample(), self.l2.weight.sample(), self.l3.weight.sample()\n",
    "        elif param == 'sigmas':\n",
    "            return self.l1.weight.sigma, self.l2.weight.sigma, self.l3.weight.sigma\n",
    "        elif param == 'means':\n",
    "            return self.l1.weight.mu, self.l2.weight.mu, self.l3.weight.mu\n",
    "    \n",
    "    def get_biases(self, param):\n",
    "        if param == 'samples':\n",
    "            return self.l1.bias.sample(), self.l2.bias.sample(), self.l3.bias.sample()\n",
    "        elif param == 'sigmas':\n",
    "            return self.l1.bias.sigma, self.l2.bias.sigma, self.l3.bias.sigma\n",
    "        elif param == 'means':\n",
    "            return self.l1.bias.mu, self.l2.bias.mu, self.l3.bias.mu\n",
    "\n",
    "    def sample_elbo(self, input, target, samples=3):\n",
    "        outputs = torch.zeros(samples, BATCH_SIZE, self.nLabels).to(DEVICE)\n",
    "        log_priors = torch.zeros(samples).to(DEVICE)\n",
    "        log_variational_posteriors = torch.zeros(samples).to(DEVICE)\n",
    "        \n",
    "        for i in range(samples):\n",
    "            outputs[i] = self(input, sample=True) # this is same as \"forward\"\n",
    "            log_priors[i] = self.log_prior()\n",
    "            log_variational_posteriors[i] = self.log_variational_posterior()\n",
    "\n",
    "        log_prior = log_priors.mean()\n",
    "        log_variational_posterior = log_variational_posteriors.mean()\n",
    "\n",
    "        negative_log_likelihood = F.nll_loss(outputs.mean(0), target, reduction='mean')\n",
    "\n",
    "        loss = self.complexityWeight*(log_variational_posterior - log_prior) + negative_log_likelihood\n",
    "\n",
    "        return loss, log_prior, log_variational_posterior, negative_log_likelihood"
   ]
  },
  {
   "cell_type": "code",
   "execution_count": 54,
   "metadata": {
    "tags": []
   },
   "outputs": [],
   "source": [
    "def train(net, optimizer, epoch):\n",
    "    \n",
    "    ###########\n",
    "    net.train()\n",
    "    total = 0\n",
    "    total_loss = 0.0\n",
    "    total_log_prior = 0.0\n",
    "    total_log_variational_posterior = 0.0\n",
    "    total_negative_log_likelihood = 0.0\n",
    "    for batch_idx, (features, labels) in enumerate(train_loader):\n",
    "        features, labels = features.to(DEVICE), labels.to(DEVICE)\n",
    "        net.zero_grad()\n",
    "        loss, log_prior, log_variational_posterior, negative_log_likelihood = net.sample_elbo(features, labels)\n",
    "        loss.backward()\n",
    "        optimizer.step()\n",
    "        total += labels.size(0)\n",
    "        total_loss += loss.cpu().detach().numpy()\n",
    "        total_log_prior += log_prior.cpu().detach().numpy()\n",
    "        total_log_variational_posterior += log_variational_posterior.cpu().detach().numpy()\n",
    "        total_negative_log_likelihood += negative_log_likelihood.cpu().detach().numpy()\n",
    "        \n",
    "    epoch_loss = total_loss / total\n",
    "    epoch_log_prior = total_log_prior / total\n",
    "    epoch_log_variational_posterior = total_log_variational_posterior / total\n",
    "    epoch_negative_log_likelihood = total_negative_log_likelihood / total\n",
    "\n",
    "    ###########\n",
    "    net.eval()\n",
    "    # average train accuracy per epoch ... since this is an average they should be weighted\n",
    "    correct = 0\n",
    "    total = 0\n",
    "    with torch.no_grad():\n",
    "        for data in train_loader:\n",
    "            features, labels = data\n",
    "            outputs = net(features.to(DEVICE), sample=True)\n",
    "            _, predicted = torch.max(outputs.data, 1)\n",
    "            total += labels.size(0)\n",
    "            correct += (predicted == labels.to(DEVICE)).sum().item()\n",
    "\n",
    "    epoch_train_acc = 100 * correct / total\n",
    "    \n",
    "    # average test accuracy per epoch ... since this is an average they should be weighted\n",
    "    correct = 0\n",
    "    total = 0\n",
    "    with torch.no_grad():\n",
    "        for data in test_loader:\n",
    "            features, labels = data\n",
    "            outputs = net(features.to(DEVICE), sample=True)\n",
    "            _, predicted = torch.max(outputs.data, 1)\n",
    "            total += labels.size(0)\n",
    "            correct += (predicted == labels.to(DEVICE)).sum().item()\n",
    "\n",
    "    epoch_test_acc = 100 * correct / total\n",
    "\n",
    "    return epoch_loss, epoch_train_acc, epoch_test_acc, \\\n",
    "            epoch_log_prior, epoch_log_variational_posterior, epoch_negative_log_likelihood"
   ]
  },
  {
   "cell_type": "code",
   "execution_count": 55,
   "metadata": {
    "tags": []
   },
   "outputs": [],
   "source": [
    "def evaluate(net, epoch):\n",
    "    \n",
    "    ###########\n",
    "    net.eval()\n",
    "    total = 0\n",
    "    total_loss = 0.0\n",
    "    total_log_prior = 0.0\n",
    "    total_log_variational_posterior = 0.0\n",
    "    total_negative_log_likelihood = 0.0\n",
    "    for batch_idx, (features, labels) in enumerate(train_loader):\n",
    "        features, labels = features.to(DEVICE), labels.to(DEVICE)\n",
    "#         net.zero_grad()\n",
    "        loss, log_prior, log_variational_posterior, negative_log_likelihood = net.sample_elbo(features, labels)\n",
    "#         loss.backward()\n",
    "#         optimizer.step()\n",
    "        total += labels.size(0)\n",
    "        total_loss += loss.cpu().detach().numpy()\n",
    "        total_log_prior += log_prior.cpu().detach().numpy()\n",
    "        total_log_variational_posterior += log_variational_posterior.cpu().detach().numpy()\n",
    "        total_negative_log_likelihood += negative_log_likelihood.cpu().detach().numpy()\n",
    "        \n",
    "    epoch_loss = total_loss / total\n",
    "    epoch_log_prior = total_log_prior / total\n",
    "    epoch_log_variational_posterior = total_log_variational_posterior / total\n",
    "    epoch_negative_log_likelihood = total_negative_log_likelihood / total\n",
    "\n",
    "    ###########\n",
    "    net.eval()\n",
    "    # average train accuracy per epoch\n",
    "    correct = 0\n",
    "    total = 0\n",
    "    with torch.no_grad():\n",
    "        for data in train_loader:\n",
    "            features, labels = data\n",
    "            outputs = net(features.to(DEVICE), sample=True)\n",
    "            _, predicted = torch.max(outputs.data, 1)\n",
    "            total += labels.size(0)\n",
    "            correct += (predicted == labels.to(DEVICE)).sum().item()\n",
    "\n",
    "    epoch_train_acc = 100 * correct / total\n",
    "    \n",
    "    # average test accuracy per epoch\n",
    "    correct = 0\n",
    "    total = 0\n",
    "    with torch.no_grad():\n",
    "        for data in test_loader:\n",
    "            features, labels = data\n",
    "            outputs = net(features.to(DEVICE), sample=True)\n",
    "            _, predicted = torch.max(outputs.data, 1)\n",
    "            total += labels.size(0)\n",
    "            correct += (predicted == labels.to(DEVICE)).sum().item()\n",
    "\n",
    "    epoch_test_acc = 100 * correct / total\n",
    "\n",
    "    return epoch_loss, epoch_train_acc, epoch_test_acc, \\\n",
    "            epoch_log_prior, epoch_log_variational_posterior, epoch_negative_log_likelihood"
   ]
  },
  {
   "cell_type": "markdown",
   "metadata": {},
   "source": [
    "## model instance"
   ]
  },
  {
   "cell_type": "markdown",
   "metadata": {},
   "source": [
    "### settings"
   ]
  },
  {
   "cell_type": "code",
   "execution_count": 56,
   "metadata": {
    "tags": []
   },
   "outputs": [
    {
     "name": "stdout",
     "output_type": "stream",
     "text": [
      "complexity weight =  0.00487551867219917\n"
     ]
    }
   ],
   "source": [
    "# total number of probabilistic weights + biases\n",
    "nHidden = 16\n",
    "nLabels = 2\n",
    "nBayesianModules = nFeatures*nHidden + \\\n",
    "                     nHidden*nHidden + \\\n",
    "                     nHidden*nLabels + \\\n",
    "                     nHidden + nHidden + nLabels\n",
    "\n",
    "weightScale = ALPHA\n",
    "\n",
    "complexityWeight = weightScale/nBayesianModules\n",
    "\n",
    "print ('complexity weight = ',complexityWeight)"
   ]
  },
  {
   "cell_type": "code",
   "execution_count": 57,
   "metadata": {
    "tags": []
   },
   "outputs": [],
   "source": [
    "net = BayesianNetwork(nFeatures, nHidden, nLabels, complexityWeight).to(DEVICE)"
   ]
  },
  {
   "cell_type": "code",
   "execution_count": 58,
   "metadata": {
    "tags": []
   },
   "outputs": [
    {
     "name": "stdout",
     "output_type": "stream",
     "text": [
      "===================================================================================================================\n",
      "Layer (type:depth-idx)                   Input Shape               Output Shape              Param #\n",
      "===================================================================================================================\n",
      "├─BayesianLinear: 1-1                    [-1, 10]                  [-1, 16]                  352\n",
      "|    └─weight_mu\n",
      "|    └─weight_rho\n",
      "├─LeakyReLU: 1-2                         [-1, 16]                  [-1, 16]                  --\n",
      "├─BayesianLinear: 1-3                    [-1, 16]                  [-1, 16]                  544\n",
      "|    └─weight_mu\n",
      "|    └─weight_rho\n",
      "├─LeakyReLU: 1-4                         [-1, 16]                  [-1, 16]                  --\n",
      "├─BayesianLinear: 1-5                    [-1, 16]                  [-1, 2]                   68\n",
      "|    └─weight_mu\n",
      "|    └─weight_rho\n",
      "├─LogSoftmax: 1-6                        [-1, 2]                   [-1, 2]                   --\n",
      "===================================================================================================================\n",
      "Total params: 964\n",
      "Trainable params: 964\n",
      "Non-trainable params: 0\n",
      "Total mult-adds (M): 0.00\n",
      "===================================================================================================================\n",
      "Input size (MB): 0.01\n",
      "Forward/backward pass size (MB): 0.00\n",
      "Params size (MB): 0.00\n",
      "Estimated Total Size (MB): 0.01\n",
      "===================================================================================================================\n"
     ]
    }
   ],
   "source": [
    "summary(net, features.shape, col_names=(\"input_size\", \"output_size\", \"num_params\"), verbose=2, depth=2);"
   ]
  },
  {
   "cell_type": "markdown",
   "metadata": {},
   "source": [
    "## view starting weights and biases"
   ]
  },
  {
   "cell_type": "code",
   "execution_count": 59,
   "metadata": {
    "lines_to_next_cell": 2,
    "tags": []
   },
   "outputs": [
    {
     "name": "stdout",
     "output_type": "stream",
     "text": [
      "-0.0037849487 0.11646534\n",
      "-0.029149616 0.098973885\n"
     ]
    }
   ],
   "source": [
    "param = 'means'\n",
    "weights = np.hstack([net.get_weights(param)[0].cpu().detach().numpy().flatten(), \n",
    "                     net.get_weights(param)[1].cpu().detach().numpy().flatten(),\n",
    "                     net.get_weights(param)[2].cpu().detach().numpy().flatten()])\n",
    "biases  = np.hstack([net.get_biases(param)[0].cpu().detach().numpy().flatten(), \n",
    "                     net.get_biases(param)[1].cpu().detach().numpy().flatten(),\n",
    "                     net.get_biases(param)[2].cpu().detach().numpy().flatten()])\n",
    "\n",
    "print (weights.mean(), weights.std())\n",
    "print (biases.mean(), biases.std())"
   ]
  },
  {
   "cell_type": "code",
   "execution_count": 60,
   "metadata": {
    "tags": []
   },
   "outputs": [
    {
     "data": {
      "text/plain": [
       "(448,)"
      ]
     },
     "execution_count": 60,
     "metadata": {},
     "output_type": "execute_result"
    }
   ],
   "source": [
    "weights.shape"
   ]
  },
  {
   "cell_type": "code",
   "execution_count": 61,
   "metadata": {
    "tags": []
   },
   "outputs": [
    {
     "data": {
      "image/png": "[encoded data removed]",
      "text/plain": [
       "<Figure size 1600x400 with 2 Axes>"
      ]
     },
     "metadata": {},
     "output_type": "display_data"
    }
   ],
   "source": [
    "plt.rc('figure', figsize=(16, 4))\n",
    "\n",
    "plt.subplot(121)\n",
    "plt.hist(weights,50);\n",
    "plt.grid(True)\n",
    "plt.title('starting weight means')\n",
    "\n",
    "plt.subplot(122)\n",
    "plt.hist(biases,10);\n",
    "plt.grid(True)\n",
    "plt.title('starting bias means');\n",
    "\n",
    "# plt.savefig('figures/starting_weights_biases.png')"
   ]
  },
  {
   "cell_type": "code",
   "execution_count": 62,
   "metadata": {
    "tags": []
   },
   "outputs": [
    {
     "name": "stdout",
     "output_type": "stream",
     "text": [
      "1.8395381599661857 2.0209216516293145\n"
     ]
    }
   ],
   "source": [
    "kurw = kurtosis(weights, fisher=False)\n",
    "kurb = kurtosis(biases, fisher=False)\n",
    "\n",
    "print (kurw, kurb)"
   ]
  },
  {
   "cell_type": "markdown",
   "metadata": {},
   "source": [
    "# train model"
   ]
  },
  {
   "cell_type": "code",
   "execution_count": 63,
   "metadata": {
    "tags": []
   },
   "outputs": [],
   "source": [
    "optimizer = optim.Adam(net.parameters(), lr=0.001)"
   ]
  },
  {
   "cell_type": "code",
   "execution_count": 64,
   "metadata": {
    "tags": []
   },
   "outputs": [],
   "source": [
    "# scheduler = optim.lr_scheduler.StepLR(optimizer, step_size=100, gamma=0.5)\n",
    "scheduler = optim.lr_scheduler.ReduceLROnPlateau(optimizer, patience=100, factor=0.5, verbose=True)"
   ]
  },
  {
   "cell_type": "code",
   "execution_count": 65,
   "metadata": {
    "tags": []
   },
   "outputs": [
    {
     "data": {
      "application/vnd.jupyter.widget-view+json": {
       "model_id": "a51856ebd6164e0d8eb0d43b5b2b16b7",
       "version_major": 2,
       "version_minor": 0
      },
      "text/plain": [
       "  0%|          | 0/1000 [00:00<?, ?it/s]"
      ]
     },
     "metadata": {},
     "output_type": "display_data"
    },
    {
     "name": "stdout",
     "output_type": "stream",
     "text": [
      "Epoch 00639: reducing learning rate of group 0 to 5.0000e-04.\n",
      "Epoch 00740: reducing learning rate of group 0 to 2.5000e-04.\n",
      "Epoch 00841: reducing learning rate of group 0 to 1.2500e-04.\n",
      "Epoch 00942: reducing learning rate of group 0 to 6.2500e-05.\n"
     ]
    }
   ],
   "source": [
    "epoch_train_loss = []\n",
    "epoch_train_acc = []\n",
    "epoch_test_acc = []\n",
    "\n",
    "epoch_logprior = []\n",
    "epoch_logvarprior = []\n",
    "epoch_negloglikelihood = []\n",
    "\n",
    "for epoch in tqdm(range(TRAIN_EPOCHS)):\n",
    "    \n",
    "    eloss, etrain_acc, etest_acc, elogprior, elogvarprior, enegloglikelihood \\\n",
    "        = train(net, optimizer, epoch)\n",
    "    \n",
    "    # adjust learning rate\n",
    "    # scheduler.step()\n",
    "    scheduler.step(eloss)\n",
    "    \n",
    "    epoch_train_loss.append(eloss)\n",
    "    epoch_train_acc.append(etrain_acc)\n",
    "    epoch_test_acc.append(etest_acc)\n",
    "    \n",
    "    epoch_logprior.append(elogprior)\n",
    "    epoch_logvarprior.append(elogvarprior)\n",
    "    epoch_negloglikelihood.append(enegloglikelihood)            \n",
    "        \n",
    "train_loss = np.asarray(epoch_train_loss)\n",
    "train_acc = np.asarray(epoch_train_acc)\n",
    "test_acc = np.asarray(epoch_test_acc)\n",
    "\n",
    "train_logprior = np.asarray(epoch_logprior)\n",
    "train_logvarprior = np.asarray(epoch_logvarprior)\n",
    "train_negloglikelihood = np.asarray(epoch_negloglikelihood)\n"
   ]
  },
  {
   "cell_type": "markdown",
   "metadata": {},
   "source": [
    "## learning curves"
   ]
  },
  {
   "cell_type": "code",
   "execution_count": 66,
   "metadata": {
    "lines_to_next_cell": 0,
    "tags": []
   },
   "outputs": [
    {
     "data": {
      "image/png": "[encoded data removed]",
      "text/plain": [
       "<Figure size 1600x400 with 2 Axes>"
      ]
     },
     "metadata": {},
     "output_type": "display_data"
    }
   ],
   "source": [
    "plt.rc('figure', figsize=(16, 4))\n",
    "\n",
    "# plt.suptitle('learning curves: prior=norm'+str(BETAw.cpu().numpy())+\n",
    "#              ', '+str(SCALEw.cpu().numpy())+'), complexity_weight='+str(weightScale))\n",
    "\n",
    "plt.subplot(121)\n",
    "plt.plot(train_loss, label='train')\n",
    "# plt.plot(test_loss, label='test')\n",
    "plt.ylabel('loss')\n",
    "plt.legend()\n",
    "plt.grid(True)\n",
    "\n",
    "plt.subplot(122)\n",
    "plt.plot(train_acc, label='train')\n",
    "plt.plot(test_acc, label='test')\n",
    "plt.ylabel('accuracy')\n",
    "plt.legend()\n",
    "# plt.ylim([50,100])\n",
    "plt.grid(True)\n",
    "\n",
    "\n",
    "# plt.savefig('figures/learning_curves1_prior-0_0.1_0.5_complexityWeight-4.png')\n",
    "# plt.savefig('figures/learningCurves1_priorNormal0.3_complexityWeight3_featureSet2.png')"
   ]
  },
  {
   "cell_type": "code",
   "execution_count": 67,
   "metadata": {
    "tags": []
   },
   "outputs": [
    {
     "data": {
      "image/png": "[encoded data removed]",
      "text/plain": [
       "<Figure size 1600x400 with 2 Axes>"
      ]
     },
     "metadata": {},
     "output_type": "display_data"
    }
   ],
   "source": [
    "plt.rc('figure', figsize=(16, 4))\n",
    "\n",
    "# plt.suptitle('learning curves: prior=norm'+str(BETAw.cpu().numpy())+\n",
    "#              ', '+str(SCALEw.cpu().numpy())+'), complexity_weight='+str(weightScale))\n",
    "\n",
    "plt.subplot(121)\n",
    "plt.plot(train_negloglikelihood, label='negloglikelihood')\n",
    "# plt.plot(test_loss, label='test')\n",
    "plt.ylabel('data fit loss')\n",
    "plt.legend()\n",
    "plt.grid(True)\n",
    "\n",
    "plt.subplot(122)\n",
    "plt.plot((train_logvarprior - train_logprior), label='complexity cost')\n",
    "plt.plot(train_logvarprior, label='logvarprior')\n",
    "plt.plot(train_logprior, label='logprior')\n",
    "plt.ylabel('cost components')\n",
    "plt.legend()\n",
    "# plt.ylim([50,100])\n",
    "plt.grid(True)\n",
    "\n",
    "# plt.savefig('figures/learning_curves2_prior-0_0.1_0.5_complexityWeight-4.png')\n",
    "# plt.savefig('figures/learningCurves2_priorNormal0.3_complexityWeight52_TC2.png')"
   ]
  },
  {
   "cell_type": "markdown",
   "metadata": {},
   "source": [
    "# Evaluate model"
   ]
  },
  {
   "cell_type": "markdown",
   "metadata": {},
   "source": [
    "## statistics"
   ]
  },
  {
   "cell_type": "code",
   "execution_count": 68,
   "metadata": {
    "lines_to_next_cell": 2,
    "tags": []
   },
   "outputs": [
    {
     "name": "stdout",
     "output_type": "stream",
     "text": [
      "0.0032437055 0.09800366\n",
      "0.027473401 0.114612244\n",
      "35.79783565941384 4.753361723443161\n"
     ]
    }
   ],
   "source": [
    "param = 'means'\n",
    "\n",
    "weightsM = np.hstack([net.get_weights(param)[0].cpu().detach().numpy().flatten(), \n",
    "                     net.get_weights(param)[1].cpu().detach().numpy().flatten(),\n",
    "                     net.get_weights(param)[2].cpu().detach().numpy().flatten()])\n",
    "biasesM  = np.hstack([net.get_biases(param)[0].cpu().detach().numpy().flatten(), \n",
    "                     net.get_biases(param)[1].cpu().detach().numpy().flatten(),\n",
    "                     net.get_biases(param)[2].cpu().detach().numpy().flatten()])\n",
    "\n",
    "kurw = kurtosis(weightsM, fisher=False)\n",
    "kurb = kurtosis(biasesM, fisher=False)\n",
    "\n",
    "print (weightsM.mean(), weightsM.std())\n",
    "print (biasesM.mean(), biasesM.std())\n",
    "print (kurw, kurb)"
   ]
  },
  {
   "cell_type": "code",
   "execution_count": 69,
   "metadata": {
    "lines_to_next_cell": 2,
    "tags": []
   },
   "outputs": [
    {
     "name": "stdout",
     "output_type": "stream",
     "text": [
      "0.2904822 0.015591968\n",
      "0.28109622 0.022895418\n",
      "15.485780228433226 5.3732074854164145\n"
     ]
    }
   ],
   "source": [
    "param = 'sigmas'\n",
    "\n",
    "weightsS = np.hstack([net.get_weights(param)[0].cpu().detach().numpy().flatten(), \n",
    "                     net.get_weights(param)[1].cpu().detach().numpy().flatten(),\n",
    "                     net.get_weights(param)[2].cpu().detach().numpy().flatten()])\n",
    "biasesS  = np.hstack([net.get_biases(param)[0].cpu().detach().numpy().flatten(), \n",
    "                     net.get_biases(param)[1].cpu().detach().numpy().flatten(),\n",
    "                     net.get_biases(param)[2].cpu().detach().numpy().flatten()])\n",
    "\n",
    "kurw = kurtosis(weightsS, fisher=False)\n",
    "kurb = kurtosis(biasesS, fisher=False)\n",
    "\n",
    "print (weightsS.mean(), weightsS.std())\n",
    "print (biasesS.mean(), biasesS.std())\n",
    "print (kurw, kurb)"
   ]
  },
  {
   "cell_type": "code",
   "execution_count": 70,
   "metadata": {
    "lines_to_next_cell": 2,
    "tags": []
   },
   "outputs": [],
   "source": [
    "param = 'samples'\n",
    "weight_samples = np.array([])\n",
    "for i in range(1000):\n",
    "    sample = np.hstack([net.get_weights(param)[0].cpu().detach().numpy().flatten(), \n",
    "                net.get_weights(param)[1].cpu().detach().numpy().flatten(),\n",
    "                net.get_weights(param)[2].cpu().detach().numpy().flatten()])\n",
    "    weight_samples = np.append(weight_samples,sample)"
   ]
  },
  {
   "cell_type": "code",
   "execution_count": 71,
   "metadata": {
    "lines_to_end_of_cell_marker": 2,
    "tags": []
   },
   "outputs": [
    {
     "data": {
      "image/png": "[encoded data removed]",
      "text/plain": [
       "<Figure size 1600x400 with 2 Axes>"
      ]
     },
     "metadata": {},
     "output_type": "display_data"
    }
   ],
   "source": [
    "plt.rc('figure', figsize=(16, 4))\n",
    "\n",
    "plt.subplot(121)\n",
    "plt.hist(weightsM,50,density=True);\n",
    "plt.title('posterior weight means')\n",
    "plt.grid(True)\n",
    "\n",
    "plt.subplot(122)\n",
    "plt.hist(biasesM,10,density=True);\n",
    "plt.title('posterior bias means')\n",
    "plt.grid(True)"
   ]
  },
  {
   "cell_type": "markdown",
   "metadata": {},
   "source": [
    "## fit probability model to use for prior next time"
   ]
  },
  {
   "cell_type": "code",
   "execution_count": 72,
   "metadata": {
    "lines_to_next_cell": 2,
    "tags": []
   },
   "outputs": [],
   "source": [
    "X = weightsM.copy().reshape(-1, 1)"
   ]
  },
  {
   "cell_type": "markdown",
   "metadata": {},
   "source": [
    "### gennorm"
   ]
  },
  {
   "cell_type": "code",
   "execution_count": 73,
   "metadata": {
    "tags": []
   },
   "outputs": [
    {
     "name": "stdout",
     "output_type": "stream",
     "text": [
      "(0.27298925694897885, -0.0037000256441347525, 5.05952113649301e-05)\n"
     ]
    }
   ],
   "source": [
    "params = gennorm.fit(X)\n",
    "\n",
    "print (params)"
   ]
  },
  {
   "cell_type": "code",
   "execution_count": 74,
   "metadata": {
    "tags": []
   },
   "outputs": [],
   "source": [
    "gennorm_params = params\n",
    "\n",
    "# gennorm_params = (0.27, 0.0002, 0.0002)"
   ]
  },
  {
   "cell_type": "markdown",
   "metadata": {},
   "source": [
    "### gmm"
   ]
  },
  {
   "cell_type": "code",
   "execution_count": 75,
   "metadata": {
    "tags": []
   },
   "outputs": [],
   "source": [
    "# gmm = mixture.GaussianMixture(n_components = 2, max_iter=1000, covariance_type='full').fit(X)\n",
    "gmm = mixture.BayesianGaussianMixture(n_components = 2, max_iter=1000).fit(X)"
   ]
  },
  {
   "cell_type": "code",
   "execution_count": 76,
   "metadata": {
    "tags": []
   },
   "outputs": [
    {
     "name": "stdout",
     "output_type": "stream",
     "text": [
      "[-0.00087793  0.04245895]\n",
      "\n",
      "[0.01433811 0.31200105]\n"
     ]
    }
   ],
   "source": [
    "print (gmm.means_.squeeze())\n",
    "print (\"\")\n",
    "print (np.sqrt(gmm.covariances_).squeeze())"
   ]
  },
  {
   "cell_type": "code",
   "execution_count": 77,
   "metadata": {
    "tags": []
   },
   "outputs": [],
   "source": [
    "x=np.linspace(-3,3,1000).reshape(-1, 1)\n",
    "\n",
    "# gennorm fit\n",
    "gennorm_pdf = gennorm.pdf(x,gennorm_params[0],loc=gennorm_params[1],scale=gennorm_params[2])\n",
    "\n",
    "# gmm firt\n",
    "logprob = gmm.score_samples(x)\n",
    "gmm_pdf = np.exp(logprob)"
   ]
  },
  {
   "cell_type": "code",
   "execution_count": 78,
   "metadata": {
    "tags": []
   },
   "outputs": [
    {
     "data": {
      "image/png": "[encoded data removed]",
      "text/plain": [
       "<Figure size 1600x400 with 2 Axes>"
      ]
     },
     "metadata": {},
     "output_type": "display_data"
    }
   ],
   "source": [
    "# x=np.linspace(-,1,1000)\n",
    "# cdf = gennorm.cdf(x,params[0],loc=params[1],scale=params[2])\n",
    "\n",
    "# plt.suptitle('posterior weight means fit gennorm('+str(params)+')');\n",
    "\n",
    "plt.rc('figure', figsize=(16, 4))\n",
    "\n",
    "plt.subplot(121)\n",
    "plt.hist(weightsM,50, density=True);\n",
    "# plt.plot(x,gennorm_pdf, label='gennorm fit')\n",
    "plt.plot(x,gmm_pdf, label='gmm fit')\n",
    "plt.title('posterior weight means')\n",
    "plt.grid(True)\n",
    "plt.legend()\n",
    "# plt.xlim(-0.1,0.1)\n",
    "plt.xlim(-1,1)\n",
    "\n",
    "plt.subplot(122)\n",
    "plt.hist(biasesM,10, density=True);\n",
    "plt.title('posterior bias means')\n",
    "plt.grid(True)\n",
    "\n",
    "# plt.savefig('figures/posteriors_prior-0_0.1_0.5_complexityWeight-4.png')\n",
    "# plt.savefig('figures/posteriors_priorNormal0.3_complexityWeight52.png')"
   ]
  },
  {
   "cell_type": "code",
   "execution_count": 79,
   "metadata": {
    "tags": []
   },
   "outputs": [],
   "source": [
    "final_differential_entropy = gennorm.entropy(params[0],loc=params[1],scale=params[2])"
   ]
  },
  {
   "cell_type": "code",
   "execution_count": 80,
   "metadata": {
    "tags": []
   },
   "outputs": [],
   "source": [
    "# initial_differential_entropy = gennorm.entropy(BETAw.cpu().numpy(),loc=0,scale=SCALEw.cpu().numpy())\n",
    "initial_differential_entropy = prior.entropy().cpu().detach().numpy()[0]"
   ]
  },
  {
   "cell_type": "code",
   "execution_count": 81,
   "metadata": {
    "tags": []
   },
   "outputs": [
    {
     "name": "stdout",
     "output_type": "stream",
     "text": [
      "0.2149657 -2.851764294713246 3.0667299958164564\n"
     ]
    }
   ],
   "source": [
    "entropy_change = initial_differential_entropy - final_differential_entropy\n",
    "\n",
    "print (initial_differential_entropy, final_differential_entropy, entropy_change)\n",
    "\n",
    "s0 = 'S_prior  = '+\"{:.2f}\".format(initial_differential_entropy)\n",
    "s1 = 'S_posterior  = '+\"{:.2f}\".format(final_differential_entropy)\n",
    "s2 = 'S_change = '+\"{:.2f}\".format(entropy_change)"
   ]
  },
  {
   "cell_type": "code",
   "execution_count": 82,
   "metadata": {
    "scrolled": true,
    "tags": []
   },
   "outputs": [
    {
     "data": {
      "text/plain": [
       "Text(0.05, 0.95, 'Differential Entropy\\nS_prior  = 0.21\\nS_posterior  = -2.85\\nS_change = 3.07')"
      ]
     },
     "execution_count": 82,
     "metadata": {},
     "output_type": "execute_result"
    },
    {
     "data": {
      "image/png": "[encoded data removed]",
      "text/plain": [
       "<Figure size 1600x400 with 1 Axes>"
      ]
     },
     "metadata": {},
     "output_type": "display_data"
    }
   ],
   "source": [
    "plt.rc('figure', figsize=(16, 4))\n",
    "\n",
    "fig, ax = plt.subplots()\n",
    "\n",
    "ax.hist(prior_samples, 50, density=True)\n",
    "ax.plot(prior_x, prior_pdf, label='prior')\n",
    "ax.hist(weightsM,50, density=True);\n",
    "# ax.plot(x,gennorm_pdf, label='gennorm fit')\n",
    "ax.plot(x,gmm_pdf, label='gmm fit')\n",
    "plt.title('posterior weight means')\n",
    "ax.grid(True)\n",
    "ax.legend()\n",
    "plt.xlim(-1,1)\n",
    "# plt.xlim(-0.1,0.1)\n",
    "\n",
    "\n",
    "textstr = '\\n'.join(('Differential Entropy', s0, s1, s2))\n",
    "\n",
    "props = dict(boxstyle='round', facecolor='wheat', alpha=0.5)\n",
    "\n",
    "# place a text box in upper left in axes coords\n",
    "ax.text(0.05, 0.95, textstr, transform=ax.transAxes, fontsize=14,\n",
    "        verticalalignment='top', bbox=props)\n",
    "\n",
    "# plt.savefig('figures/posteriors2_priorNormal0.3_complexityWeight52.png')"
   ]
  },
  {
   "cell_type": "markdown",
   "metadata": {},
   "source": [
    "### gmm"
   ]
  },
  {
   "cell_type": "code",
   "execution_count": 83,
   "metadata": {
    "tags": []
   },
   "outputs": [],
   "source": [
    "# gmm = mixture.GaussianMixture(n_components = 2, max_iter=1000, covariance_type='full').fit(X)\n",
    "gmm = mixture.BayesianGaussianMixture(n_components = 3).fit(X)"
   ]
  },
  {
   "cell_type": "code",
   "execution_count": 84,
   "metadata": {
    "tags": []
   },
   "outputs": [
    {
     "data": {
      "image/png": "[encoded data removed]",
      "text/plain": [
       "<Figure size 1600x400 with 1 Axes>"
      ]
     },
     "metadata": {},
     "output_type": "display_data"
    }
   ],
   "source": [
    "x=np.linspace(-0.5,0.5,1000).reshape(-1, 1)\n",
    "logprob = gmm.score_samples(x)\n",
    "\n",
    "plt.plot(x,np.exp(logprob))\n",
    "plt.hist(weightsM, 50, density=True);"
   ]
  },
  {
   "cell_type": "code",
   "execution_count": 85,
   "metadata": {
    "tags": []
   },
   "outputs": [
    {
     "name": "stdout",
     "output_type": "stream",
     "text": [
      "[-0.00293347  0.03986192  0.02152333]\n",
      "\n",
      "[0.01135679 0.35733569 0.03378974]\n"
     ]
    }
   ],
   "source": [
    "print (gmm.means_.squeeze())\n",
    "print (\"\")\n",
    "print (np.sqrt(gmm.covariances_).squeeze())"
   ]
  },
  {
   "cell_type": "code",
   "execution_count": 86,
   "metadata": {
    "scrolled": true,
    "tags": []
   },
   "outputs": [
    {
     "data": {
      "image/png": "[encoded data removed]",
      "text/plain": [
       "<Figure size 1600x400 with 2 Axes>"
      ]
     },
     "metadata": {},
     "output_type": "display_data"
    }
   ],
   "source": [
    "plt.rc('figure', figsize=(16, 4))\n",
    "\n",
    "plt.subplot(121)\n",
    "plt.hist(weightsS,100);\n",
    "\n",
    "plt.subplot(122)\n",
    "plt.hist(biasesS,50);"
   ]
  },
  {
   "cell_type": "markdown",
   "metadata": {},
   "source": [
    "## look at signal/noise in weights for possible pruning"
   ]
  },
  {
   "cell_type": "code",
   "execution_count": 87,
   "metadata": {
    "tags": []
   },
   "outputs": [],
   "source": [
    "weightsS2N = weightsM/weightsS"
   ]
  },
  {
   "cell_type": "code",
   "execution_count": 88,
   "metadata": {
    "tags": []
   },
   "outputs": [
    {
     "name": "stderr",
     "output_type": "stream",
     "text": [
      "/tmp/ipykernel_15016/725836840.py:5: MatplotlibDeprecationWarning: Auto-removal of overlapping axes is deprecated since 3.6 and will be removed two minor releases later; explicitly call ax.remove() as needed.\n",
      "  plt.subplot(311)\n"
     ]
    },
    {
     "data": {
      "text/plain": [
       "<matplotlib.legend.Legend at 0x7fb78a4c2a10>"
      ]
     },
     "execution_count": 88,
     "metadata": {},
     "output_type": "execute_result"
    },
    {
     "data": {
      "image/png": "[encoded data removed]",
      "text/plain": [
       "<Figure size 1200x900 with 3 Axes>"
      ]
     },
     "metadata": {},
     "output_type": "display_data"
    }
   ],
   "source": [
    "plt.rc('figure', figsize=(12, 9))\n",
    "\n",
    "plt.title('weights posterior parameters')\n",
    "\n",
    "plt.subplot(311)\n",
    "plt.hist(weightsM, 50, density=True, label='means');\n",
    "plt.hist(weightsS, 50, density=True, label='sigmas');\n",
    "# plt.hist(np.abs(weightsS2N), 50, density=False, label='s2n', alpha=0.5);\n",
    "plt.grid(True)\n",
    "# plt.xlim(-0.5,3)\n",
    "# plt.ylim(0,10)\n",
    "plt.legend()\n",
    "plt.title('weights posterior parameters')\n",
    "\n",
    "plt.subplot(312)\n",
    "plt.hist(weight_samples, 100, density=True, label='samples');\n",
    "plt.grid(True)\n",
    "plt.xlim(-1,1)\n",
    "plt.ylim(0,10)\n",
    "plt.legend()\n",
    "\n",
    "plt.subplot(313)\n",
    "# plt.hist(weightsM, 50, density=True, label='means');\n",
    "# plt.hist(weightsS, 50, density=True, label='sigmas');\n",
    "plt.hist(np.abs(weightsS2N), 50, density=False, histtype='step',\n",
    "                           cumulative=-1, label='s2n', linewidth=2);\n",
    "# plt.hist(np.abs(weightsS2N), 50, density=False, histtype='step',\n",
    "#                            cumulative=True, label='s2n', linewidth=2);\n",
    "# plt.hist(np.abs(weightsS2N), 50, density=True);\n",
    "plt.grid(True)\n",
    "# plt.xlim(-0.5,3)\n",
    "plt.ylim(0,100)\n",
    "plt.legend()\n",
    "\n",
    "# plt.savefig('figures/posteriors3_priorNormal0.3_complexityWeight52.png')"
   ]
  },
  {
   "cell_type": "markdown",
   "metadata": {},
   "source": [
    "## save model"
   ]
  },
  {
   "cell_type": "code",
   "execution_count": 89,
   "metadata": {
    "tags": []
   },
   "outputs": [
    {
     "name": "stdout",
     "output_type": "stream",
     "text": [
      "BNN_model_trial_2.35.torch\n"
     ]
    }
   ],
   "source": [
    "model_filename = 'BNN_model_trial_'+str(ALPHA)+'.torch'\n",
    "print (model_filename)\n",
    "torch.save(net, model_filename)"
   ]
  },
  {
   "cell_type": "markdown",
   "metadata": {},
   "source": [
    "## save learning curve data"
   ]
  },
  {
   "cell_type": "code",
   "execution_count": 90,
   "metadata": {
    "tags": []
   },
   "outputs": [],
   "source": [
    "# traintest_filename = 'bayesian_traintest_'+ \\\n",
    "#                     'group'+str(grp)+'_'+ \\\n",
    "#                     'featureSet'+str(feature_set)+'.pkl'"
   ]
  },
  {
   "cell_type": "code",
   "execution_count": 91,
   "metadata": {
    "lines_to_next_cell": 0,
    "tags": []
   },
   "outputs": [],
   "source": [
    "# traintest_dict = {'group': grp, 'feature_set': feature_set, \n",
    "#                   'train_loss': train_loss, \n",
    "#                   'train_acc': train_acc, \n",
    "#                   'test_acc': test_acc}\n",
    "\n",
    "# # write python dict to a file\n",
    "# output = open(traintest_filename, 'wb')\n",
    "# pickle.dump(traintest_dict, output)\n",
    "# output.close()\n",
    "\n",
    "# # read python dict back from the file\n",
    "# pkl_file = open(traintest_filename, 'rb')\n",
    "# traintest_dict2 = pickle.load(pkl_file)\n",
    "# pkl_file.close()\n",
    "\n",
    "# print (traintest_dict)\n",
    "# print (traintest_dict2)"
   ]
  },
  {
   "cell_type": "code",
   "execution_count": 92,
   "metadata": {},
   "outputs": [
    {
     "ename": "NameError",
     "evalue": "name 'xxx' is not defined",
     "output_type": "error",
     "traceback": [
      "\u001b[0;31m---------------------------------------------------------------------------\u001b[0m",
      "\u001b[0;31mNameError\u001b[0m                                 Traceback (most recent call last)",
      "Cell \u001b[0;32mIn[92], line 1\u001b[0m\n\u001b[0;32m----> 1\u001b[0m \u001b[43mxxx\u001b[49m\n",
      "\u001b[0;31mNameError\u001b[0m: name 'xxx' is not defined"
     ]
    }
   ],
   "source": [
    "xxx"
   ]
  },
  {
   "cell_type": "markdown",
   "metadata": {},
   "source": [
    "# Extra Stuff"
   ]
  },
  {
   "cell_type": "code",
   "execution_count": null,
   "metadata": {},
   "outputs": [],
   "source": []
  },
  {
   "cell_type": "markdown",
   "metadata": {},
   "source": [
    "## evaluate the classifier"
   ]
  },
  {
   "cell_type": "code",
   "execution_count": null,
   "metadata": {
    "lines_to_next_cell": 2,
    "tags": []
   },
   "outputs": [],
   "source": [
    "X = X_test.to_numpy()\n",
    "y = y_test.to_numpy()\n",
    "\n",
    "# X = np.vstack((X_train.to_numpy(), X_test.to_numpy()))\n",
    "# y = np.hstack((y_train.to_numpy(), y_test.to_numpy()))"
   ]
  },
  {
   "cell_type": "code",
   "execution_count": null,
   "metadata": {
    "tags": []
   },
   "outputs": [],
   "source": [
    "net.eval()\n",
    "\n",
    "net.to(DEVICE)\n",
    "features = Tensor(X).to(DEVICE)\n",
    "\n",
    "with torch.no_grad():\n",
    "    p = net.mfvi_forward(features, stat='mean', q=None, sample_nbr=1024)\n",
    "    s = net.mfvi_forward(features, stat='stddev', q=None, sample_nbr=1024)\n",
    "    q = net.mfvi_forward(features, stat='quantile', q=0.1, sample_nbr=1024)\n"
   ]
  },
  {
   "cell_type": "code",
   "execution_count": null,
   "metadata": {
    "tags": []
   },
   "outputs": [],
   "source": [
    "ypred = p[:,1].cpu()\n",
    "ystd = s[:,1].cpu()\n",
    "yq = q[:,1].cpu()"
   ]
  },
  {
   "cell_type": "code",
   "execution_count": null,
   "metadata": {
    "tags": []
   },
   "outputs": [],
   "source": [
    "plt.rc('figure', figsize=(12, 3))\n",
    "\n",
    "plt.hist(ypred,50, label='mean');\n",
    "plt.hist(yq, 50, alpha=0.5, label='quantile=0.1');\n",
    "plt.legend()\n",
    "\n",
    "plt.grid(True)"
   ]
  },
  {
   "cell_type": "code",
   "execution_count": null,
   "metadata": {
    "lines_to_next_cell": 2,
    "tags": []
   },
   "outputs": [],
   "source": [
    "# p_mean = torch.softmax(m.cpu().detach(), dim=1).numpy()\n",
    "\n",
    "# confLevel= '68%';  nstddev = 1\n",
    "# # confLevel= '95%';  nstddev = 2\n",
    "# # confLevel= '99.7%'; nstddev = 3\n",
    "\n",
    "# p_min = torch.softmax(torch.stack((m[:,0]+nstddev*s[:,0], m[:,1]-nstddev*s[:,1])).T, dim=1).cpu().detach().numpy()\n",
    "# p_max = torch.softmax(torch.stack((m[:,0]-nstddev*s[:,0], m[:,1]+nstddev*s[:,1])).T, dim=1).cpu().detach().numpy()\n",
    "\n",
    "# ypred = p_mean[:,1]\n",
    "# # ypred = p_min[:,1]\n",
    "# # ypred = p_max[:,1]\n"
   ]
  },
  {
   "cell_type": "code",
   "execution_count": null,
   "metadata": {
    "tags": []
   },
   "outputs": [],
   "source": [
    "def to_class(ypred,threshold):\n",
    "    yclass = np.zeros(ypred.shape,dtype='int')\n",
    "    yclass[ypred > threshold] = 1\n",
    "    return yclass\n",
    "\n",
    "def CrossEntropyLoss(ypred, y):\n",
    "    if y == 1:\n",
    "        loss = -np.log(ypred)\n",
    "    else:\n",
    "        loss = -np.log(1 - ypred)\n",
    "    return loss"
   ]
  },
  {
   "cell_type": "code",
   "execution_count": null,
   "metadata": {
    "lines_to_next_cell": 2,
    "tags": []
   },
   "outputs": [],
   "source": [
    "threshold = 0.5\n",
    "\n",
    "yclass = to_class(ypred, threshold)\n",
    "pred_positives = np.sum(yclass)\n",
    "\n",
    "d = y-yclass\n",
    "true_positives = np.sum(y)\n",
    "false_positives = np.sum(np.abs(d[d==-1]))\n",
    "false_negatives = np.sum(d[d==1])\n",
    "\n",
    "accuracy = float(pred_positives)/float(true_positives)\n",
    "precision = true_positives/(true_positives + false_positives)\n",
    "recall = true_positives/(true_positives + false_negatives)\n",
    "print (pred_positives, true_positives, false_positives, false_negatives)\n",
    "print (accuracy, precision, recall)\n"
   ]
  },
  {
   "cell_type": "code",
   "execution_count": null,
   "metadata": {
    "lines_to_end_of_cell_marker": 2,
    "lines_to_next_cell": 2,
    "tags": []
   },
   "outputs": [],
   "source": [
    "from sklearn.metrics import classification_report\n",
    "from sklearn.metrics import f1_score, precision_score, recall_score, confusion_matrix\n",
    "\n",
    "y_true = y.squeeze()\n",
    "y_pred = yclass.squeeze() \n",
    "# labels = ['noise', 'event']\n",
    "\n",
    "# print (y_true)\n",
    "\n",
    "# # # Print f1, precision, and recall scores\n",
    "# print(precision_score(y_true, y_pred, average=\"macro\"))\n",
    "# print(recall_score(y_true, y_pred , average=\"macro\"))\n",
    "# print(f1_score(y_true, y_pred , average=\"macro\"))\n",
    "print('Report for Trained Classifier')\n",
    "print(classification_report(y_true, y_pred))\n",
    "\n",
    "print('')\n",
    "print('Confusion Matrix')\n",
    "print('[true negative  false positive]')\n",
    "print('[false negative  true positive]')\n",
    "print('')\n",
    "print(confusion_matrix(y_true, y_pred))\n",
    "print('')"
   ]
  },
  {
   "cell_type": "code",
   "execution_count": null,
   "metadata": {
    "tags": []
   },
   "outputs": [],
   "source": [
    "print(precision_score(y_true, y_pred, average=\"macro\"))\n",
    "print(recall_score(y_true, y_pred , average=\"macro\"))\n",
    "print(f1_score(y_true, y_pred , average=\"macro\"))\n",
    "# print(classification_report(y_true, y_pred))"
   ]
  },
  {
   "cell_type": "code",
   "execution_count": null,
   "metadata": {
    "tags": []
   },
   "outputs": [],
   "source": [
    "ypred.shape"
   ]
  },
  {
   "cell_type": "code",
   "execution_count": null,
   "metadata": {
    "tags": []
   },
   "outputs": [],
   "source": [
    "# roc curve and auc\n",
    "from sklearn.metrics import roc_curve, auc\n",
    "from sklearn.metrics import roc_auc_score\n",
    "\n",
    "fpr, tpr, thresholds = roc_curve(y, ypred)\n",
    "\n",
    "roc_auc = auc(fpr, tpr)"
   ]
  },
  {
   "cell_type": "code",
   "execution_count": null,
   "metadata": {
    "tags": []
   },
   "outputs": [],
   "source": [
    "plt.rc('figure', figsize=(6,6))\n",
    "\n",
    "lw = 2\n",
    "plt.plot(fpr, tpr, color='darkorange',\n",
    "         lw=lw, label='ROC curve (area = %0.2f)' % roc_auc)\n",
    "plt.plot([0, 1], [0, 1], color='navy', lw=lw, linestyle='--')\n",
    "plt.xlim([0.0, 1.0])\n",
    "plt.ylim([0.0, 1.05])\n",
    "plt.xlabel('False Positive Rate')\n",
    "plt.ylabel('True Positive Rate')\n",
    "plt.title('Receiver operating characteristic')\n",
    "\n",
    "# idx4 = np.where(np.abs(thresholds)>=0.4)[0][-1]\n",
    "idx5 = np.where(np.abs(thresholds)>=0.5)[0][-1]\n",
    "idx6 = np.where(np.abs(thresholds)>=0.6)[0][-1]\n",
    "idx7 = np.where(np.abs(thresholds)>=0.7)[0][-1]\n",
    "idx8 = np.where(np.abs(thresholds)>=0.8)[0][-1]\n",
    "idx9 = np.where(np.abs(thresholds)<=0.9)[0][-1]\n",
    "\n",
    "# plt.plot(fpr[idx4],tpr[idx4],'o', label='threshold=0.4')\n",
    "plt.plot(fpr[idx5],tpr[idx5],'o', label='threshold=0.5')\n",
    "plt.plot(fpr[idx6],tpr[idx6],'o', label='threshold=0.6')\n",
    "plt.plot(fpr[idx7],tpr[idx7],'o', label='threshold=0.7')\n",
    "plt.plot(fpr[idx8],tpr[idx8],'o', label='threshold=0.8')\n",
    "plt.plot(fpr[idx9],tpr[idx9],'o', label='threshold=0.9')\n",
    "\n",
    "plt.legend(loc=\"lower right\")\n",
    "\n",
    "plt.grid(True)\n",
    "\n",
    "# plt.savefig('figures/roc.png')"
   ]
  },
  {
   "cell_type": "markdown",
   "metadata": {},
   "source": [
    "“A receiver operating characteristic (ROC), or simply ROC curve, is a graphical plot which illustrates the performance of a binary classifier system as its discrimination threshold is varied. It is created by plotting the fraction of true positives out of the positives (TPR = true positive rate) vs. the fraction of false positives out of the negatives (FPR = false positive rate), at various threshold settings. TPR is also known as sensitivity, and FPR is one minus the specificity or true negative rate.”"
   ]
  },
  {
   "cell_type": "code",
   "execution_count": null,
   "metadata": {
    "tags": []
   },
   "outputs": [],
   "source": [
    "from sklearn.metrics import precision_recall_curve\n",
    "\n",
    "precision, recall, thresholds = precision_recall_curve(y, ypred)"
   ]
  },
  {
   "cell_type": "code",
   "execution_count": null,
   "metadata": {
    "lines_to_next_cell": 2,
    "tags": []
   },
   "outputs": [],
   "source": [
    "plt.rc('figure', figsize=(6,6))\n",
    "\n",
    "lw = 2\n",
    "plt.plot(recall, precision, color='darkorange',\n",
    "         lw=lw, label='PR curve')\n",
    "# plt.plot([0, 1], [0, 1], color='navy', lw=lw, linestyle='--')\n",
    "# plt.xlim([0.0, 1.0])\n",
    "# plt.ylim([0.0, 1.05])\n",
    "plt.xlabel('Precision')\n",
    "plt.ylabel('Recall')\n",
    "plt.title('Precision / Recall Curve')\n",
    "\n",
    "idx5 = np.where(np.abs(thresholds)<=0.5)[0][-1]\n",
    "idx6 = np.where(np.abs(thresholds)<=0.6)[0][-1]\n",
    "idx7 = np.where(np.abs(thresholds)<=0.7)[0][-1]\n",
    "idx8 = np.where(np.abs(thresholds)<=0.8)[0][-1]\n",
    "idx9 = np.where(np.abs(thresholds)<=0.9)[0][-1]\n",
    "\n",
    "plt.plot(recall[idx5],precision[idx5],'o', label='threshold=0.5')\n",
    "plt.plot(recall[idx6],precision[idx6],'o', label='threshold=0.6')\n",
    "plt.plot(recall[idx7],precision[idx7],'o', label='threshold=0.7')\n",
    "plt.plot(recall[idx8],precision[idx8],'o', label='threshold=0.8')\n",
    "plt.plot(recall[idx9],precision[idx9],'o', label='threshold=0.9')\n",
    "\n",
    "plt.legend(loc=\"lower center\")\n",
    "\n",
    "plt.grid(True)\n"
   ]
  },
  {
   "cell_type": "markdown",
   "metadata": {},
   "source": [
    "## Global Sensitivity Analysis"
   ]
  },
  {
   "cell_type": "markdown",
   "metadata": {
    "tags": []
   },
   "source": [
    "### in Sobel and Delta methods can choose to use either log probability (logsoftmax) or probability exp(logsoftmax) as output to look at. Integrated Gradients uses output of network which is log probability"
   ]
  },
  {
   "cell_type": "code",
   "execution_count": null,
   "metadata": {
    "tags": []
   },
   "outputs": [],
   "source": [
    "Samples2Evaluate = 128"
   ]
  },
  {
   "cell_type": "markdown",
   "metadata": {},
   "source": [
    "## Sobol analysis"
   ]
  },
  {
   "cell_type": "code",
   "execution_count": null,
   "metadata": {
    "tags": []
   },
   "outputs": [],
   "source": [
    "import SALib as salib\n",
    "# from SALib.sample import sobol\n",
    "from SALib.sample import saltelli\n",
    "from SALib.analyze import sobol\n",
    "\n",
    "from SALib.plotting.bar import plot as barplot"
   ]
  },
  {
   "cell_type": "code",
   "execution_count": null,
   "metadata": {
    "lines_to_next_cell": 2,
    "tags": []
   },
   "outputs": [],
   "source": [
    "Xtest = torch.Tensor(X_test.to_numpy())\n",
    "# Xtest = torch.Tensor(X_train.to_numpy())\n",
    "ytest = torch.Tensor(y_test.to_numpy())\n",
    "\n",
    "ytest[:20]"
   ]
  },
  {
   "cell_type": "code",
   "execution_count": null,
   "metadata": {
    "tags": []
   },
   "outputs": [],
   "source": [
    "with torch.no_grad():\n",
    "    preds = net.mfvi_forward(Xtest.to(DEVICE), stat='mean', q=None, sample_nbr=Samples2Evaluate)\n",
    "    # preds = net.forward(Xtest.to(DEVICE)).cpu().detach()\n",
    "    # preds = torch.exp(preds)\n",
    "preds = np.argmax(preds.cpu().numpy(), axis=1)\n",
    "preds[:20]\n",
    "# np.argmax(torch.softmax(preds, dim=1).numpy(), axis=1)"
   ]
  },
  {
   "cell_type": "markdown",
   "metadata": {},
   "source": [
    "### choose specific example where we want to evaluate sensitivity"
   ]
  },
  {
   "cell_type": "code",
   "execution_count": null,
   "metadata": {
    "tags": []
   },
   "outputs": [],
   "source": [
    "test_index = 0\n",
    "# test_index = 5"
   ]
  },
  {
   "cell_type": "code",
   "execution_count": null,
   "metadata": {
    "tags": []
   },
   "outputs": [],
   "source": [
    "Xtrue = X_test.to_numpy()[test_index].copy()"
   ]
  },
  {
   "cell_type": "code",
   "execution_count": null,
   "metadata": {
    "tags": []
   },
   "outputs": [],
   "source": [
    "# Xtrue"
   ]
  },
  {
   "cell_type": "code",
   "execution_count": null,
   "metadata": {
    "tags": []
   },
   "outputs": [],
   "source": [
    "bounds = np.zeros((nFeatures,2))\n",
    "bounds[:,0] = -0.2*np.abs(Xtrue)\n",
    "bounds[:,1] = 0.2*np.abs(Xtrue)\n",
    "\n",
    "bounds = bounds.tolist()"
   ]
  },
  {
   "cell_type": "code",
   "execution_count": null,
   "metadata": {
    "tags": []
   },
   "outputs": [],
   "source": [
    "# Define the model inputs\n",
    "problem = {\n",
    "    'num_vars': nFeatures,\n",
    "    'names':  featureSets[feature_set],\n",
    "    'bounds': bounds\n",
    "}"
   ]
  },
  {
   "cell_type": "code",
   "execution_count": null,
   "metadata": {
    "tags": []
   },
   "outputs": [],
   "source": [
    "problem"
   ]
  },
  {
   "cell_type": "code",
   "execution_count": null,
   "metadata": {
    "lines_to_next_cell": 2,
    "tags": []
   },
   "outputs": [],
   "source": [
    "# Generate samples\n",
    "Xsample = saltelli.sample(problem, 1024)\n",
    "# Xsample = salib.sample.sobol(problem, 1024)"
   ]
  },
  {
   "cell_type": "code",
   "execution_count": null,
   "metadata": {
    "tags": []
   },
   "outputs": [],
   "source": [
    "Xsample.shape"
   ]
  },
  {
   "cell_type": "code",
   "execution_count": null,
   "metadata": {
    "tags": []
   },
   "outputs": [],
   "source": [
    "Xsample[0]"
   ]
  },
  {
   "cell_type": "code",
   "execution_count": null,
   "metadata": {
    "tags": []
   },
   "outputs": [],
   "source": [
    "Xtrue"
   ]
  },
  {
   "cell_type": "code",
   "execution_count": null,
   "metadata": {
    "tags": []
   },
   "outputs": [],
   "source": [
    "Xtrue + Xsample[0]"
   ]
  },
  {
   "cell_type": "code",
   "execution_count": null,
   "metadata": {
    "tags": []
   },
   "outputs": [],
   "source": [
    "def evalSensitivity(Xsample, Xtrue, fixColumns=None, model=None):\n",
    "    \n",
    "    X0 = Xtrue.copy()\n",
    "    X0 = torch.Tensor(X0)\n",
    "    \n",
    "    model.eval()\n",
    "\n",
    "    with torch.no_grad():\n",
    "        p = net.mfvi_forward(X0.to(DEVICE), stat='mean', q=None, sample_nbr=Samples2Evaluate)\n",
    "        # p = net.forward(X0.to(DEVICE))\n",
    "        # p = torch.exp(p)\n",
    "        m = p.squeeze() # means\n",
    "    \n",
    "    p_mean0 = m.cpu().detach().numpy()\n",
    "       \n",
    "    outputs0 = np.array([p_mean0[1]])\n",
    "    \n",
    "    outputs = []\n",
    "    for i in trange(len(Xsample)):\n",
    "    \n",
    "        X = Xtrue + Xsample[i]\n",
    "        if fixColumns:\n",
    "            X[fixColumns] = Xtrue[fixColumns]\n",
    "\n",
    "        X = torch.Tensor(X)\n",
    "\n",
    "        with torch.no_grad():\n",
    "            p = net.mfvi_forward(X.to(DEVICE), stat='mean', q=None, sample_nbr=Samples2Evaluate)\n",
    "            # p = net.forward(X.to(DEVICE))\n",
    "            # p = torch.exp(p)\n",
    "            m = p.squeeze() # means\n",
    "\n",
    "        p_mean = m.cpu().detach().numpy()\n",
    "        \n",
    "        out = np.array([p_mean[1]])\n",
    "        \n",
    "        outputs.append(out)\n",
    "        \n",
    "    outputs = np.asarray(outputs)\n",
    "\n",
    "    return outputs, outputs0"
   ]
  },
  {
   "cell_type": "code",
   "execution_count": null,
   "metadata": {
    "lines_to_next_cell": 2,
    "tags": []
   },
   "outputs": [],
   "source": [
    "Y, Y0 = evalSensitivity(Xsample, Xtrue, fixColumns=[], model=net)"
   ]
  },
  {
   "cell_type": "code",
   "execution_count": null,
   "metadata": {
    "tags": []
   },
   "outputs": [],
   "source": [
    "Y, Y0"
   ]
  },
  {
   "cell_type": "code",
   "execution_count": null,
   "metadata": {
    "tags": []
   },
   "outputs": [],
   "source": [
    "# save sensitivity analysis to pickle file\n",
    "\n",
    "sensitivity_dict = {'feature_set': feature_set, \n",
    "                  'Y': Y, 'Y0': Y0, \n",
    "                  'problem': problem,\n",
    "                  'Xsample': Xsample, 'Xtrue': Xtrue}\n",
    "\n",
    "# write python dict to a file\n",
    "# output = open('sensitivity.pkl', 'wb')\n",
    "# pickle.dump(sensitivity_dict, output)\n",
    "# output.close()\n",
    "\n",
    "# # read python dict back from the file\n",
    "# pkl_file = open('sensitivity.pkl', 'rb')\n",
    "# sensitivity_dict2 = pickle.load(pkl_file)\n",
    "# pkl_file.close()\n",
    "\n",
    "# print (sensitivity_dict2)\n"
   ]
  },
  {
   "cell_type": "code",
   "execution_count": null,
   "metadata": {
    "tags": []
   },
   "outputs": [],
   "source": [
    "Y.shape"
   ]
  },
  {
   "cell_type": "code",
   "execution_count": null,
   "metadata": {
    "tags": []
   },
   "outputs": [],
   "source": [
    "# Perform analysis\n",
    "Si = sobol.analyze(problem, Y[:,0], print_to_console=False)"
   ]
  },
  {
   "cell_type": "code",
   "execution_count": null,
   "metadata": {
    "tags": []
   },
   "outputs": [],
   "source": [
    "# Print the first-order sensitivity indices\n",
    "print(Si['S1'])"
   ]
  },
  {
   "cell_type": "code",
   "execution_count": null,
   "metadata": {
    "tags": []
   },
   "outputs": [],
   "source": [
    "Si_df = Si.to_df()"
   ]
  },
  {
   "cell_type": "code",
   "execution_count": null,
   "metadata": {
    "tags": []
   },
   "outputs": [],
   "source": [
    "Si_df[0]"
   ]
  },
  {
   "cell_type": "code",
   "execution_count": null,
   "metadata": {
    "tags": []
   },
   "outputs": [],
   "source": [
    "Si_df[0].sort_values(['ST'],ascending=False)"
   ]
  },
  {
   "cell_type": "code",
   "execution_count": null,
   "metadata": {
    "tags": []
   },
   "outputs": [],
   "source": [
    "plt.rc('figure', figsize=(12, 4))\n",
    "\n",
    "barplot(Si_df[0])\n",
    "plt.grid(True)\n",
    "\n",
    "plt.tight_layout()"
   ]
  },
  {
   "cell_type": "code",
   "execution_count": null,
   "metadata": {
    "scrolled": true,
    "tags": []
   },
   "outputs": [],
   "source": [
    "Si_df[1]"
   ]
  },
  {
   "cell_type": "code",
   "execution_count": null,
   "metadata": {
    "tags": []
   },
   "outputs": [],
   "source": [
    "plt.rc('figure', figsize=(12, 4))\n",
    "\n",
    "barplot(Si_df[1])\n",
    "plt.grid(True)\n",
    "\n",
    "plt.tight_layout()"
   ]
  },
  {
   "cell_type": "code",
   "execution_count": null,
   "metadata": {
    "tags": []
   },
   "outputs": [],
   "source": [
    "Si_df[2]"
   ]
  },
  {
   "cell_type": "markdown",
   "metadata": {
    "lines_to_next_cell": 2
   },
   "source": [
    "## Delta Moment-Independent Measure"
   ]
  },
  {
   "cell_type": "code",
   "execution_count": null,
   "metadata": {
    "tags": []
   },
   "outputs": [],
   "source": [
    "from SALib.sample import latin\n",
    "from SALib.analyze import delta"
   ]
  },
  {
   "cell_type": "code",
   "execution_count": null,
   "metadata": {
    "tags": []
   },
   "outputs": [],
   "source": [
    "bounds = np.zeros((nFeatures,2))\n",
    "bounds[:,0] = -0.2*np.abs(Xtrue)\n",
    "bounds[:,1] = 0.2*np.abs(Xtrue)\n",
    "\n",
    "bounds = bounds.tolist()"
   ]
  },
  {
   "cell_type": "code",
   "execution_count": null,
   "metadata": {
    "tags": []
   },
   "outputs": [],
   "source": [
    "# Define the model inputs\n",
    "problem = {\n",
    "    'num_vars': nFeatures,\n",
    "    'names':  featureSets[feature_set],\n",
    "    'bounds': bounds\n",
    "}"
   ]
  },
  {
   "cell_type": "code",
   "execution_count": null,
   "metadata": {
    "tags": []
   },
   "outputs": [],
   "source": [
    "# Generate samples\n",
    "# nsamples = 10000\n",
    "nsamples = 1024\n",
    "Xsample = latin.sample(problem, nsamples) # This is Set 1"
   ]
  },
  {
   "cell_type": "code",
   "execution_count": null,
   "metadata": {
    "tags": []
   },
   "outputs": [],
   "source": [
    "Xsample.shape"
   ]
  },
  {
   "cell_type": "code",
   "execution_count": null,
   "metadata": {
    "tags": []
   },
   "outputs": [],
   "source": [
    "Y, Y0 = evalSensitivity(Xsample, Xtrue, model=net)"
   ]
  },
  {
   "cell_type": "code",
   "execution_count": null,
   "metadata": {
    "tags": []
   },
   "outputs": [],
   "source": [
    "Y.shape"
   ]
  },
  {
   "cell_type": "code",
   "execution_count": null,
   "metadata": {
    "lines_to_next_cell": 2,
    "scrolled": true,
    "tags": []
   },
   "outputs": [],
   "source": [
    "# Perform analysis\n",
    "results0 = delta.analyze(problem, Xsample, Y.squeeze(), print_to_console=True)"
   ]
  },
  {
   "cell_type": "code",
   "execution_count": null,
   "metadata": {
    "tags": []
   },
   "outputs": [],
   "source": [
    "results0_df = results0.to_df()"
   ]
  },
  {
   "cell_type": "code",
   "execution_count": null,
   "metadata": {
    "tags": []
   },
   "outputs": [],
   "source": [
    "# Si_df['delta_significant'] = Si_df['delta_conf'] / Si_df['delta']\n",
    "# Si_df['Sobol_significant'] = Si_df['S1_conf'] / Si_df['S1']"
   ]
  },
  {
   "cell_type": "code",
   "execution_count": null,
   "metadata": {
    "tags": []
   },
   "outputs": [],
   "source": [
    "results0_df"
   ]
  },
  {
   "cell_type": "code",
   "execution_count": null,
   "metadata": {
    "tags": []
   },
   "outputs": [],
   "source": [
    "plt.rc('figure', figsize=(12, 4))\n",
    "\n",
    "barplot(results0_df)\n",
    "plt.grid(True)\n",
    "\n",
    "plt.tight_layout()\n",
    "\n",
    "# plt.savefig('sensitivity_delta_analysis.png')"
   ]
  },
  {
   "cell_type": "code",
   "execution_count": null,
   "metadata": {
    "tags": []
   },
   "outputs": [],
   "source": [
    "# Sort factors by importance\n",
    "factors_sorted = np.argsort(results0['delta'])[::-1].tolist()\n",
    "# factors_sorted = np.argsort(results0['S1'])[::-1].tolist()"
   ]
  },
  {
   "cell_type": "code",
   "execution_count": null,
   "metadata": {
    "tags": []
   },
   "outputs": [],
   "source": [
    "factors_sorted"
   ]
  },
  {
   "cell_type": "code",
   "execution_count": null,
   "metadata": {
    "tags": []
   },
   "outputs": [],
   "source": [
    "results_sorted_df = results0_df.iloc[factors_sorted,:].copy()"
   ]
  },
  {
   "cell_type": "code",
   "execution_count": null,
   "metadata": {
    "tags": []
   },
   "outputs": [],
   "source": [
    "plt.rc('figure', figsize=(12, 4))\n",
    "\n",
    "barplot(results_sorted_df)\n",
    "plt.grid(True)\n",
    "\n",
    "plt.tight_layout()\n"
   ]
  },
  {
   "cell_type": "markdown",
   "metadata": {},
   "source": [
    "### print names of top features"
   ]
  },
  {
   "cell_type": "code",
   "execution_count": null,
   "metadata": {
    "tags": []
   },
   "outputs": [],
   "source": [
    "print(results_sorted_df.index[:12].tolist())"
   ]
  },
  {
   "cell_type": "markdown",
   "metadata": {},
   "source": [
    "### fix first feature and look at sensitivity to rest"
   ]
  },
  {
   "cell_type": "code",
   "execution_count": null,
   "metadata": {
    "tags": []
   },
   "outputs": [],
   "source": [
    "Y, Y0 = evalSensitivity(Xsample, Xtrue, fixColumns=factors_sorted[0], model=net)"
   ]
  },
  {
   "cell_type": "code",
   "execution_count": null,
   "metadata": {
    "lines_to_next_cell": 2,
    "scrolled": true,
    "tags": []
   },
   "outputs": [],
   "source": [
    "# Perform analysis\n",
    "results1 = delta.analyze(problem, Xsample, Y.squeeze(), print_to_console=True)"
   ]
  },
  {
   "cell_type": "code",
   "execution_count": null,
   "metadata": {
    "tags": []
   },
   "outputs": [],
   "source": [
    "results1_df = results1.to_df()"
   ]
  },
  {
   "cell_type": "code",
   "execution_count": null,
   "metadata": {
    "tags": []
   },
   "outputs": [],
   "source": [
    "# Si_df['delta_significant'] = Si_df['delta_conf'] / Si_df['delta']\n",
    "# Si_df['Sobol_significant'] = Si_df['S1_conf'] / Si_df['S1']"
   ]
  },
  {
   "cell_type": "code",
   "execution_count": null,
   "metadata": {
    "tags": []
   },
   "outputs": [],
   "source": [
    "results1_df"
   ]
  },
  {
   "cell_type": "code",
   "execution_count": null,
   "metadata": {
    "tags": []
   },
   "outputs": [],
   "source": [
    "plt.rc('figure', figsize=(12,4))\n",
    "\n",
    "barplot(results1_df)\n",
    "plt.grid(True)\n",
    "\n",
    "plt.tight_layout()\n",
    "\n",
    "plt.savefig('sensitivity_delta_analysis_fix_most_important.png')"
   ]
  },
  {
   "cell_type": "markdown",
   "metadata": {},
   "source": [
    "## loop through, replacing each important feature with default"
   ]
  },
  {
   "cell_type": "code",
   "execution_count": null,
   "metadata": {
    "tags": []
   },
   "outputs": [],
   "source": [
    "def evalSensitivity2(Xsample, model=None):\n",
    "    \n",
    "    model.eval()\n",
    "\n",
    "    outputs = []\n",
    "    for i in range(len(Xsample)):\n",
    "    \n",
    "        X = Xsample[i]\n",
    "\n",
    "        X = torch.Tensor(X)\n",
    "\n",
    "        with torch.no_grad():\n",
    "            # p = net.mfvi_forward(X.to(DEVICE), stat='mean', q=None, sample_nbr=Samples2Evaluate)\n",
    "            p = net.forward(X.to(DEVICE))\n",
    "            p = torch.exp(p)\n",
    "            m = p.squeeze() # means\n",
    "\n",
    "        p_mean = m.cpu().detach().numpy()  # logsoftmax\n",
    "        \n",
    "        out = np.array([p_mean[1]])\n",
    "        \n",
    "        outputs.append(out)\n",
    "        \n",
    "    outputs = np.asarray(outputs)\n",
    "\n",
    "    return outputs"
   ]
  },
  {
   "cell_type": "code",
   "execution_count": null,
   "metadata": {
    "tags": []
   },
   "outputs": [],
   "source": [
    "X_Set1 = Xsample+Xtrue\n",
    "\n",
    "Y1 = evalSensitivity2(X_Set1, model=net)\n",
    "\n",
    "results1 = delta.analyze(problem, X_Set1, Y1.squeeze(), print_to_console=True)\n",
    "results1 = results1.to_df().to_numpy()"
   ]
  },
  {
   "cell_type": "code",
   "execution_count": null,
   "metadata": {
    "lines_to_next_cell": 2,
    "scrolled": true,
    "tags": []
   },
   "outputs": [],
   "source": [
    "# Sort factors by importance\n",
    "factors_sorted = np.argsort(results0['delta'])[::-1]\n",
    " \n",
    "# Set up DataFrame of default values to use for experiment\n",
    "X_defaults = np.tile(Xtrue,(nsamples, 1))\n",
    " \n",
    "# Create initial Sets 2 and 3\n",
    "X_Set2 = np.copy(X_defaults)\n",
    "X_Set3 = np.copy(X_Set1)\n",
    " \n",
    "for f in range(1, len(factors_sorted)+1):\n",
    "    ntopfactors = f\n",
    "     \n",
    "    for i in range(ntopfactors): #Loop through all important factors\n",
    "        X_Set2[:,factors_sorted[i]] = X_Set1[:,factors_sorted[i]] #Fix use samples for important\n",
    "        X_Set3[:,factors_sorted[i]] = X_defaults[:,factors_sorted[i]] #Fix important to defaults\n",
    "     \n",
    "        # Run model for all samples    \n",
    "        Y2 = evalSensitivity2(X_Set2, model=net)\n",
    "        Y3 = evalSensitivity2(X_Set3, model=net)\n",
    "\n",
    "        # Calculate coefficients of correlation\n",
    "        coefficient_S1_S2 = np.corrcoef(Y1.squeeze(),Y2.squeeze())[0][1]\n",
    "        coefficient_S1_S3 = np.corrcoef(Y1.squeeze(),Y3.squeeze())[0][1]\n",
    "    \n",
    "        print(f,i, coefficient_S1_S2, coefficient_S1_S3)\n"
   ]
  },
  {
   "cell_type": "markdown",
   "metadata": {},
   "source": [
    "## captum: integrated gradients"
   ]
  },
  {
   "cell_type": "code",
   "execution_count": null,
   "metadata": {
    "lines_to_next_cell": 2,
    "tags": []
   },
   "outputs": [],
   "source": [
    "from captum.attr import IntegratedGradients"
   ]
  },
  {
   "cell_type": "code",
   "execution_count": null,
   "metadata": {
    "tags": []
   },
   "outputs": [],
   "source": [
    "ig = IntegratedGradients(net)"
   ]
  },
  {
   "cell_type": "code",
   "execution_count": null,
   "metadata": {
    "tags": []
   },
   "outputs": [],
   "source": [
    "X = Xsample + Xtrue\n",
    "# X = np.tile(Xtrue,(100,1))"
   ]
  },
  {
   "cell_type": "code",
   "execution_count": null,
   "metadata": {
    "tags": []
   },
   "outputs": [],
   "source": [
    "X.shape"
   ]
  },
  {
   "cell_type": "code",
   "execution_count": null,
   "metadata": {
    "tags": []
   },
   "outputs": [],
   "source": [
    "test_input_tensor = Tensor(X).to(DEVICE)"
   ]
  },
  {
   "cell_type": "code",
   "execution_count": null,
   "metadata": {
    "lines_to_next_cell": 2,
    "tags": []
   },
   "outputs": [],
   "source": [
    "test_input_tensor.requires_grad_()\n",
    "attr, delta = ig.attribute(test_input_tensor, target=0, return_convergence_delta=True)\n",
    "attr = attr.cpu().detach().numpy()"
   ]
  },
  {
   "cell_type": "code",
   "execution_count": null,
   "metadata": {
    "lines_to_next_cell": 2,
    "tags": []
   },
   "outputs": [],
   "source": [
    "plt.rc('figure', figsize=(12, 6))\n",
    "\n",
    "def visualize_importances(feature_names, importances, title=\"Average Integrated Gradients Importances\", \n",
    "                          plot=True, axis_title=\"Features\"):\n",
    "    print(title)\n",
    "    for i in range(len(feature_names)):\n",
    "        print(feature_names[i], \": \", '%.3f'%(importances[i]))\n",
    "    x_pos = (np.arange(len(feature_names)))\n",
    "    if plot:\n",
    "#         plt.figure(figsize=(16,6))\n",
    "        plt.bar(x_pos, importances, width=0.5, align='center')\n",
    "        # plt.bar(x_pos, np.abs(importances), width=0.5, align='center')\n",
    "        plt.xticks(x_pos, feature_names, rotation='vertical')\n",
    "        plt.xlabel(axis_title)\n",
    "        plt.title(title)\n",
    "        plt.grid(True)\n",
    "        plt.tight_layout()\n",
    "        \n",
    "feature_names = featureSets[feature_set]\n",
    "visualize_importances(feature_names, np.mean(attr, axis=0))\n",
    "\n",
    "plt.savefig('sensitivity_integrated_gradients.png')"
   ]
  },
  {
   "cell_type": "code",
   "execution_count": null,
   "metadata": {
    "tags": []
   },
   "outputs": [],
   "source": [
    "# Sort factors by importance\n",
    "factors_sorted = np.argsort(-np.abs(np.mean(attr, axis=0)))"
   ]
  },
  {
   "cell_type": "code",
   "execution_count": null,
   "metadata": {
    "tags": []
   },
   "outputs": [],
   "source": [
    "np.array(feature_names)[factors_sorted].tolist()"
   ]
  },
  {
   "cell_type": "code",
   "execution_count": null,
   "metadata": {
    "tags": []
   },
   "outputs": [],
   "source": [
    "visualize_importances(np.array(feature_names)[factors_sorted].tolist(),\n",
    "                      np.abs(np.mean(attr, axis=0)[factors_sorted]))"
   ]
  },
  {
   "cell_type": "code",
   "execution_count": null,
   "metadata": {},
   "outputs": [],
   "source": []
  },
  {
   "cell_type": "code",
   "execution_count": null,
   "metadata": {},
   "outputs": [],
   "source": []
  }
 ],
 "metadata": {
  "jupytext": {
   "encoding": "# -*- coding: utf-8 -*-",
   "formats": "ipynb,py:light"
  },
  "kernelspec": {
   "display_name": "Python 3 (ipykernel)",
   "language": "python",
   "name": "python3"
  },
  "language_info": {
   "codemirror_mode": {
    "name": "ipython",
    "version": 3
   },
   "file_extension": ".py",
   "mimetype": "text/x-python",
   "name": "python",
   "nbconvert_exporter": "python",
   "pygments_lexer": "ipython3",
   "version": "3.11.4"
  }
 },
 "nbformat": 4,
 "nbformat_minor": 4
}
