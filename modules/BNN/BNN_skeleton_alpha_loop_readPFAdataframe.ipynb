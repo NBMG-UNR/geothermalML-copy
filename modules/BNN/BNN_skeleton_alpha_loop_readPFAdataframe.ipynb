{
 "cells": [
  {
   "cell_type": "markdown",
   "metadata": {},
   "source": [
    "# Geothermal and Machine Learning Sandbox"
   ]
  },
  {
   "cell_type": "markdown",
   "metadata": {
    "tags": []
   },
   "source": [
    "# Skeleton of an Variational Bayes Artificial Neural Network (BNN) in PyTorch applied to Nevada PFA Geothermal Resources Dataset"
   ]
  },
  {
   "cell_type": "code",
   "execution_count": 1,
   "metadata": {
    "tags": []
   },
   "outputs": [],
   "source": [
    "import numpy as np\n",
    "import matplotlib.pyplot as plt\n",
    "\n",
    "import math\n",
    "\n",
    "import pickle\n",
    "\n",
    "import pandas as pd\n",
    "\n",
    "from sklearn.model_selection import train_test_split\n",
    "from sklearn.preprocessing import StandardScaler\n",
    "from sklearn.preprocessing import OneHotEncoder\n",
    "\n",
    "from scipy.stats import kurtosis\n",
    "\n",
    "import torch\n",
    "import torch.nn as nn\n",
    "import torch.nn.functional as F\n",
    "import torch.optim as optim\n",
    "\n",
    "# Load packages to create dataset\n",
    "from torch.utils.data import DataLoader, TensorDataset\n",
    "from torch.utils.data import Dataset\n",
    "from torch import Tensor\n",
    "\n",
    "from torch.utils.data import WeightedRandomSampler\n",
    "\n",
    "# from torchvision import models\n",
    "from torchsummary import summary\n",
    "\n",
    "import datetime\n",
    "import time\n",
    "\n",
    "from pathlib import Path\n",
    "import sys\n",
    "\n",
    "import h5py\n",
    "\n",
    "from tqdm.notebook import trange, tqdm\n",
    "\n",
    "%matplotlib inline"
   ]
  },
  {
   "cell_type": "markdown",
   "metadata": {},
   "source": [
    "# Training Setup"
   ]
  },
  {
   "cell_type": "markdown",
   "metadata": {},
   "source": [
    "### global variables"
   ]
  },
  {
   "cell_type": "code",
   "execution_count": 2,
   "metadata": {
    "lines_to_next_cell": 2,
    "tags": []
   },
   "outputs": [],
   "source": [
    "# ALPHA = 3\n",
    "# ALPHA = 4\n",
    "# ALPHA = 0.1"
   ]
  },
  {
   "cell_type": "code",
   "execution_count": 3,
   "metadata": {
    "tags": []
   },
   "outputs": [],
   "source": [
    "BATCH_SIZE = 64"
   ]
  },
  {
   "cell_type": "code",
   "execution_count": 4,
   "metadata": {
    "tags": []
   },
   "outputs": [],
   "source": [
    "TRAIN_EPOCHS = 1000"
   ]
  },
  {
   "cell_type": "code",
   "execution_count": null,
   "metadata": {},
   "outputs": [],
   "source": []
  },
  {
   "cell_type": "markdown",
   "metadata": {},
   "source": [
    "## BEGIN data preprocessing"
   ]
  },
  {
   "cell_type": "markdown",
   "metadata": {},
   "source": [
    "## load preprocessed data"
   ]
  },
  {
   "cell_type": "code",
   "execution_count": 5,
   "metadata": {
    "lines_to_next_cell": 2,
    "tags": []
   },
   "outputs": [],
   "source": [
    "path = '../../datasets/'\n",
    "\n",
    "filename = 'PFA_features&labels_march2021_tc2_imbalanced_SmoothLSS_FSS_df.h5'\n",
    "\n",
    "hf5File = path+filename"
   ]
  },
  {
   "cell_type": "code",
   "execution_count": 6,
   "metadata": {},
   "outputs": [
    {
     "name": "stdout",
     "output_type": "stream",
     "text": [
      "['X', 'XyInfo', 'dfInfo', 'dfn', 'nullIndexes', 'scaler', 'y']\n"
     ]
    }
   ],
   "source": [
    "f = h5py.File(hf5File, 'r')\n",
    "\n",
    "def keys(f):\n",
    "    return [key for key in f.keys()]\n",
    "\n",
    "key_list = keys(f)\n",
    "print(key_list)\n",
    "\n",
    "f.close()"
   ]
  },
  {
   "cell_type": "code",
   "execution_count": 7,
   "metadata": {},
   "outputs": [],
   "source": [
    "dfXAll = pd.read_hdf(hf5File, key='X')\n",
    "dfyAll = pd.read_hdf(hf5File, key='y')\n",
    "XyInfo = pd.read_hdf(hf5File, key='XyInfo')"
   ]
  },
  {
   "cell_type": "code",
   "execution_count": 8,
   "metadata": {
    "tags": []
   },
   "outputs": [
    {
     "name": "stdout",
     "output_type": "stream",
     "text": [
      "(725, 20) (725,) (725, 17)\n"
     ]
    }
   ],
   "source": [
    "print( dfXAll.shape, dfyAll.shape, XyInfo.shape)"
   ]
  },
  {
   "cell_type": "code",
   "execution_count": 9,
   "metadata": {},
   "outputs": [
    {
     "data": {
      "text/html": [
       "<div>\n",
       "<style scoped>\n",
       "    .dataframe tbody tr th:only-of-type {\n",
       "        vertical-align: middle;\n",
       "    }\n",
       "\n",
       "    .dataframe tbody tr th {\n",
       "        vertical-align: top;\n",
       "    }\n",
       "\n",
       "    .dataframe thead th {\n",
       "        text-align: right;\n",
       "    }\n",
       "</style>\n",
       "<table border=\"1\" class=\"dataframe\">\n",
       "  <thead>\n",
       "    <tr style=\"text-align: right;\">\n",
       "      <th></th>\n",
       "      <th>Local-StructuralSetting</th>\n",
       "      <th>Local-QuaternaryFaultRecency</th>\n",
       "      <th>Local-QuaternaryFaultSlipDilation</th>\n",
       "      <th>Local-QuaternaryFaultSlipRate</th>\n",
       "      <th>QuaternaryFaultTraces</th>\n",
       "      <th>HorizGravityGradient2</th>\n",
       "      <th>HorizMagneticGradient2</th>\n",
       "      <th>GeodeticStrainRate</th>\n",
       "      <th>QuaternarySlipRate</th>\n",
       "      <th>FaultRecency</th>\n",
       "      <th>FaultSlipDilationTendency2</th>\n",
       "      <th>Earthquakes</th>\n",
       "      <th>Heatflow</th>\n",
       "      <th>GravityDensity</th>\n",
       "      <th>MagneticDensity</th>\n",
       "      <th>GeochemistryTemperature2</th>\n",
       "      <th>Silica_Distance</th>\n",
       "      <th>TufaOrTravertine_Distance</th>\n",
       "      <th>DEM-30m</th>\n",
       "      <th>FavorableStructuralSettings_Distance</th>\n",
       "    </tr>\n",
       "  </thead>\n",
       "  <tbody>\n",
       "    <tr>\n",
       "      <th>1629211</th>\n",
       "      <td>0.605907</td>\n",
       "      <td>1.214984</td>\n",
       "      <td>3.191540</td>\n",
       "      <td>1.120474</td>\n",
       "      <td>-0.784042</td>\n",
       "      <td>0.956721</td>\n",
       "      <td>-0.383781</td>\n",
       "      <td>-1.553196</td>\n",
       "      <td>3.963975</td>\n",
       "      <td>-2.485171</td>\n",
       "      <td>0.451266</td>\n",
       "      <td>-1.352377</td>\n",
       "      <td>0.856456</td>\n",
       "      <td>-1.447685</td>\n",
       "      <td>0.042378</td>\n",
       "      <td>7.965358</td>\n",
       "      <td>-1.153277</td>\n",
       "      <td>-1.748728</td>\n",
       "      <td>0.071722</td>\n",
       "      <td>-1.439888</td>\n",
       "    </tr>\n",
       "    <tr>\n",
       "      <th>792748</th>\n",
       "      <td>2.753820</td>\n",
       "      <td>0.973401</td>\n",
       "      <td>0.219568</td>\n",
       "      <td>2.368457</td>\n",
       "      <td>0.743874</td>\n",
       "      <td>2.838552</td>\n",
       "      <td>-0.631091</td>\n",
       "      <td>-1.014735</td>\n",
       "      <td>-1.162640</td>\n",
       "      <td>1.180387</td>\n",
       "      <td>1.218827</td>\n",
       "      <td>0.250527</td>\n",
       "      <td>-1.224496</td>\n",
       "      <td>-1.678404</td>\n",
       "      <td>0.500513</td>\n",
       "      <td>-0.185826</td>\n",
       "      <td>0.993788</td>\n",
       "      <td>1.746996</td>\n",
       "      <td>-0.003075</td>\n",
       "      <td>0.524243</td>\n",
       "    </tr>\n",
       "    <tr>\n",
       "      <th>1427233</th>\n",
       "      <td>-0.532809</td>\n",
       "      <td>-0.586230</td>\n",
       "      <td>-0.402900</td>\n",
       "      <td>-0.584992</td>\n",
       "      <td>1.248917</td>\n",
       "      <td>1.627900</td>\n",
       "      <td>-0.435304</td>\n",
       "      <td>-1.246016</td>\n",
       "      <td>-0.087931</td>\n",
       "      <td>0.565757</td>\n",
       "      <td>-0.099213</td>\n",
       "      <td>-2.182920</td>\n",
       "      <td>0.426947</td>\n",
       "      <td>-1.332326</td>\n",
       "      <td>1.416784</td>\n",
       "      <td>-0.185826</td>\n",
       "      <td>0.055923</td>\n",
       "      <td>1.526730</td>\n",
       "      <td>-0.137194</td>\n",
       "      <td>1.095007</td>\n",
       "    </tr>\n",
       "    <tr>\n",
       "      <th>630421</th>\n",
       "      <td>0.627393</td>\n",
       "      <td>1.615954</td>\n",
       "      <td>-0.183165</td>\n",
       "      <td>1.500129</td>\n",
       "      <td>-1.064303</td>\n",
       "      <td>-1.286707</td>\n",
       "      <td>-0.662004</td>\n",
       "      <td>-0.813587</td>\n",
       "      <td>-1.262306</td>\n",
       "      <td>0.897017</td>\n",
       "      <td>0.459076</td>\n",
       "      <td>0.142340</td>\n",
       "      <td>-0.693443</td>\n",
       "      <td>0.974860</td>\n",
       "      <td>0.844115</td>\n",
       "      <td>-0.185826</td>\n",
       "      <td>1.719070</td>\n",
       "      <td>1.030348</td>\n",
       "      <td>0.948657</td>\n",
       "      <td>-1.130844</td>\n",
       "    </tr>\n",
       "    <tr>\n",
       "      <th>741007</th>\n",
       "      <td>-0.108018</td>\n",
       "      <td>-0.384650</td>\n",
       "      <td>-0.362674</td>\n",
       "      <td>-0.394128</td>\n",
       "      <td>-0.965216</td>\n",
       "      <td>-0.928128</td>\n",
       "      <td>-0.971141</td>\n",
       "      <td>-0.811781</td>\n",
       "      <td>-1.198261</td>\n",
       "      <td>0.909340</td>\n",
       "      <td>0.206954</td>\n",
       "      <td>-0.170018</td>\n",
       "      <td>-0.528820</td>\n",
       "      <td>-0.178733</td>\n",
       "      <td>1.416784</td>\n",
       "      <td>-0.185826</td>\n",
       "      <td>1.529526</td>\n",
       "      <td>1.298969</td>\n",
       "      <td>0.732003</td>\n",
       "      <td>-0.038541</td>\n",
       "    </tr>\n",
       "  </tbody>\n",
       "</table>\n",
       "</div>"
      ],
      "text/plain": [
       "         Local-StructuralSetting  Local-QuaternaryFaultRecency  \\\n",
       "1629211                 0.605907                      1.214984   \n",
       "792748                  2.753820                      0.973401   \n",
       "1427233                -0.532809                     -0.586230   \n",
       "630421                  0.627393                      1.615954   \n",
       "741007                 -0.108018                     -0.384650   \n",
       "\n",
       "         Local-QuaternaryFaultSlipDilation  Local-QuaternaryFaultSlipRate  \\\n",
       "1629211                           3.191540                       1.120474   \n",
       "792748                            0.219568                       2.368457   \n",
       "1427233                          -0.402900                      -0.584992   \n",
       "630421                           -0.183165                       1.500129   \n",
       "741007                           -0.362674                      -0.394128   \n",
       "\n",
       "         QuaternaryFaultTraces  HorizGravityGradient2  HorizMagneticGradient2  \\\n",
       "1629211              -0.784042               0.956721               -0.383781   \n",
       "792748                0.743874               2.838552               -0.631091   \n",
       "1427233               1.248917               1.627900               -0.435304   \n",
       "630421               -1.064303              -1.286707               -0.662004   \n",
       "741007               -0.965216              -0.928128               -0.971141   \n",
       "\n",
       "         GeodeticStrainRate  QuaternarySlipRate  FaultRecency  \\\n",
       "1629211           -1.553196            3.963975     -2.485171   \n",
       "792748            -1.014735           -1.162640      1.180387   \n",
       "1427233           -1.246016           -0.087931      0.565757   \n",
       "630421            -0.813587           -1.262306      0.897017   \n",
       "741007            -0.811781           -1.198261      0.909340   \n",
       "\n",
       "         FaultSlipDilationTendency2  Earthquakes  Heatflow  GravityDensity  \\\n",
       "1629211                    0.451266    -1.352377  0.856456       -1.447685   \n",
       "792748                     1.218827     0.250527 -1.224496       -1.678404   \n",
       "1427233                   -0.099213    -2.182920  0.426947       -1.332326   \n",
       "630421                     0.459076     0.142340 -0.693443        0.974860   \n",
       "741007                     0.206954    -0.170018 -0.528820       -0.178733   \n",
       "\n",
       "         MagneticDensity  GeochemistryTemperature2  Silica_Distance  \\\n",
       "1629211         0.042378                  7.965358        -1.153277   \n",
       "792748          0.500513                 -0.185826         0.993788   \n",
       "1427233         1.416784                 -0.185826         0.055923   \n",
       "630421          0.844115                 -0.185826         1.719070   \n",
       "741007          1.416784                 -0.185826         1.529526   \n",
       "\n",
       "         TufaOrTravertine_Distance   DEM-30m  \\\n",
       "1629211                  -1.748728  0.071722   \n",
       "792748                    1.746996 -0.003075   \n",
       "1427233                   1.526730 -0.137194   \n",
       "630421                    1.030348  0.948657   \n",
       "741007                    1.298969  0.732003   \n",
       "\n",
       "         FavorableStructuralSettings_Distance  \n",
       "1629211                             -1.439888  \n",
       "792748                               0.524243  \n",
       "1427233                              1.095007  \n",
       "630421                              -1.130844  \n",
       "741007                              -0.038541  "
      ]
     },
     "execution_count": 9,
     "metadata": {},
     "output_type": "execute_result"
    }
   ],
   "source": [
    "dfXAll.head()"
   ]
  },
  {
   "cell_type": "code",
   "execution_count": 10,
   "metadata": {
    "tags": []
   },
   "outputs": [
    {
     "data": {
      "text/plain": [
       "1629211    1\n",
       "792748     0\n",
       "1427233    0\n",
       "630421     0\n",
       "741007     0\n",
       "Name: labels, dtype: int64"
      ]
     },
     "execution_count": 10,
     "metadata": {},
     "output_type": "execute_result"
    }
   ],
   "source": [
    "dfyAll.head()"
   ]
  },
  {
   "cell_type": "code",
   "execution_count": 11,
   "metadata": {
    "tags": []
   },
   "outputs": [
    {
     "data": {
      "text/html": [
       "<div>\n",
       "<style scoped>\n",
       "    .dataframe tbody tr th:only-of-type {\n",
       "        vertical-align: middle;\n",
       "    }\n",
       "\n",
       "    .dataframe tbody tr th {\n",
       "        vertical-align: top;\n",
       "    }\n",
       "\n",
       "    .dataframe thead th {\n",
       "        text-align: right;\n",
       "    }\n",
       "</style>\n",
       "<table border=\"1\" class=\"dataframe\">\n",
       "  <thead>\n",
       "    <tr style=\"text-align: right;\">\n",
       "      <th></th>\n",
       "      <th>row</th>\n",
       "      <th>column</th>\n",
       "      <th>id_rc</th>\n",
       "      <th>X_83UTM11</th>\n",
       "      <th>Y_83UTM11</th>\n",
       "      <th>NullInfo</th>\n",
       "      <th>TrainCodeNeg</th>\n",
       "      <th>TrainCodePos</th>\n",
       "      <th>TrainCodePosT130</th>\n",
       "      <th>PosSite130_Id</th>\n",
       "      <th>PosSite130_Distance</th>\n",
       "      <th>PosSite_Id</th>\n",
       "      <th>PosSite_Distance</th>\n",
       "      <th>NegSite_Id</th>\n",
       "      <th>NegSite_Distance</th>\n",
       "      <th>Local_polygon_Id</th>\n",
       "      <th>Local_polygon_overlap_Id</th>\n",
       "    </tr>\n",
       "  </thead>\n",
       "  <tbody>\n",
       "    <tr>\n",
       "      <th>1629211</th>\n",
       "      <td>942.0</td>\n",
       "      <td>1435.0</td>\n",
       "      <td>R943C1436</td>\n",
       "      <td>645077.690182</td>\n",
       "      <td>4.494214e+06</td>\n",
       "      <td>notNull</td>\n",
       "      <td>12</td>\n",
       "      <td>1</td>\n",
       "      <td>1</td>\n",
       "      <td>14</td>\n",
       "      <td>84.074090</td>\n",
       "      <td>14</td>\n",
       "      <td>84.074090</td>\n",
       "      <td>4</td>\n",
       "      <td>10574.081138</td>\n",
       "      <td>315</td>\n",
       "      <td>0</td>\n",
       "    </tr>\n",
       "    <tr>\n",
       "      <th>792748</th>\n",
       "      <td>458.0</td>\n",
       "      <td>1324.0</td>\n",
       "      <td>R459C1325</td>\n",
       "      <td>617327.690182</td>\n",
       "      <td>4.373214e+06</td>\n",
       "      <td>notNull</td>\n",
       "      <td>2</td>\n",
       "      <td>12</td>\n",
       "      <td>12</td>\n",
       "      <td>76</td>\n",
       "      <td>109719.824992</td>\n",
       "      <td>47</td>\n",
       "      <td>28269.390720</td>\n",
       "      <td>48</td>\n",
       "      <td>224.802810</td>\n",
       "      <td>24</td>\n",
       "      <td>0</td>\n",
       "    </tr>\n",
       "    <tr>\n",
       "      <th>1427233</th>\n",
       "      <td>825.0</td>\n",
       "      <td>1633.0</td>\n",
       "      <td>R826C1634</td>\n",
       "      <td>694577.690182</td>\n",
       "      <td>4.464964e+06</td>\n",
       "      <td>notNull</td>\n",
       "      <td>1</td>\n",
       "      <td>12</td>\n",
       "      <td>12</td>\n",
       "      <td>14</td>\n",
       "      <td>57577.584385</td>\n",
       "      <td>25</td>\n",
       "      <td>49848.864916</td>\n",
       "      <td>31</td>\n",
       "      <td>83.994037</td>\n",
       "      <td>0</td>\n",
       "      <td>0</td>\n",
       "    </tr>\n",
       "    <tr>\n",
       "      <th>630421</th>\n",
       "      <td>364.0</td>\n",
       "      <td>1429.0</td>\n",
       "      <td>R365C1430</td>\n",
       "      <td>643577.690182</td>\n",
       "      <td>4.349714e+06</td>\n",
       "      <td>notNull</td>\n",
       "      <td>2</td>\n",
       "      <td>12</td>\n",
       "      <td>12</td>\n",
       "      <td>13</td>\n",
       "      <td>88734.532066</td>\n",
       "      <td>55</td>\n",
       "      <td>38087.135264</td>\n",
       "      <td>41</td>\n",
       "      <td>173.133020</td>\n",
       "      <td>37</td>\n",
       "      <td>0</td>\n",
       "    </tr>\n",
       "    <tr>\n",
       "      <th>741007</th>\n",
       "      <td>428.0</td>\n",
       "      <td>1423.0</td>\n",
       "      <td>R429C1424</td>\n",
       "      <td>642077.690182</td>\n",
       "      <td>4.365714e+06</td>\n",
       "      <td>notNull</td>\n",
       "      <td>2</td>\n",
       "      <td>12</td>\n",
       "      <td>12</td>\n",
       "      <td>13</td>\n",
       "      <td>104234.526475</td>\n",
       "      <td>47</td>\n",
       "      <td>37025.554552</td>\n",
       "      <td>33</td>\n",
       "      <td>218.270209</td>\n",
       "      <td>0</td>\n",
       "      <td>0</td>\n",
       "    </tr>\n",
       "  </tbody>\n",
       "</table>\n",
       "</div>"
      ],
      "text/plain": [
       "           row  column      id_rc      X_83UTM11     Y_83UTM11 NullInfo  \\\n",
       "1629211  942.0  1435.0  R943C1436  645077.690182  4.494214e+06  notNull   \n",
       "792748   458.0  1324.0  R459C1325  617327.690182  4.373214e+06  notNull   \n",
       "1427233  825.0  1633.0  R826C1634  694577.690182  4.464964e+06  notNull   \n",
       "630421   364.0  1429.0  R365C1430  643577.690182  4.349714e+06  notNull   \n",
       "741007   428.0  1423.0  R429C1424  642077.690182  4.365714e+06  notNull   \n",
       "\n",
       "         TrainCodeNeg  TrainCodePos  TrainCodePosT130  PosSite130_Id  \\\n",
       "1629211            12             1                 1             14   \n",
       "792748              2            12                12             76   \n",
       "1427233             1            12                12             14   \n",
       "630421              2            12                12             13   \n",
       "741007              2            12                12             13   \n",
       "\n",
       "         PosSite130_Distance  PosSite_Id  PosSite_Distance  NegSite_Id  \\\n",
       "1629211            84.074090          14         84.074090           4   \n",
       "792748         109719.824992          47      28269.390720          48   \n",
       "1427233         57577.584385          25      49848.864916          31   \n",
       "630421          88734.532066          55      38087.135264          41   \n",
       "741007         104234.526475          47      37025.554552          33   \n",
       "\n",
       "         NegSite_Distance  Local_polygon_Id  Local_polygon_overlap_Id  \n",
       "1629211      10574.081138               315                         0  \n",
       "792748         224.802810                24                         0  \n",
       "1427233         83.994037                 0                         0  \n",
       "630421         173.133020                37                         0  \n",
       "741007         218.270209                 0                         0  "
      ]
     },
     "execution_count": 11,
     "metadata": {},
     "output_type": "execute_result"
    }
   ],
   "source": [
    "XyInfo.head()"
   ]
  },
  {
   "cell_type": "code",
   "execution_count": 12,
   "metadata": {
    "tags": []
   },
   "outputs": [],
   "source": [
    "columns=dfXAll.columns"
   ]
  },
  {
   "cell_type": "markdown",
   "metadata": {},
   "source": [
    "### balance the dataset?"
   ]
  },
  {
   "cell_type": "code",
   "execution_count": 13,
   "metadata": {},
   "outputs": [],
   "source": [
    "# balance = None\n",
    "# balance = 'truncate'\n",
    "balance = 'weighted'"
   ]
  },
  {
   "cell_type": "markdown",
   "metadata": {},
   "source": [
    "### balance dataset method 1: by truncation"
   ]
  },
  {
   "cell_type": "code",
   "execution_count": 14,
   "metadata": {
    "lines_to_next_cell": 2,
    "tags": []
   },
   "outputs": [],
   "source": [
    "if balance == 'truncate':\n",
    "    dfyAll_neg = dfyAll[dfyAll==0]\n",
    "    dfyAll_pos = dfyAll[dfyAll==1]\n",
    "    dfXAll_neg = dfXAll.loc[dfyAll_neg.index]\n",
    "    dfXAll_pos = dfXAll.loc[dfyAll_pos.index]\n",
    "    \n",
    "    # find out which set is smaller\n",
    "    imin = np.argmin([len(dfyAll_neg), len(dfyAll_pos)])\n",
    "    \n",
    "    if imin==0:\n",
    "        dfyAll_pos = dfyAll_pos.sample(n=len(dfyAll_neg))\n",
    "        dfXAll_pos = dfXAll_pos.loc[dfyAll_pos.index]\n",
    "    elif imin==1:\n",
    "        dfyAll_neg = dfyAll_neg.sample(n=len(dfyAll_pos))\n",
    "        dfXAll_neg = dfXAll_neg.loc[dfyAll_neg.index]\n",
    "\n",
    "    dfXAll = pd.concat([dfXAll_neg, dfXAll_pos])\n",
    "    dfyAll = pd.concat([dfyAll_neg, dfyAll_pos])\n",
    "    XyInfo = XyInfo.loc[dfXAll.index]"
   ]
  },
  {
   "cell_type": "markdown",
   "metadata": {},
   "source": [
    "### balance dataset method 2: design weighted sampler for dataloaders"
   ]
  },
  {
   "cell_type": "code",
   "execution_count": 15,
   "metadata": {
    "tags": []
   },
   "outputs": [
    {
     "name": "stdout",
     "output_type": "stream",
     "text": [
      "[415 310] [0.57241379 0.42758621]\n"
     ]
    }
   ],
   "source": [
    "if balance == 'weighted':\n",
    "    class_counts = dfyAll.value_counts()\n",
    "    class_weights = class_counts/len(dfyAll)\n",
    "\n",
    "    print(class_counts.values,  class_weights.values)"
   ]
  },
  {
   "cell_type": "markdown",
   "metadata": {},
   "source": [
    "### break into features and labels"
   ]
  },
  {
   "cell_type": "code",
   "execution_count": 16,
   "metadata": {
    "tags": []
   },
   "outputs": [],
   "source": [
    "XAll = dfXAll\n",
    "yAll = dfyAll"
   ]
  },
  {
   "cell_type": "code",
   "execution_count": 17,
   "metadata": {
    "tags": []
   },
   "outputs": [
    {
     "data": {
      "text/plain": [
       "(725, 20)"
      ]
     },
     "execution_count": 17,
     "metadata": {},
     "output_type": "execute_result"
    }
   ],
   "source": [
    "XAll.shape"
   ]
  },
  {
   "cell_type": "code",
   "execution_count": 18,
   "metadata": {
    "tags": []
   },
   "outputs": [
    {
     "data": {
      "text/plain": [
       "(725,)"
      ]
     },
     "execution_count": 18,
     "metadata": {},
     "output_type": "execute_result"
    }
   ],
   "source": [
    "yAll.shape"
   ]
  },
  {
   "cell_type": "code",
   "execution_count": 19,
   "metadata": {
    "tags": []
   },
   "outputs": [
    {
     "data": {
      "text/plain": [
       "Index(['Local-StructuralSetting', 'Local-QuaternaryFaultRecency',\n",
       "       'Local-QuaternaryFaultSlipDilation', 'Local-QuaternaryFaultSlipRate',\n",
       "       'QuaternaryFaultTraces', 'HorizGravityGradient2',\n",
       "       'HorizMagneticGradient2', 'GeodeticStrainRate', 'QuaternarySlipRate',\n",
       "       'FaultRecency', 'FaultSlipDilationTendency2', 'Earthquakes', 'Heatflow',\n",
       "       'GravityDensity', 'MagneticDensity', 'GeochemistryTemperature2',\n",
       "       'Silica_Distance', 'TufaOrTravertine_Distance', 'DEM-30m',\n",
       "       'FavorableStructuralSettings_Distance'],\n",
       "      dtype='object')"
      ]
     },
     "execution_count": 19,
     "metadata": {},
     "output_type": "execute_result"
    }
   ],
   "source": [
    "XAll.columns"
   ]
  },
  {
   "cell_type": "code",
   "execution_count": 20,
   "metadata": {
    "tags": []
   },
   "outputs": [
    {
     "data": {
      "text/plain": [
       "'labels'"
      ]
     },
     "execution_count": 20,
     "metadata": {},
     "output_type": "execute_result"
    }
   ],
   "source": [
    "yAll.name"
   ]
  },
  {
   "cell_type": "markdown",
   "metadata": {},
   "source": [
    "### train/test split"
   ]
  },
  {
   "cell_type": "code",
   "execution_count": 21,
   "metadata": {
    "lines_to_next_cell": 2,
    "tags": []
   },
   "outputs": [],
   "source": [
    "X_trainAll, X_testAll, y_trainAll, y_testAll = train_test_split(\n",
    "    XAll, yAll, test_size=0.33, random_state=42)\n",
    "    # XAll, yAll, test_size=0.33)"
   ]
  },
  {
   "cell_type": "code",
   "execution_count": 22,
   "metadata": {
    "tags": []
   },
   "outputs": [
    {
     "name": "stdout",
     "output_type": "stream",
     "text": [
      "(485, 20) (485,) (240, 20) (240,)\n"
     ]
    }
   ],
   "source": [
    "print (X_trainAll.shape, y_trainAll.shape, X_testAll.shape, y_testAll.shape)"
   ]
  },
  {
   "cell_type": "code",
   "execution_count": 23,
   "metadata": {
    "tags": []
   },
   "outputs": [
    {
     "data": {
      "text/html": [
       "<div>\n",
       "<style scoped>\n",
       "    .dataframe tbody tr th:only-of-type {\n",
       "        vertical-align: middle;\n",
       "    }\n",
       "\n",
       "    .dataframe tbody tr th {\n",
       "        vertical-align: top;\n",
       "    }\n",
       "\n",
       "    .dataframe thead th {\n",
       "        text-align: right;\n",
       "    }\n",
       "</style>\n",
       "<table border=\"1\" class=\"dataframe\">\n",
       "  <thead>\n",
       "    <tr style=\"text-align: right;\">\n",
       "      <th></th>\n",
       "      <th>Local-StructuralSetting</th>\n",
       "      <th>Local-QuaternaryFaultRecency</th>\n",
       "      <th>Local-QuaternaryFaultSlipDilation</th>\n",
       "      <th>Local-QuaternaryFaultSlipRate</th>\n",
       "      <th>QuaternaryFaultTraces</th>\n",
       "      <th>HorizGravityGradient2</th>\n",
       "      <th>HorizMagneticGradient2</th>\n",
       "      <th>GeodeticStrainRate</th>\n",
       "      <th>QuaternarySlipRate</th>\n",
       "      <th>FaultRecency</th>\n",
       "      <th>FaultSlipDilationTendency2</th>\n",
       "      <th>Earthquakes</th>\n",
       "      <th>Heatflow</th>\n",
       "      <th>GravityDensity</th>\n",
       "      <th>MagneticDensity</th>\n",
       "      <th>GeochemistryTemperature2</th>\n",
       "      <th>Silica_Distance</th>\n",
       "      <th>TufaOrTravertine_Distance</th>\n",
       "      <th>DEM-30m</th>\n",
       "      <th>FavorableStructuralSettings_Distance</th>\n",
       "    </tr>\n",
       "  </thead>\n",
       "  <tbody>\n",
       "    <tr>\n",
       "      <th>851760</th>\n",
       "      <td>1.219532</td>\n",
       "      <td>1.907248</td>\n",
       "      <td>0.150295</td>\n",
       "      <td>2.039372</td>\n",
       "      <td>-0.211921</td>\n",
       "      <td>1.557584</td>\n",
       "      <td>0.296321</td>\n",
       "      <td>-1.218099</td>\n",
       "      <td>0.455146</td>\n",
       "      <td>0.218541</td>\n",
       "      <td>0.639279</td>\n",
       "      <td>-1.200670</td>\n",
       "      <td>-0.469886</td>\n",
       "      <td>-1.447685</td>\n",
       "      <td>-0.644825</td>\n",
       "      <td>-0.185826</td>\n",
       "      <td>1.339493</td>\n",
       "      <td>-1.021991</td>\n",
       "      <td>0.035613</td>\n",
       "      <td>-1.214275</td>\n",
       "    </tr>\n",
       "    <tr>\n",
       "      <th>918627</th>\n",
       "      <td>-0.276916</td>\n",
       "      <td>-0.203856</td>\n",
       "      <td>-0.021599</td>\n",
       "      <td>-0.403835</td>\n",
       "      <td>-1.064303</td>\n",
       "      <td>-0.292717</td>\n",
       "      <td>-0.569263</td>\n",
       "      <td>-0.811781</td>\n",
       "      <td>-0.922382</td>\n",
       "      <td>-1.454516</td>\n",
       "      <td>-0.400033</td>\n",
       "      <td>-0.787486</td>\n",
       "      <td>0.507925</td>\n",
       "      <td>-0.986248</td>\n",
       "      <td>0.156912</td>\n",
       "      <td>-0.185826</td>\n",
       "      <td>-0.351455</td>\n",
       "      <td>-1.018601</td>\n",
       "      <td>0.198104</td>\n",
       "      <td>-0.658516</td>\n",
       "    </tr>\n",
       "    <tr>\n",
       "      <th>1528718</th>\n",
       "      <td>-0.092083</td>\n",
       "      <td>-0.287456</td>\n",
       "      <td>-0.283656</td>\n",
       "      <td>-0.019209</td>\n",
       "      <td>-0.309676</td>\n",
       "      <td>2.304730</td>\n",
       "      <td>-0.198299</td>\n",
       "      <td>-1.537737</td>\n",
       "      <td>-0.428710</td>\n",
       "      <td>0.947958</td>\n",
       "      <td>0.481170</td>\n",
       "      <td>-0.467806</td>\n",
       "      <td>-0.467885</td>\n",
       "      <td>-1.678404</td>\n",
       "      <td>0.271446</td>\n",
       "      <td>-0.185826</td>\n",
       "      <td>-0.452455</td>\n",
       "      <td>-0.201201</td>\n",
       "      <td>-0.397695</td>\n",
       "      <td>0.010648</td>\n",
       "    </tr>\n",
       "    <tr>\n",
       "      <th>626965</th>\n",
       "      <td>0.564056</td>\n",
       "      <td>1.495610</td>\n",
       "      <td>-0.195161</td>\n",
       "      <td>1.386182</td>\n",
       "      <td>-1.064303</td>\n",
       "      <td>-1.304623</td>\n",
       "      <td>-0.651700</td>\n",
       "      <td>-0.813587</td>\n",
       "      <td>-1.268894</td>\n",
       "      <td>0.949120</td>\n",
       "      <td>0.460385</td>\n",
       "      <td>0.118718</td>\n",
       "      <td>-0.701636</td>\n",
       "      <td>1.090220</td>\n",
       "      <td>0.729581</td>\n",
       "      <td>-0.185826</td>\n",
       "      <td>1.724593</td>\n",
       "      <td>1.008396</td>\n",
       "      <td>0.982187</td>\n",
       "      <td>-1.091732</td>\n",
       "    </tr>\n",
       "    <tr>\n",
       "      <th>134427</th>\n",
       "      <td>-0.398323</td>\n",
       "      <td>-0.395663</td>\n",
       "      <td>-0.276137</td>\n",
       "      <td>-0.384507</td>\n",
       "      <td>0.095486</td>\n",
       "      <td>2.098599</td>\n",
       "      <td>-1.032969</td>\n",
       "      <td>-0.052316</td>\n",
       "      <td>0.787964</td>\n",
       "      <td>0.168520</td>\n",
       "      <td>-0.360607</td>\n",
       "      <td>0.504901</td>\n",
       "      <td>-1.420290</td>\n",
       "      <td>-1.678404</td>\n",
       "      <td>1.645851</td>\n",
       "      <td>-0.185826</td>\n",
       "      <td>1.916649</td>\n",
       "      <td>-0.381975</td>\n",
       "      <td>-0.895485</td>\n",
       "      <td>-0.793871</td>\n",
       "    </tr>\n",
       "  </tbody>\n",
       "</table>\n",
       "</div>"
      ],
      "text/plain": [
       "         Local-StructuralSetting  Local-QuaternaryFaultRecency  \\\n",
       "851760                  1.219532                      1.907248   \n",
       "918627                 -0.276916                     -0.203856   \n",
       "1528718                -0.092083                     -0.287456   \n",
       "626965                  0.564056                      1.495610   \n",
       "134427                 -0.398323                     -0.395663   \n",
       "\n",
       "         Local-QuaternaryFaultSlipDilation  Local-QuaternaryFaultSlipRate  \\\n",
       "851760                            0.150295                       2.039372   \n",
       "918627                           -0.021599                      -0.403835   \n",
       "1528718                          -0.283656                      -0.019209   \n",
       "626965                           -0.195161                       1.386182   \n",
       "134427                           -0.276137                      -0.384507   \n",
       "\n",
       "         QuaternaryFaultTraces  HorizGravityGradient2  HorizMagneticGradient2  \\\n",
       "851760               -0.211921               1.557584                0.296321   \n",
       "918627               -1.064303              -0.292717               -0.569263   \n",
       "1528718              -0.309676               2.304730               -0.198299   \n",
       "626965               -1.064303              -1.304623               -0.651700   \n",
       "134427                0.095486               2.098599               -1.032969   \n",
       "\n",
       "         GeodeticStrainRate  QuaternarySlipRate  FaultRecency  \\\n",
       "851760            -1.218099            0.455146      0.218541   \n",
       "918627            -0.811781           -0.922382     -1.454516   \n",
       "1528718           -1.537737           -0.428710      0.947958   \n",
       "626965            -0.813587           -1.268894      0.949120   \n",
       "134427            -0.052316            0.787964      0.168520   \n",
       "\n",
       "         FaultSlipDilationTendency2  Earthquakes  Heatflow  GravityDensity  \\\n",
       "851760                     0.639279    -1.200670 -0.469886       -1.447685   \n",
       "918627                    -0.400033    -0.787486  0.507925       -0.986248   \n",
       "1528718                    0.481170    -0.467806 -0.467885       -1.678404   \n",
       "626965                     0.460385     0.118718 -0.701636        1.090220   \n",
       "134427                    -0.360607     0.504901 -1.420290       -1.678404   \n",
       "\n",
       "         MagneticDensity  GeochemistryTemperature2  Silica_Distance  \\\n",
       "851760         -0.644825                 -0.185826         1.339493   \n",
       "918627          0.156912                 -0.185826        -0.351455   \n",
       "1528718         0.271446                 -0.185826        -0.452455   \n",
       "626965          0.729581                 -0.185826         1.724593   \n",
       "134427          1.645851                 -0.185826         1.916649   \n",
       "\n",
       "         TufaOrTravertine_Distance   DEM-30m  \\\n",
       "851760                   -1.021991  0.035613   \n",
       "918627                   -1.018601  0.198104   \n",
       "1528718                  -0.201201 -0.397695   \n",
       "626965                    1.008396  0.982187   \n",
       "134427                   -0.381975 -0.895485   \n",
       "\n",
       "         FavorableStructuralSettings_Distance  \n",
       "851760                              -1.214275  \n",
       "918627                              -0.658516  \n",
       "1528718                              0.010648  \n",
       "626965                              -1.091732  \n",
       "134427                              -0.793871  "
      ]
     },
     "execution_count": 23,
     "metadata": {},
     "output_type": "execute_result"
    }
   ],
   "source": [
    "X_trainAll.head()"
   ]
  },
  {
   "cell_type": "code",
   "execution_count": 24,
   "metadata": {
    "tags": []
   },
   "outputs": [
    {
     "data": {
      "text/plain": [
       "851760     0\n",
       "918627     0\n",
       "1528718    0\n",
       "626965     0\n",
       "134427     0\n",
       "Name: labels, dtype: int64"
      ]
     },
     "execution_count": 24,
     "metadata": {},
     "output_type": "execute_result"
    }
   ],
   "source": [
    "y_trainAll.head()"
   ]
  },
  {
   "cell_type": "code",
   "execution_count": 25,
   "metadata": {
    "tags": []
   },
   "outputs": [
    {
     "name": "stdout",
     "output_type": "stream",
     "text": [
      "(485,) 275\n"
     ]
    }
   ],
   "source": [
    "print(y_trainAll.shape, y_trainAll.sum())"
   ]
  },
  {
   "cell_type": "code",
   "execution_count": 26,
   "metadata": {
    "tags": []
   },
   "outputs": [
    {
     "data": {
      "text/plain": [
       "['Local-StructuralSetting',\n",
       " 'Local-QuaternaryFaultRecency',\n",
       " 'Local-QuaternaryFaultSlipDilation',\n",
       " 'Local-QuaternaryFaultSlipRate',\n",
       " 'QuaternaryFaultTraces',\n",
       " 'HorizGravityGradient2',\n",
       " 'HorizMagneticGradient2',\n",
       " 'GeodeticStrainRate',\n",
       " 'QuaternarySlipRate',\n",
       " 'FaultRecency',\n",
       " 'FaultSlipDilationTendency2',\n",
       " 'Earthquakes',\n",
       " 'Heatflow',\n",
       " 'GravityDensity',\n",
       " 'MagneticDensity',\n",
       " 'GeochemistryTemperature2',\n",
       " 'Silica_Distance',\n",
       " 'TufaOrTravertine_Distance',\n",
       " 'DEM-30m',\n",
       " 'FavorableStructuralSettings_Distance']"
      ]
     },
     "execution_count": 26,
     "metadata": {},
     "output_type": "execute_result"
    }
   ],
   "source": [
    "columns = X_trainAll.columns.to_list()\n",
    "columns"
   ]
  },
  {
   "cell_type": "markdown",
   "metadata": {},
   "source": [
    "## select feature set"
   ]
  },
  {
   "cell_type": "code",
   "execution_count": 27,
   "metadata": {
    "scrolled": true,
    "tags": []
   },
   "outputs": [
    {
     "name": "stdout",
     "output_type": "stream",
     "text": [
      "1\n"
     ]
    }
   ],
   "source": [
    "featureSets = [\n",
    "\n",
    "# MASTER SET 1\n",
    "################################# 0\n",
    "['QuaternaryFaultTraces',\n",
    " 'HorizGravityGradient2',\n",
    " 'HorizMagneticGradient2',\n",
    " 'GeodeticStrainRate',\n",
    " 'QuaternarySlipRate',\n",
    " 'FaultRecency',\n",
    " 'FaultSlipDilationTendency2',\n",
    " 'Earthquakes',\n",
    " 'Heatflow',\n",
    " 'DEM-30m',\n",
    "],\n",
    "\n",
    "]\n",
    "\n",
    "print (len(featureSets))"
   ]
  },
  {
   "cell_type": "code",
   "execution_count": 28,
   "metadata": {
    "tags": []
   },
   "outputs": [],
   "source": [
    "# featureSets"
   ]
  },
  {
   "cell_type": "code",
   "execution_count": 29,
   "metadata": {
    "tags": []
   },
   "outputs": [
    {
     "data": {
      "text/plain": [
       "['QuaternaryFaultTraces',\n",
       " 'HorizGravityGradient2',\n",
       " 'HorizMagneticGradient2',\n",
       " 'GeodeticStrainRate',\n",
       " 'QuaternarySlipRate',\n",
       " 'FaultRecency',\n",
       " 'FaultSlipDilationTendency2',\n",
       " 'Earthquakes',\n",
       " 'Heatflow',\n",
       " 'DEM-30m']"
      ]
     },
     "execution_count": 29,
     "metadata": {},
     "output_type": "execute_result"
    }
   ],
   "source": [
    "feature_set = 0\n",
    "\n",
    "columns = featureSets[feature_set]\n",
    "\n",
    "columns"
   ]
  },
  {
   "cell_type": "markdown",
   "metadata": {},
   "source": [
    "## END data preprocessing"
   ]
  },
  {
   "cell_type": "code",
   "execution_count": null,
   "metadata": {},
   "outputs": [],
   "source": []
  },
  {
   "cell_type": "markdown",
   "metadata": {},
   "source": [
    "## fix input types and dimensions"
   ]
  },
  {
   "cell_type": "code",
   "execution_count": 30,
   "metadata": {
    "tags": []
   },
   "outputs": [],
   "source": [
    "X_train = X_trainAll[columns].copy()\n",
    "X_test = X_testAll[columns].copy()\n",
    "\n",
    "y_train = y_trainAll.copy()\n",
    "y_test = y_testAll.copy()"
   ]
  },
  {
   "cell_type": "code",
   "execution_count": 31,
   "metadata": {
    "tags": []
   },
   "outputs": [
    {
     "data": {
      "text/plain": [
       "10"
      ]
     },
     "execution_count": 31,
     "metadata": {},
     "output_type": "execute_result"
    }
   ],
   "source": [
    "nFeatures = X_train.shape[1]\n",
    "nFeatures"
   ]
  },
  {
   "cell_type": "code",
   "execution_count": 32,
   "metadata": {
    "tags": []
   },
   "outputs": [
    {
     "name": "stdout",
     "output_type": "stream",
     "text": [
      "(485, 10) (485,)\n"
     ]
    }
   ],
   "source": [
    "print (X_train.shape, y_train.shape)"
   ]
  },
  {
   "cell_type": "markdown",
   "metadata": {},
   "source": [
    "### balance dataset method 2: using weighted samplers in the dataloaders"
   ]
  },
  {
   "cell_type": "code",
   "execution_count": 33,
   "metadata": {
    "tags": []
   },
   "outputs": [],
   "source": [
    "if balance == 'weighted':\n",
    "\n",
    "    # training dataloader sampler\n",
    "    sample_weights = [1-class_weights[i] for i in y_train.to_numpy()]\n",
    "    sampler = WeightedRandomSampler(weights=sample_weights, \n",
    "                                    num_samples=len(y_train), replacement=True)\n",
    "\n",
    "    # testing dataloader sampler\n",
    "    sample_weights_test = [1-class_weights[i] for i in y_test.to_numpy()]\n",
    "    sampler_test = WeightedRandomSampler(weights=sample_weights_test, \n",
    "                                         num_samples=len(y_test), replacement=True)"
   ]
  },
  {
   "cell_type": "markdown",
   "metadata": {},
   "source": [
    "# Build model"
   ]
  },
  {
   "cell_type": "markdown",
   "metadata": {},
   "source": [
    "### use GPU"
   ]
  },
  {
   "cell_type": "code",
   "execution_count": 34,
   "metadata": {
    "tags": []
   },
   "outputs": [
    {
     "name": "stdout",
     "output_type": "stream",
     "text": [
      "Using device: cuda\n",
      "\n",
      "NVIDIA GeForce RTX 2070\n",
      "Memory Usage:\n",
      "Allocated: 0.0 GB\n",
      "Cached:    0.0 GB\n"
     ]
    }
   ],
   "source": [
    "# setting device on GPU if available, else CPU\n",
    "DEVICE = torch.device('cuda' if torch.cuda.is_available() else 'cpu')\n",
    "# DEVICE = torch.device('cpu')\n",
    "print('Using device:', DEVICE)\n",
    "print()\n",
    "\n",
    "#Additional Info when using cuda\n",
    "if DEVICE.type == 'cuda':\n",
    "    print(torch.cuda.get_device_name(0))\n",
    "    print('Memory Usage:')\n",
    "    print('Allocated:', round(torch.cuda.memory_allocated(0)/1024**3,1), 'GB')\n",
    "    print('Cached:   ', round(torch.cuda.memory_reserved(0)/1024**3,1), 'GB')"
   ]
  },
  {
   "cell_type": "markdown",
   "metadata": {},
   "source": [
    "## custom dataset class to put random numbers in certain columns each call"
   ]
  },
  {
   "cell_type": "code",
   "execution_count": 35,
   "metadata": {
    "tags": []
   },
   "outputs": [],
   "source": [
    "# class CustomDataset(Dataset):\n",
    "#     def __init__(self, X, y, randomList=[]):\n",
    "#         self.X = X.clone() # without clone this seems to retain changes in original array\n",
    "#         self.y = y.clone()\n",
    "#         self.randomList = randomList\n",
    "        \n",
    "#     def __len__(self):\n",
    "#         return len(self.X)\n",
    "    \n",
    "#     def __getitem__(self, idx):\n",
    "#         if self.randomList:\n",
    "#             self.X[idx,self.randomList] = torch.rand(len(self.randomList))*0\n",
    "#         return self.X[idx], self.y[idx]"
   ]
  },
  {
   "cell_type": "code",
   "execution_count": 36,
   "metadata": {
    "tags": []
   },
   "outputs": [],
   "source": [
    "# # test new custom datasets\n",
    "\n",
    "# features = Tensor(X_train.to_numpy())\n",
    "# labels = Tensor(y_train.to_numpy()).long()\n",
    "\n",
    "# dataset = CustomDataset(features, labels, randomList=[9,10,11,12,13,14])\n",
    "# # dataset = CustomDataset(features, labels)\n",
    "# print('Number of samples in the data: ', len(dataset))\n",
    "# print(dataset[2])\n",
    "# print(dataset[0:5])"
   ]
  },
  {
   "cell_type": "code",
   "execution_count": 37,
   "metadata": {
    "tags": []
   },
   "outputs": [],
   "source": [
    "# feature columns to continually randomize\n",
    "\n",
    "# randomList = [9,10,11,12,13,14]"
   ]
  },
  {
   "cell_type": "markdown",
   "metadata": {},
   "source": [
    "## create datasets and batch loaders"
   ]
  },
  {
   "cell_type": "code",
   "execution_count": 38,
   "metadata": {
    "tags": []
   },
   "outputs": [],
   "source": [
    "###################################################################\n",
    "# Create train dataset from several tensors with matching first dimension\n",
    "features = Tensor(X_train.to_numpy())\n",
    "labels = Tensor(y_train.to_numpy()).long()\n",
    "\n",
    "train_dataset = TensorDataset( features, labels )\n",
    "# train_dataset = CustomDataset( features, labels, randomList ) # randomize certain columns\n",
    "\n",
    "# Create a data loader from the dataset\n",
    "if balance == None or balance == 'truncate':\n",
    "    # Type of sampling and batch size are specified at this step\n",
    "    train_loader = DataLoader(train_dataset, shuffle=True, \n",
    "                              batch_size=BATCH_SIZE, drop_last=True)\n",
    "\n",
    "if balance == 'weighted':\n",
    "    # weighted sampler to balance training data\n",
    "    train_loader = DataLoader(train_dataset, sampler=sampler, \n",
    "                              batch_size=BATCH_SIZE, drop_last=True)\n",
    "\n",
    "###################################################################\n",
    "# Create test dataset from several tensors with matching first dimension\n",
    "features = Tensor(X_test.to_numpy())\n",
    "labels = Tensor(y_test.to_numpy()).long()\n",
    "\n",
    "test_dataset = TensorDataset( features, labels )\n",
    "# test_dataset = CustomDataset( features, labels, randomList ) # randomize certain columns\n",
    "\n",
    "# Create a data loader from the dataset\n",
    "if balance == None or balance == 'truncate':\n",
    "    test_loader = DataLoader(test_dataset, shuffle=False, \n",
    "                             batch_size=BATCH_SIZE, drop_last=True)\n",
    "\n",
    "if balance == 'weighted':\n",
    "    # need this weighted sampler to balance testing data too, \n",
    "    #      otherwise learning curves are odd\n",
    "    # a weighted test_loader is a good substitute for the required weighting \n",
    "    #      of the test accuracy in imbalanced cases ... \n",
    "    #      since accuracies are means over epochs statistics are incorrect without it\n",
    "    #\n",
    "    # test_loader = DataLoader(test_dataset, shuffle=False, \n",
    "    #                          batch_size=batch_size, drop_last=False)\n",
    "    # test_loader = DataLoader(test_dataset, sampler=sampler_test, \n",
    "                             # batch_size=batch_size, drop_last=False)\n",
    "    test_loader = DataLoader(test_dataset, sampler=sampler_test, \n",
    "                             batch_size=BATCH_SIZE, drop_last=True)    "
   ]
  },
  {
   "cell_type": "markdown",
   "metadata": {},
   "source": [
    "## vanilla pytorch bayes by backprop"
   ]
  },
  {
   "cell_type": "code",
   "execution_count": 39,
   "metadata": {
    "tags": []
   },
   "outputs": [],
   "source": [
    "class Gaussian(object):\n",
    "    def __init__(self, mu, rho):\n",
    "        super().__init__()\n",
    "        self.mu = mu\n",
    "        self.rho = rho\n",
    "        self.normal = torch.distributions.Normal(0,1)\n",
    "    \n",
    "    @property\n",
    "    def sigma(self):\n",
    "        return torch.log1p(torch.exp(self.rho))\n",
    "    \n",
    "    def sample(self):\n",
    "#         epsilon = self.normal.sample(self.rho.size()).to(DEVICE)\n",
    "        epsilon = self.normal.sample().to(DEVICE)\n",
    "        return self.mu + self.sigma * epsilon\n",
    "    \n",
    "    def entropy(self, input):\n",
    "#         entropy = 0.5 * torch.log(2 * math.pi * math.e * self.sigma**2)\n",
    "        entropy = -self.normal.log_prob(input).exp() * self.normal.log_prob(input)\n",
    "        return entropy.sum()\n",
    "\n",
    "    def log_prob(self, input):\n",
    "        return (- math.log(math.sqrt(2 * math.pi))\n",
    "                - torch.log(self.sigma)\n",
    "                - ((input - self.mu) ** 2) / (2 * self.sigma ** 2)).sum()"
   ]
  },
  {
   "cell_type": "code",
   "execution_count": 40,
   "metadata": {
    "tags": []
   },
   "outputs": [],
   "source": [
    "from scipy.stats import gennorm\n",
    "\n",
    "class GenNormal(object):\n",
    "    def __init__(self, beta, scale):\n",
    "        super().__init__()\n",
    "        self.beta = beta.cpu().numpy()\n",
    "        self.scale = scale.cpu().numpy()\n",
    "        self.gennormal = gennorm(self.beta, loc=0.0, scale=self.scale)\n",
    "    \n",
    "    @property\n",
    "    def sigma(self):\n",
    "        return self.gennormal.std()\n",
    "    \n",
    "    def sample(self):\n",
    "        rv = self.gennormal.rvs(self.scale.shape[0])\n",
    "        rv = torch.FloatTensor(rv).to(DEVICE)\n",
    "        return rv\n",
    "    \n",
    "    def entropy(self, input):\n",
    "        x = input.cpu().detach().numpy()\n",
    "        entropy = -self.gennormal.pdf(x) * self.gennormal.logpdf(x)\n",
    "        entropy = torch.FloatTensor(entropy)\n",
    "        return entropy.sum()\n",
    "\n",
    "    def log_prob(self, input):\n",
    "        x = input.cpu().detach().numpy()\n",
    "#         x = input\n",
    "        logprob = self.gennormal.logpdf(x)\n",
    "        logprob = torch.FloatTensor(logprob)\n",
    "        return logprob.sum()"
   ]
  },
  {
   "cell_type": "code",
   "execution_count": 41,
   "metadata": {
    "tags": []
   },
   "outputs": [],
   "source": [
    "class Normal(object):\n",
    "    def __init__(self, scale):\n",
    "        super().__init__()\n",
    "        self.scale = scale\n",
    "        self.normal = torch.distributions.Normal(loc=0.0, scale=self.scale)\n",
    "        \n",
    "    def sample(self):\n",
    "        sample = self.normal.sample().to(DEVICE)\n",
    "        return sample\n",
    "    \n",
    "    def entropy(self):\n",
    "        entropy = self.normal.entropy()\n",
    "        return entropy\n",
    "\n",
    "    def log_prob(self, input):\n",
    "        prob = self.normal.log_prob(input)\n",
    "        return prob.sum()"
   ]
  },
  {
   "cell_type": "markdown",
   "metadata": {},
   "source": [
    "## prior starting parameters"
   ]
  },
  {
   "cell_type": "code",
   "execution_count": 42,
   "metadata": {
    "tags": []
   },
   "outputs": [],
   "source": [
    "BETAw = torch.FloatTensor([10]).to(DEVICE)\n",
    "BETAb = torch.FloatTensor([10]).to(DEVICE)\n",
    "\n",
    "SCALEw = torch.FloatTensor([0.3]).to(DEVICE)\n",
    "SCALEb = torch.FloatTensor([0.3]).to(DEVICE)"
   ]
  },
  {
   "cell_type": "markdown",
   "metadata": {},
   "source": [
    "## view the prior"
   ]
  },
  {
   "cell_type": "code",
   "execution_count": 43,
   "metadata": {
    "tags": []
   },
   "outputs": [],
   "source": [
    "prior = Normal(SCALEw)\n",
    "# prior = GenNormal(BETAw, SCALEw)"
   ]
  },
  {
   "cell_type": "code",
   "execution_count": 44,
   "metadata": {
    "tags": []
   },
   "outputs": [],
   "source": [
    "prior_x = torch.FloatTensor(np.linspace(-10,10,1000))\n",
    "# print(x)\n",
    "# x = (np.linspace(-5,5,1000))\n",
    "prior_pdf = np.array([])\n",
    "for xsample in prior_x:\n",
    "#     xsample = xsample.cpu()\n",
    "    p = np.exp(prior.log_prob(xsample).cpu().numpy())\n",
    "    prior_pdf = np.append(prior_pdf, p)    "
   ]
  },
  {
   "cell_type": "code",
   "execution_count": 45,
   "metadata": {
    "tags": []
   },
   "outputs": [
    {
     "name": "stdout",
     "output_type": "stream",
     "text": [
      "3.038360503467932\n"
     ]
    }
   ],
   "source": [
    "prior_samples=np.array([])\n",
    "for i in range(10000):\n",
    "    sample = prior.sample()\n",
    "    if abs(sample) < 10:\n",
    "        prior_samples = np.append(prior_samples,sample.cpu().detach().numpy())\n",
    "    \n",
    "kurs = kurtosis(prior_samples, fisher=False)\n",
    "\n",
    "print (kurs)"
   ]
  },
  {
   "cell_type": "code",
   "execution_count": 46,
   "metadata": {
    "tags": []
   },
   "outputs": [
    {
     "data": {
      "image/png": "[encoded data removed]",
      "text/plain": [
       "<Figure size 800x300 with 1 Axes>"
      ]
     },
     "metadata": {},
     "output_type": "display_data"
    }
   ],
   "source": [
    "plt.rc('figure', figsize=(8, 3))\n",
    "\n",
    "plt.hist(prior_samples, 50, density=True, label='prior');\n",
    "plt.plot(prior_x, prior_pdf);\n",
    "plt.grid(True)\n",
    "\n",
    "# plt.xlim(-0.5,0.5)\n",
    "\n",
    "plt.title('prior: normal(scale='+str(SCALEw.cpu().numpy()[0])+')');\n",
    "# plt.title('prior: gennormal(beta=10, scale=0.3');\n",
    "# plt.savefig('figures/prior-gennormal.png')\n",
    "\n",
    "# plt.savefig('figures/prior-normal('+str(SCALEw.cpu().numpy()[0])+')'+'.png')\n"
   ]
  },
  {
   "cell_type": "code",
   "execution_count": 47,
   "metadata": {
    "tags": []
   },
   "outputs": [],
   "source": [
    "from sklearn import mixture"
   ]
  },
  {
   "cell_type": "code",
   "execution_count": 48,
   "metadata": {
    "tags": []
   },
   "outputs": [],
   "source": [
    "X = prior_samples.reshape(-1, 1)"
   ]
  },
  {
   "cell_type": "code",
   "execution_count": 49,
   "metadata": {
    "tags": []
   },
   "outputs": [],
   "source": [
    "# gmm = mixture.GaussianMixture(n_components = 2, max_iter=100000, covariance_type='diag').fit(X)\n",
    "gmm = mixture.BayesianGaussianMixture(n_components = 2, max_iter=100000).fit(X)"
   ]
  },
  {
   "cell_type": "code",
   "execution_count": 50,
   "metadata": {
    "tags": []
   },
   "outputs": [
    {
     "name": "stdout",
     "output_type": "stream",
     "text": [
      "[-0.07245657  0.07475958]\n",
      "\n",
      "[0.29296279 0.28856363]\n"
     ]
    }
   ],
   "source": [
    "print (gmm.means_.squeeze())\n",
    "print (\"\")\n",
    "print (np.sqrt(gmm.covariances_).squeeze())"
   ]
  },
  {
   "cell_type": "markdown",
   "metadata": {},
   "source": [
    "## Bayesian modules"
   ]
  },
  {
   "cell_type": "code",
   "execution_count": 51,
   "metadata": {
    "lines_to_next_cell": 1,
    "tags": []
   },
   "outputs": [],
   "source": [
    "class BayesianLinear(nn.Module):\n",
    "    def __init__(self, in_features, out_features):\n",
    "        super().__init__()\n",
    "        \n",
    "        self.in_features = in_features\n",
    "        self.out_features = out_features\n",
    "\n",
    "        # Weight parameters\n",
    "        self.weight_mu  = nn.Parameter(torch.Tensor(out_features, in_features).uniform_(-0.2, 0.2))\n",
    "        self.weight_rho = nn.Parameter(torch.Tensor(out_features, in_features).uniform_(-5,-4))\n",
    "        self.weight = Gaussian(self.weight_mu, self.weight_rho)\n",
    "        \n",
    "        # Bias parameters\n",
    "        self.bias_mu  = nn.Parameter(torch.Tensor(out_features).uniform_(-0.2, 0.2))\n",
    "        self.bias_rho = nn.Parameter(torch.Tensor(out_features).uniform_(-5,-4))\n",
    "        self.bias = Gaussian(self.bias_mu, self.bias_rho)\n",
    "        \n",
    "        # Prior distributions\n",
    "#         self.weight_prior = GenNormal(BETAw, SCALEw)\n",
    "#         self.bias_prior   = GenNormal(BETAb, SCALEb)\n",
    "\n",
    "        self.weight_prior = Normal(SCALEw)\n",
    "        self.bias_prior   = Normal(SCALEb)\n",
    "\n",
    "        self.log_prior = 0\n",
    "        self.log_variational_posterior = 0\n",
    "\n",
    "    def forward(self, input, sample=False, calculate_log_probs=False):\n",
    "        if self.training or sample:\n",
    "            weight = self.weight.sample()\n",
    "            bias = self.bias.sample()\n",
    "        else:\n",
    "            weight = self.weight.mu\n",
    "            bias = self.bias.mu\n",
    "        if self.training or calculate_log_probs:\n",
    "            self.log_prior = self.weight_prior.log_prob(weight) + self.bias_prior.log_prob(bias)\n",
    "            self.log_variational_posterior = self.weight.log_prob(weight) + self.bias.log_prob(bias)\n",
    "        else:\n",
    "            self.log_prior, self.log_variational_posterior = 0, 0\n",
    "\n",
    "        return F.linear(input, weight, bias)"
   ]
  },
  {
   "cell_type": "code",
   "execution_count": 52,
   "metadata": {
    "tags": []
   },
   "outputs": [],
   "source": [
    "class BayesianNetwork(nn.Module):\n",
    "    def __init__(self, nFeatures, nHidden, nLabels, complexityWeight):\n",
    "        super().__init__()\n",
    "        self.nFeatures = nFeatures\n",
    "        self.nHidden   = nHidden\n",
    "        self.nLabels   = nLabels\n",
    "        \n",
    "        self.complexityWeight = complexityWeight\n",
    "        \n",
    "        self.l1 = BayesianLinear(self.nFeatures, self.nHidden)\n",
    "        self.l2 = BayesianLinear(self.nHidden, self.nHidden)\n",
    "        self.l3 = BayesianLinear(self.nHidden, self.nLabels)\n",
    "        \n",
    "        self.LeakyRelu  = nn.LeakyReLU(0.1)\n",
    "        self.BatchNorm  = nn.BatchNorm1d(self.nHidden)\n",
    "        self.dropout    = nn.Dropout(p=0.3)\n",
    "        self.LogSoftmax = nn.LogSoftmax(dim=1)\n",
    "    \n",
    "    def forward(self, x, sample=False):\n",
    "        x = x.view(-1, self.nFeatures)\n",
    "        \n",
    "        x = self.l1(x, sample)\n",
    "#         x = self.BatchNorm(x)\n",
    "        x = self.LeakyRelu(x)\n",
    "\n",
    "        x = self.l2(x, sample)\n",
    "        x = self.LeakyRelu(x)\n",
    "\n",
    "        x = self.l3(x, sample)\n",
    "        x = self.LogSoftmax(x)\n",
    "        \n",
    "        return x\n",
    "    \n",
    "    def mfvi_forward(self, inputs, stat=None, q=None, sample_nbr=10):\n",
    "        \"\"\"\n",
    "        Perform mean-field variational inference for the variational estimator model:\n",
    "            Performs sample_nbr forward passes with uncertainty on the weights, \n",
    "            returning its mean and standard deviation\n",
    "        \"\"\"\n",
    "        # logits from all samples - are these logsoftmax called logits?\n",
    "        logits = torch.stack([self(inputs, sample=True) for _ in range(sample_nbr)])\n",
    "        # convert logits to probability\n",
    "        probability = torch.exp(logits)\n",
    "        \n",
    "        if   stat == 'mean':\n",
    "            value = torch.mean(probability, dim=0)\n",
    "        elif stat == 'stddev':\n",
    "            value = torch.std(probability, dim=0)\n",
    "        elif stat == 'mode':\n",
    "            value, _ = torch.mode(probability, dim=0)\n",
    "        elif stat == 'quantile':\n",
    "            value = torch.quantile(probability, q, dim=0)\n",
    "        else:\n",
    "            value = torch.tensor([0.0])            \n",
    "        return value\n",
    "\n",
    "    def log_prior(self):\n",
    "        return self.l1.log_prior \\\n",
    "               + self.l2.log_prior \\\n",
    "               + self.l3.log_prior\n",
    "    \n",
    "    def log_variational_posterior(self):\n",
    "        return self.l1.log_variational_posterior \\\n",
    "               + self.l2.log_variational_posterior \\\n",
    "               + self.l3.log_variational_posterior\n",
    "    \n",
    "    def get_weights(self, param):\n",
    "        if param == 'samples':\n",
    "            return self.l1.weight.sample(), self.l2.weight.sample(), self.l3.weight.sample()\n",
    "        elif param == 'sigmas':\n",
    "            return self.l1.weight.sigma, self.l2.weight.sigma, self.l3.weight.sigma\n",
    "        elif param == 'means':\n",
    "            return self.l1.weight.mu, self.l2.weight.mu, self.l3.weight.mu\n",
    "    \n",
    "    def get_biases(self, param):\n",
    "        if param == 'samples':\n",
    "            return self.l1.bias.sample(), self.l2.bias.sample(), self.l3.bias.sample()\n",
    "        elif param == 'sigmas':\n",
    "            return self.l1.bias.sigma, self.l2.bias.sigma, self.l3.bias.sigma\n",
    "        elif param == 'means':\n",
    "            return self.l1.bias.mu, self.l2.bias.mu, self.l3.bias.mu\n",
    "\n",
    "    def sample_elbo(self, input, target, samples=3):\n",
    "        outputs = torch.zeros(samples, BATCH_SIZE, self.nLabels).to(DEVICE)\n",
    "        log_priors = torch.zeros(samples).to(DEVICE)\n",
    "        log_variational_posteriors = torch.zeros(samples).to(DEVICE)\n",
    "        \n",
    "        for i in range(samples):\n",
    "            outputs[i] = self(input, sample=True) # this is same as \"forward\"\n",
    "            log_priors[i] = self.log_prior()\n",
    "            log_variational_posteriors[i] = self.log_variational_posterior()\n",
    "\n",
    "        log_prior = log_priors.mean()\n",
    "        log_variational_posterior = log_variational_posteriors.mean()\n",
    "\n",
    "        negative_log_likelihood = F.nll_loss(outputs.mean(0), target, reduction='mean')\n",
    "\n",
    "        loss = self.complexityWeight*(log_variational_posterior - log_prior) + negative_log_likelihood\n",
    "\n",
    "        return loss, log_prior, log_variational_posterior, negative_log_likelihood"
   ]
  },
  {
   "cell_type": "code",
   "execution_count": 53,
   "metadata": {
    "tags": []
   },
   "outputs": [],
   "source": [
    "def train(net, optimizer, epoch):\n",
    "    \n",
    "    ###########\n",
    "    net.train()\n",
    "    total = 0\n",
    "    total_loss = 0.0\n",
    "    total_log_prior = 0.0\n",
    "    total_log_variational_posterior = 0.0\n",
    "    total_negative_log_likelihood = 0.0\n",
    "    for batch_idx, (features, labels) in enumerate(train_loader):\n",
    "        features, labels = features.to(DEVICE), labels.to(DEVICE)\n",
    "        net.zero_grad()\n",
    "        loss, log_prior, log_variational_posterior, negative_log_likelihood = net.sample_elbo(features, labels)\n",
    "        loss.backward()\n",
    "        optimizer.step()\n",
    "        total += labels.size(0)\n",
    "        total_loss += loss.cpu().detach().numpy()\n",
    "        total_log_prior += log_prior.cpu().detach().numpy()\n",
    "        total_log_variational_posterior += log_variational_posterior.cpu().detach().numpy()\n",
    "        total_negative_log_likelihood += negative_log_likelihood.cpu().detach().numpy()\n",
    "        \n",
    "    epoch_loss = total_loss / total\n",
    "    epoch_log_prior = total_log_prior / total\n",
    "    epoch_log_variational_posterior = total_log_variational_posterior / total\n",
    "    epoch_negative_log_likelihood = total_negative_log_likelihood / total\n",
    "\n",
    "    ###########\n",
    "    net.eval()\n",
    "    # average train accuracy per epoch ... since this is an average they should be weighted\n",
    "    correct = 0\n",
    "    total = 0\n",
    "    with torch.no_grad():\n",
    "        for data in train_loader:\n",
    "            features, labels = data\n",
    "            outputs = net(features.to(DEVICE), sample=True)\n",
    "            _, predicted = torch.max(outputs.data, 1)\n",
    "            total += labels.size(0)\n",
    "            correct += (predicted == labels.to(DEVICE)).sum().item()\n",
    "\n",
    "    epoch_train_acc = 100 * correct / total\n",
    "    \n",
    "    # average test accuracy per epoch ... since this is an average they should be weighted\n",
    "    correct = 0\n",
    "    total = 0\n",
    "    with torch.no_grad():\n",
    "        for data in test_loader:\n",
    "            features, labels = data\n",
    "            outputs = net(features.to(DEVICE), sample=True)\n",
    "            _, predicted = torch.max(outputs.data, 1)\n",
    "            total += labels.size(0)\n",
    "            correct += (predicted == labels.to(DEVICE)).sum().item()\n",
    "\n",
    "    epoch_test_acc = 100 * correct / total\n",
    "\n",
    "    return epoch_loss, epoch_train_acc, epoch_test_acc, \\\n",
    "            epoch_log_prior, epoch_log_variational_posterior, epoch_negative_log_likelihood"
   ]
  },
  {
   "cell_type": "code",
   "execution_count": 54,
   "metadata": {
    "tags": []
   },
   "outputs": [],
   "source": [
    "def evaluate(net, epoch):\n",
    "    \n",
    "    ###########\n",
    "    net.eval()\n",
    "    total = 0\n",
    "    total_loss = 0.0\n",
    "    total_log_prior = 0.0\n",
    "    total_log_variational_posterior = 0.0\n",
    "    total_negative_log_likelihood = 0.0\n",
    "    for batch_idx, (features, labels) in enumerate(train_loader):\n",
    "        features, labels = features.to(DEVICE), labels.to(DEVICE)\n",
    "#         net.zero_grad()\n",
    "        loss, log_prior, log_variational_posterior, negative_log_likelihood = net.sample_elbo(features, labels)\n",
    "#         loss.backward()\n",
    "#         optimizer.step()\n",
    "        total += labels.size(0)\n",
    "        total_loss += loss.cpu().detach().numpy()\n",
    "        total_log_prior += log_prior.cpu().detach().numpy()\n",
    "        total_log_variational_posterior += log_variational_posterior.cpu().detach().numpy()\n",
    "        total_negative_log_likelihood += negative_log_likelihood.cpu().detach().numpy()\n",
    "        \n",
    "    epoch_loss = total_loss / total\n",
    "    epoch_log_prior = total_log_prior / total\n",
    "    epoch_log_variational_posterior = total_log_variational_posterior / total\n",
    "    epoch_negative_log_likelihood = total_negative_log_likelihood / total\n",
    "\n",
    "    ###########\n",
    "    net.eval()\n",
    "    # average train accuracy per epoch\n",
    "    correct = 0\n",
    "    total = 0\n",
    "    with torch.no_grad():\n",
    "        for data in train_loader:\n",
    "            features, labels = data\n",
    "            outputs = net(features.to(DEVICE), sample=True)\n",
    "            _, predicted = torch.max(outputs.data, 1)\n",
    "            total += labels.size(0)\n",
    "            correct += (predicted == labels.to(DEVICE)).sum().item()\n",
    "\n",
    "    epoch_train_acc = 100 * correct / total\n",
    "    \n",
    "    # average test accuracy per epoch\n",
    "    correct = 0\n",
    "    total = 0\n",
    "    with torch.no_grad():\n",
    "        for data in test_loader:\n",
    "            features, labels = data\n",
    "            outputs = net(features.to(DEVICE), sample=True)\n",
    "            _, predicted = torch.max(outputs.data, 1)\n",
    "            total += labels.size(0)\n",
    "            correct += (predicted == labels.to(DEVICE)).sum().item()\n",
    "\n",
    "    epoch_test_acc = 100 * correct / total\n",
    "\n",
    "    return epoch_loss, epoch_train_acc, epoch_test_acc, \\\n",
    "            epoch_log_prior, epoch_log_variational_posterior, epoch_negative_log_likelihood"
   ]
  },
  {
   "cell_type": "markdown",
   "metadata": {},
   "source": [
    "## model instance"
   ]
  },
  {
   "cell_type": "markdown",
   "metadata": {},
   "source": [
    "### settings"
   ]
  },
  {
   "cell_type": "code",
   "execution_count": 55,
   "metadata": {
    "tags": []
   },
   "outputs": [],
   "source": [
    "TRAIN_SIZE = len(train_loader.dataset)\n",
    "TEST_SIZE = len(test_loader.dataset)\n",
    "\n",
    "# total number of probabilistic weights + biases\n",
    "nHidden = 16\n",
    "nLabels = 2\n",
    "nBayesianModules = nFeatures*nHidden + \\\n",
    "                     nHidden*nHidden + \\\n",
    "                     nHidden*nLabels + \\\n",
    "                     nHidden + nHidden + nLabels\n",
    "\n",
    "weightScales = np.around(np.logspace(np.log10(1),np.log10(5),30),3)\n",
    "# weightScales = np.around(np.logspace(np.log10(1),np.log10(5),10), 3)\n",
    "# weightScales=[3]"
   ]
  },
  {
   "cell_type": "code",
   "execution_count": 56,
   "metadata": {
    "tags": []
   },
   "outputs": [
    {
     "data": {
      "text/plain": [
       "array([1.   , 1.057, 1.117, 1.181, 1.249, 1.32 , 1.395, 1.475, 1.559,\n",
       "       1.648, 1.742, 1.841, 1.946, 2.057, 2.175, 2.299, 2.43 , 2.569,\n",
       "       2.715, 2.87 , 3.034, 3.207, 3.39 , 3.584, 3.788, 4.005, 4.233,\n",
       "       4.475, 4.73 , 5.   ])"
      ]
     },
     "execution_count": 56,
     "metadata": {},
     "output_type": "execute_result"
    }
   ],
   "source": [
    "weightScales"
   ]
  },
  {
   "cell_type": "code",
   "execution_count": 57,
   "metadata": {
    "tags": []
   },
   "outputs": [
    {
     "data": {
      "text/plain": [
       "30"
      ]
     },
     "execution_count": 57,
     "metadata": {},
     "output_type": "execute_result"
    }
   ],
   "source": [
    "len(weightScales)"
   ]
  },
  {
   "cell_type": "code",
   "execution_count": 58,
   "metadata": {
    "tags": []
   },
   "outputs": [],
   "source": [
    "from sklearn.metrics import classification_report\n",
    "from sklearn.metrics import f1_score, precision_score, recall_score, confusion_matrix\n",
    "from sklearn.metrics import roc_curve, auc\n",
    "from sklearn.metrics import roc_auc_score"
   ]
  },
  {
   "cell_type": "code",
   "execution_count": 59,
   "metadata": {
    "tags": []
   },
   "outputs": [],
   "source": [
    "def to_class(ypred,threshold):\n",
    "    yclass = np.zeros(ypred.shape,dtype='int')\n",
    "    yclass[ypred > threshold] = 1\n",
    "    return yclass"
   ]
  },
  {
   "cell_type": "markdown",
   "metadata": {},
   "source": [
    "### main loop over weightScales"
   ]
  },
  {
   "cell_type": "code",
   "execution_count": 60,
   "metadata": {
    "lines_to_next_cell": 2,
    "scrolled": true,
    "tags": []
   },
   "outputs": [
    {
     "data": {
      "application/vnd.jupyter.widget-view+json": {
       "model_id": "e966e8c5b712485f93ce84999e3a7932",
       "version_major": 2,
       "version_minor": 0
      },
      "text/plain": [
       "  0%|          | 0/1000 [00:00<?, ?it/s]"
      ]
     },
     "metadata": {},
     "output_type": "display_data"
    },
    {
     "name": "stdout",
     "output_type": "stream",
     "text": [
      "Epoch 00738: reducing learning rate of group 0 to 5.0000e-04.\n",
      "Epoch 00839: reducing learning rate of group 0 to 2.5000e-04.\n",
      "Epoch 00940: reducing learning rate of group 0 to 1.2500e-04.\n",
      "(448000,)\n",
      "\n"
     ]
    },
    {
     "data": {
      "application/vnd.jupyter.widget-view+json": {
       "model_id": "8fd199807c7d40b3a163b122fd010255",
       "version_major": 2,
       "version_minor": 0
      },
      "text/plain": [
       "  0%|          | 0/1000 [00:00<?, ?it/s]"
      ]
     },
     "metadata": {},
     "output_type": "display_data"
    },
    {
     "name": "stdout",
     "output_type": "stream",
     "text": [
      "Epoch 00687: reducing learning rate of group 0 to 5.0000e-04.\n",
      "Epoch 00933: reducing learning rate of group 0 to 2.5000e-04.\n",
      "(448000,)\n",
      "\n"
     ]
    },
    {
     "data": {
      "application/vnd.jupyter.widget-view+json": {
       "model_id": "39de102990384295b15171f8686eeff0",
       "version_major": 2,
       "version_minor": 0
      },
      "text/plain": [
       "  0%|          | 0/1000 [00:00<?, ?it/s]"
      ]
     },
     "metadata": {},
     "output_type": "display_data"
    },
    {
     "name": "stdout",
     "output_type": "stream",
     "text": [
      "Epoch 00688: reducing learning rate of group 0 to 5.0000e-04.\n",
      "Epoch 00789: reducing learning rate of group 0 to 2.5000e-04.\n",
      "Epoch 00890: reducing learning rate of group 0 to 1.2500e-04.\n",
      "(448000,)\n",
      "\n"
     ]
    },
    {
     "data": {
      "application/vnd.jupyter.widget-view+json": {
       "model_id": "ce363773559c4092a798491d18072b81",
       "version_major": 2,
       "version_minor": 0
      },
      "text/plain": [
       "  0%|          | 0/1000 [00:00<?, ?it/s]"
      ]
     },
     "metadata": {},
     "output_type": "display_data"
    },
    {
     "name": "stdout",
     "output_type": "stream",
     "text": [
      "Epoch 00843: reducing learning rate of group 0 to 5.0000e-04.\n",
      "Epoch 00944: reducing learning rate of group 0 to 2.5000e-04.\n",
      "(448000,)\n",
      "\n"
     ]
    },
    {
     "data": {
      "application/vnd.jupyter.widget-view+json": {
       "model_id": "bca9a9ba572148d4b53bfa7c41401885",
       "version_major": 2,
       "version_minor": 0
      },
      "text/plain": [
       "  0%|          | 0/1000 [00:00<?, ?it/s]"
      ]
     },
     "metadata": {},
     "output_type": "display_data"
    },
    {
     "name": "stdout",
     "output_type": "stream",
     "text": [
      "Epoch 00704: reducing learning rate of group 0 to 5.0000e-04.\n",
      "Epoch 00805: reducing learning rate of group 0 to 2.5000e-04.\n",
      "Epoch 00906: reducing learning rate of group 0 to 1.2500e-04.\n",
      "(448000,)\n",
      "\n"
     ]
    },
    {
     "data": {
      "application/vnd.jupyter.widget-view+json": {
       "model_id": "2e045837440d4d43901f7fc017b3d42d",
       "version_major": 2,
       "version_minor": 0
      },
      "text/plain": [
       "  0%|          | 0/1000 [00:00<?, ?it/s]"
      ]
     },
     "metadata": {},
     "output_type": "display_data"
    },
    {
     "name": "stdout",
     "output_type": "stream",
     "text": [
      "Epoch 00845: reducing learning rate of group 0 to 5.0000e-04.\n",
      "Epoch 00946: reducing learning rate of group 0 to 2.5000e-04.\n",
      "(448000,)\n",
      "\n"
     ]
    },
    {
     "data": {
      "application/vnd.jupyter.widget-view+json": {
       "model_id": "00f989ae6cfe4822a07b4f9683dfffff",
       "version_major": 2,
       "version_minor": 0
      },
      "text/plain": [
       "  0%|          | 0/1000 [00:00<?, ?it/s]"
      ]
     },
     "metadata": {},
     "output_type": "display_data"
    },
    {
     "name": "stdout",
     "output_type": "stream",
     "text": [
      "Epoch 00646: reducing learning rate of group 0 to 5.0000e-04.\n",
      "Epoch 00760: reducing learning rate of group 0 to 2.5000e-04.\n",
      "Epoch 00861: reducing learning rate of group 0 to 1.2500e-04.\n",
      "Epoch 00962: reducing learning rate of group 0 to 6.2500e-05.\n",
      "(448000,)\n",
      "\n"
     ]
    },
    {
     "data": {
      "application/vnd.jupyter.widget-view+json": {
       "model_id": "d67998ddfc2141f7b1d3ad07b0feae3d",
       "version_major": 2,
       "version_minor": 0
      },
      "text/plain": [
       "  0%|          | 0/1000 [00:00<?, ?it/s]"
      ]
     },
     "metadata": {},
     "output_type": "display_data"
    },
    {
     "name": "stdout",
     "output_type": "stream",
     "text": [
      "Epoch 00756: reducing learning rate of group 0 to 5.0000e-04.\n",
      "Epoch 00857: reducing learning rate of group 0 to 2.5000e-04.\n",
      "Epoch 00966: reducing learning rate of group 0 to 1.2500e-04.\n",
      "(448000,)\n",
      "\n"
     ]
    },
    {
     "data": {
      "application/vnd.jupyter.widget-view+json": {
       "model_id": "ef9336ffd4d64b5da97ee95e29fa32bb",
       "version_major": 2,
       "version_minor": 0
      },
      "text/plain": [
       "  0%|          | 0/1000 [00:00<?, ?it/s]"
      ]
     },
     "metadata": {},
     "output_type": "display_data"
    },
    {
     "name": "stdout",
     "output_type": "stream",
     "text": [
      "Epoch 00715: reducing learning rate of group 0 to 5.0000e-04.\n",
      "Epoch 00816: reducing learning rate of group 0 to 2.5000e-04.\n",
      "Epoch 00917: reducing learning rate of group 0 to 1.2500e-04.\n",
      "(448000,)\n",
      "\n"
     ]
    },
    {
     "data": {
      "application/vnd.jupyter.widget-view+json": {
       "model_id": "e34ca99fea014b119306fc5c79430131",
       "version_major": 2,
       "version_minor": 0
      },
      "text/plain": [
       "  0%|          | 0/1000 [00:00<?, ?it/s]"
      ]
     },
     "metadata": {},
     "output_type": "display_data"
    },
    {
     "name": "stdout",
     "output_type": "stream",
     "text": [
      "Epoch 00650: reducing learning rate of group 0 to 5.0000e-04.\n",
      "Epoch 00751: reducing learning rate of group 0 to 2.5000e-04.\n",
      "Epoch 00852: reducing learning rate of group 0 to 1.2500e-04.\n",
      "Epoch 00953: reducing learning rate of group 0 to 6.2500e-05.\n",
      "(448000,)\n",
      "\n"
     ]
    },
    {
     "data": {
      "application/vnd.jupyter.widget-view+json": {
       "model_id": "24dcd23c660c44e9ab51a21d87e79b24",
       "version_major": 2,
       "version_minor": 0
      },
      "text/plain": [
       "  0%|          | 0/1000 [00:00<?, ?it/s]"
      ]
     },
     "metadata": {},
     "output_type": "display_data"
    },
    {
     "name": "stdout",
     "output_type": "stream",
     "text": [
      "Epoch 00672: reducing learning rate of group 0 to 5.0000e-04.\n",
      "Epoch 00773: reducing learning rate of group 0 to 2.5000e-04.\n",
      "Epoch 00874: reducing learning rate of group 0 to 1.2500e-04.\n",
      "Epoch 00975: reducing learning rate of group 0 to 6.2500e-05.\n",
      "(448000,)\n",
      "\n"
     ]
    },
    {
     "data": {
      "application/vnd.jupyter.widget-view+json": {
       "model_id": "086b840ea5814740b85d49f4e210f23d",
       "version_major": 2,
       "version_minor": 0
      },
      "text/plain": [
       "  0%|          | 0/1000 [00:00<?, ?it/s]"
      ]
     },
     "metadata": {},
     "output_type": "display_data"
    },
    {
     "name": "stdout",
     "output_type": "stream",
     "text": [
      "Epoch 00708: reducing learning rate of group 0 to 5.0000e-04.\n",
      "Epoch 00809: reducing learning rate of group 0 to 2.5000e-04.\n",
      "Epoch 00910: reducing learning rate of group 0 to 1.2500e-04.\n",
      "(448000,)\n",
      "\n"
     ]
    },
    {
     "data": {
      "application/vnd.jupyter.widget-view+json": {
       "model_id": "717ffa2f50fd4f4f940bbf8a901f7fca",
       "version_major": 2,
       "version_minor": 0
      },
      "text/plain": [
       "  0%|          | 0/1000 [00:00<?, ?it/s]"
      ]
     },
     "metadata": {},
     "output_type": "display_data"
    },
    {
     "name": "stdout",
     "output_type": "stream",
     "text": [
      "Epoch 00701: reducing learning rate of group 0 to 5.0000e-04.\n",
      "Epoch 00802: reducing learning rate of group 0 to 2.5000e-04.\n",
      "Epoch 00903: reducing learning rate of group 0 to 1.2500e-04.\n",
      "(448000,)\n",
      "\n"
     ]
    },
    {
     "data": {
      "application/vnd.jupyter.widget-view+json": {
       "model_id": "9e6c2e2be580422497c65ac675ee7595",
       "version_major": 2,
       "version_minor": 0
      },
      "text/plain": [
       "  0%|          | 0/1000 [00:00<?, ?it/s]"
      ]
     },
     "metadata": {},
     "output_type": "display_data"
    },
    {
     "name": "stdout",
     "output_type": "stream",
     "text": [
      "Epoch 00549: reducing learning rate of group 0 to 5.0000e-04.\n",
      "Epoch 00664: reducing learning rate of group 0 to 2.5000e-04.\n",
      "Epoch 00765: reducing learning rate of group 0 to 1.2500e-04.\n",
      "Epoch 00866: reducing learning rate of group 0 to 6.2500e-05.\n",
      "Epoch 00967: reducing learning rate of group 0 to 3.1250e-05.\n",
      "(448000,)\n",
      "\n"
     ]
    },
    {
     "data": {
      "application/vnd.jupyter.widget-view+json": {
       "model_id": "89b336ad0e6342d2956e4917a4b0e85c",
       "version_major": 2,
       "version_minor": 0
      },
      "text/plain": [
       "  0%|          | 0/1000 [00:00<?, ?it/s]"
      ]
     },
     "metadata": {},
     "output_type": "display_data"
    },
    {
     "name": "stdout",
     "output_type": "stream",
     "text": [
      "Epoch 00650: reducing learning rate of group 0 to 5.0000e-04.\n",
      "Epoch 00751: reducing learning rate of group 0 to 2.5000e-04.\n",
      "Epoch 00852: reducing learning rate of group 0 to 1.2500e-04.\n",
      "Epoch 00953: reducing learning rate of group 0 to 6.2500e-05.\n",
      "(448000,)\n",
      "\n"
     ]
    },
    {
     "data": {
      "application/vnd.jupyter.widget-view+json": {
       "model_id": "0684f03ca55b468ba421e6ab8825589d",
       "version_major": 2,
       "version_minor": 0
      },
      "text/plain": [
       "  0%|          | 0/1000 [00:00<?, ?it/s]"
      ]
     },
     "metadata": {},
     "output_type": "display_data"
    },
    {
     "name": "stdout",
     "output_type": "stream",
     "text": [
      "Epoch 00710: reducing learning rate of group 0 to 5.0000e-04.\n",
      "Epoch 00811: reducing learning rate of group 0 to 2.5000e-04.\n",
      "Epoch 00912: reducing learning rate of group 0 to 1.2500e-04.\n",
      "(448000,)\n",
      "\n"
     ]
    },
    {
     "data": {
      "application/vnd.jupyter.widget-view+json": {
       "model_id": "e91dfcf5ef57413588addb39fc4f411b",
       "version_major": 2,
       "version_minor": 0
      },
      "text/plain": [
       "  0%|          | 0/1000 [00:00<?, ?it/s]"
      ]
     },
     "metadata": {},
     "output_type": "display_data"
    },
    {
     "name": "stdout",
     "output_type": "stream",
     "text": [
      "Epoch 00734: reducing learning rate of group 0 to 5.0000e-04.\n",
      "Epoch 00835: reducing learning rate of group 0 to 2.5000e-04.\n",
      "Epoch 00936: reducing learning rate of group 0 to 1.2500e-04.\n",
      "(448000,)\n",
      "\n"
     ]
    },
    {
     "data": {
      "application/vnd.jupyter.widget-view+json": {
       "model_id": "ba5f4f7f08d84078bee4e634423544be",
       "version_major": 2,
       "version_minor": 0
      },
      "text/plain": [
       "  0%|          | 0/1000 [00:00<?, ?it/s]"
      ]
     },
     "metadata": {},
     "output_type": "display_data"
    },
    {
     "name": "stdout",
     "output_type": "stream",
     "text": [
      "Epoch 00659: reducing learning rate of group 0 to 5.0000e-04.\n",
      "Epoch 00760: reducing learning rate of group 0 to 2.5000e-04.\n",
      "Epoch 00861: reducing learning rate of group 0 to 1.2500e-04.\n",
      "Epoch 00962: reducing learning rate of group 0 to 6.2500e-05.\n",
      "(448000,)\n",
      "\n"
     ]
    },
    {
     "data": {
      "application/vnd.jupyter.widget-view+json": {
       "model_id": "c4c6fe77712f4d65ade0b19b083389da",
       "version_major": 2,
       "version_minor": 0
      },
      "text/plain": [
       "  0%|          | 0/1000 [00:00<?, ?it/s]"
      ]
     },
     "metadata": {},
     "output_type": "display_data"
    },
    {
     "name": "stdout",
     "output_type": "stream",
     "text": [
      "Epoch 00665: reducing learning rate of group 0 to 5.0000e-04.\n",
      "Epoch 00766: reducing learning rate of group 0 to 2.5000e-04.\n",
      "Epoch 00867: reducing learning rate of group 0 to 1.2500e-04.\n",
      "Epoch 00968: reducing learning rate of group 0 to 6.2500e-05.\n",
      "(448000,)\n",
      "\n"
     ]
    },
    {
     "data": {
      "application/vnd.jupyter.widget-view+json": {
       "model_id": "3ec0313f2a734367b1c4d52ccf6be4dc",
       "version_major": 2,
       "version_minor": 0
      },
      "text/plain": [
       "  0%|          | 0/1000 [00:00<?, ?it/s]"
      ]
     },
     "metadata": {},
     "output_type": "display_data"
    },
    {
     "name": "stdout",
     "output_type": "stream",
     "text": [
      "Epoch 00705: reducing learning rate of group 0 to 5.0000e-04.\n",
      "Epoch 00806: reducing learning rate of group 0 to 2.5000e-04.\n",
      "Epoch 00907: reducing learning rate of group 0 to 1.2500e-04.\n",
      "(448000,)\n",
      "\n"
     ]
    },
    {
     "data": {
      "application/vnd.jupyter.widget-view+json": {
       "model_id": "01b9737ed11e455b9e9ba03f312778a0",
       "version_major": 2,
       "version_minor": 0
      },
      "text/plain": [
       "  0%|          | 0/1000 [00:00<?, ?it/s]"
      ]
     },
     "metadata": {},
     "output_type": "display_data"
    },
    {
     "name": "stdout",
     "output_type": "stream",
     "text": [
      "Epoch 00702: reducing learning rate of group 0 to 5.0000e-04.\n",
      "Epoch 00803: reducing learning rate of group 0 to 2.5000e-04.\n",
      "Epoch 00904: reducing learning rate of group 0 to 1.2500e-04.\n",
      "(448000,)\n",
      "\n"
     ]
    },
    {
     "data": {
      "application/vnd.jupyter.widget-view+json": {
       "model_id": "0c76751b84cb48d19fde01e75a5d4fa4",
       "version_major": 2,
       "version_minor": 0
      },
      "text/plain": [
       "  0%|          | 0/1000 [00:00<?, ?it/s]"
      ]
     },
     "metadata": {},
     "output_type": "display_data"
    },
    {
     "name": "stdout",
     "output_type": "stream",
     "text": [
      "Epoch 00646: reducing learning rate of group 0 to 5.0000e-04.\n",
      "Epoch 00747: reducing learning rate of group 0 to 2.5000e-04.\n",
      "Epoch 00848: reducing learning rate of group 0 to 1.2500e-04.\n",
      "Epoch 00949: reducing learning rate of group 0 to 6.2500e-05.\n",
      "(448000,)\n",
      "\n"
     ]
    },
    {
     "data": {
      "application/vnd.jupyter.widget-view+json": {
       "model_id": "c8413d66f50745de8238d63c642e7197",
       "version_major": 2,
       "version_minor": 0
      },
      "text/plain": [
       "  0%|          | 0/1000 [00:00<?, ?it/s]"
      ]
     },
     "metadata": {},
     "output_type": "display_data"
    },
    {
     "name": "stdout",
     "output_type": "stream",
     "text": [
      "Epoch 00607: reducing learning rate of group 0 to 5.0000e-04.\n",
      "Epoch 00708: reducing learning rate of group 0 to 2.5000e-04.\n",
      "Epoch 00809: reducing learning rate of group 0 to 1.2500e-04.\n",
      "Epoch 00910: reducing learning rate of group 0 to 6.2500e-05.\n",
      "(448000,)\n",
      "\n"
     ]
    },
    {
     "data": {
      "application/vnd.jupyter.widget-view+json": {
       "model_id": "eb316f0a8276421193c1aad05f8f901a",
       "version_major": 2,
       "version_minor": 0
      },
      "text/plain": [
       "  0%|          | 0/1000 [00:00<?, ?it/s]"
      ]
     },
     "metadata": {},
     "output_type": "display_data"
    },
    {
     "name": "stdout",
     "output_type": "stream",
     "text": [
      "Epoch 00630: reducing learning rate of group 0 to 5.0000e-04.\n",
      "Epoch 00731: reducing learning rate of group 0 to 2.5000e-04.\n",
      "Epoch 00832: reducing learning rate of group 0 to 1.2500e-04.\n",
      "Epoch 00933: reducing learning rate of group 0 to 6.2500e-05.\n",
      "(448000,)\n",
      "\n"
     ]
    },
    {
     "data": {
      "application/vnd.jupyter.widget-view+json": {
       "model_id": "0ff1dd93a8bf412fbac7b05026245243",
       "version_major": 2,
       "version_minor": 0
      },
      "text/plain": [
       "  0%|          | 0/1000 [00:00<?, ?it/s]"
      ]
     },
     "metadata": {},
     "output_type": "display_data"
    },
    {
     "name": "stdout",
     "output_type": "stream",
     "text": [
      "Epoch 00724: reducing learning rate of group 0 to 5.0000e-04.\n",
      "Epoch 00825: reducing learning rate of group 0 to 2.5000e-04.\n",
      "Epoch 00926: reducing learning rate of group 0 to 1.2500e-04.\n",
      "(448000,)\n",
      "\n"
     ]
    },
    {
     "data": {
      "application/vnd.jupyter.widget-view+json": {
       "model_id": "403c09217abc4d47b859683a8dc5aa9a",
       "version_major": 2,
       "version_minor": 0
      },
      "text/plain": [
       "  0%|          | 0/1000 [00:00<?, ?it/s]"
      ]
     },
     "metadata": {},
     "output_type": "display_data"
    },
    {
     "name": "stdout",
     "output_type": "stream",
     "text": [
      "Epoch 00620: reducing learning rate of group 0 to 5.0000e-04.\n",
      "Epoch 00721: reducing learning rate of group 0 to 2.5000e-04.\n",
      "Epoch 00822: reducing learning rate of group 0 to 1.2500e-04.\n",
      "Epoch 00923: reducing learning rate of group 0 to 6.2500e-05.\n",
      "(448000,)\n",
      "\n"
     ]
    },
    {
     "data": {
      "application/vnd.jupyter.widget-view+json": {
       "model_id": "fcfd5c9c530444d287531724c9e6d45f",
       "version_major": 2,
       "version_minor": 0
      },
      "text/plain": [
       "  0%|          | 0/1000 [00:00<?, ?it/s]"
      ]
     },
     "metadata": {},
     "output_type": "display_data"
    },
    {
     "name": "stdout",
     "output_type": "stream",
     "text": [
      "Epoch 00637: reducing learning rate of group 0 to 5.0000e-04.\n",
      "Epoch 00738: reducing learning rate of group 0 to 2.5000e-04.\n",
      "Epoch 00839: reducing learning rate of group 0 to 1.2500e-04.\n",
      "Epoch 00940: reducing learning rate of group 0 to 6.2500e-05.\n",
      "(448000,)\n",
      "\n"
     ]
    },
    {
     "data": {
      "application/vnd.jupyter.widget-view+json": {
       "model_id": "473c986a2ef14aaca9f4741998984f71",
       "version_major": 2,
       "version_minor": 0
      },
      "text/plain": [
       "  0%|          | 0/1000 [00:00<?, ?it/s]"
      ]
     },
     "metadata": {},
     "output_type": "display_data"
    },
    {
     "name": "stdout",
     "output_type": "stream",
     "text": [
      "Epoch 00629: reducing learning rate of group 0 to 5.0000e-04.\n",
      "Epoch 00730: reducing learning rate of group 0 to 2.5000e-04.\n",
      "Epoch 00831: reducing learning rate of group 0 to 1.2500e-04.\n",
      "Epoch 00932: reducing learning rate of group 0 to 6.2500e-05.\n",
      "(448000,)\n",
      "\n"
     ]
    },
    {
     "data": {
      "application/vnd.jupyter.widget-view+json": {
       "model_id": "10fac14623584c959a5f783a0c58d975",
       "version_major": 2,
       "version_minor": 0
      },
      "text/plain": [
       "  0%|          | 0/1000 [00:00<?, ?it/s]"
      ]
     },
     "metadata": {},
     "output_type": "display_data"
    },
    {
     "name": "stdout",
     "output_type": "stream",
     "text": [
      "Epoch 00668: reducing learning rate of group 0 to 5.0000e-04.\n",
      "Epoch 00769: reducing learning rate of group 0 to 2.5000e-04.\n",
      "Epoch 00870: reducing learning rate of group 0 to 1.2500e-04.\n",
      "Epoch 00971: reducing learning rate of group 0 to 6.2500e-05.\n",
      "(448000,)\n",
      "\n"
     ]
    },
    {
     "data": {
      "application/vnd.jupyter.widget-view+json": {
       "model_id": "da14fe5b0e60414caf9c8a555bb55d5b",
       "version_major": 2,
       "version_minor": 0
      },
      "text/plain": [
       "  0%|          | 0/1000 [00:00<?, ?it/s]"
      ]
     },
     "metadata": {},
     "output_type": "display_data"
    },
    {
     "name": "stdout",
     "output_type": "stream",
     "text": [
      "Epoch 00602: reducing learning rate of group 0 to 5.0000e-04.\n",
      "Epoch 00703: reducing learning rate of group 0 to 2.5000e-04.\n",
      "Epoch 00804: reducing learning rate of group 0 to 1.2500e-04.\n",
      "Epoch 00905: reducing learning rate of group 0 to 6.2500e-05.\n",
      "(448000,)\n",
      "\n"
     ]
    },
    {
     "name": "stderr",
     "output_type": "stream",
     "text": [
      "/home/srbrown/mambaforge/envs/pytorchGeo/lib/python3.11/site-packages/sklearn/metrics/_classification.py:1469: UndefinedMetricWarning: Precision is ill-defined and being set to 0.0 in labels with no predicted samples. Use `zero_division` parameter to control this behavior.\n",
      "  _warn_prf(average, modifier, msg_start, len(result))\n"
     ]
    }
   ],
   "source": [
    "results = []\n",
    "scores = []\n",
    "confusions = []\n",
    "\n",
    "for weightScale in weightScales:\n",
    "    \n",
    "    try:\n",
    "        del net\n",
    "        del optimizer\n",
    "        del scheduler\n",
    "    except:\n",
    "        pass\n",
    "\n",
    "    complexityWeight = weightScale/nBayesianModules\n",
    "#     print ('weight scale = ',weightScale)\n",
    "\n",
    "    ###################################################\n",
    "    # instantiate\n",
    "    net = BayesianNetwork(nFeatures, nHidden, nLabels, complexityWeight).to(DEVICE)\n",
    "\n",
    "    optimizer = optim.Adam(net.parameters(), lr=0.001)\n",
    "    scheduler = optim.lr_scheduler.ReduceLROnPlateau(optimizer, patience=100, factor=0.5, verbose=True)\n",
    "\n",
    "    ###################################################\n",
    "    # train\n",
    "    \n",
    "    epoch_train_loss = []\n",
    "    epoch_train_acc = []\n",
    "    epoch_test_acc = []\n",
    "\n",
    "    epoch_logprior = []\n",
    "    epoch_logvarprior = []\n",
    "    epoch_negloglikelihood = []\n",
    "\n",
    "    for epoch in tqdm(range(TRAIN_EPOCHS)):\n",
    "        eloss, etrain_acc, etest_acc, elogprior, elogvarprior, enegloglikelihood \\\n",
    "            = train(net, optimizer, epoch)\n",
    "\n",
    "    # check to see how sampling of trained network looks\n",
    "    #     eloss, etrain_acc, etest_acc, elogprior, elogvarprior, enegloglikelihood \\\n",
    "    #         = evaluate(net, epoch)\n",
    "\n",
    "        # adjust learning rate\n",
    "        # scheduler.step()\n",
    "        scheduler.step(eloss)\n",
    "\n",
    "        epoch_train_loss.append(eloss)\n",
    "        epoch_train_acc.append(etrain_acc)\n",
    "        epoch_test_acc.append(etest_acc)\n",
    "\n",
    "        epoch_logprior.append(elogprior)\n",
    "        epoch_logvarprior.append(elogvarprior)\n",
    "        epoch_negloglikelihood.append(enegloglikelihood)            \n",
    "\n",
    "    train_loss = np.asarray(epoch_train_loss)\n",
    "    train_acc = np.asarray(epoch_train_acc)\n",
    "    test_acc = np.asarray(epoch_test_acc)\n",
    "\n",
    "    train_logprior = np.asarray(epoch_logprior)\n",
    "    train_logvarprior = np.asarray(epoch_logvarprior)\n",
    "    train_negloglikelihood = np.asarray(epoch_negloglikelihood)\n",
    "\n",
    "\n",
    "    ###################################################\n",
    "    # get weight and biases parameters\n",
    "\n",
    "    param = 'means'\n",
    "    weightsM = np.hstack([net.get_weights(param)[0].cpu().detach().numpy().flatten(), \n",
    "                         net.get_weights(param)[1].cpu().detach().numpy().flatten(),\n",
    "                         net.get_weights(param)[2].cpu().detach().numpy().flatten()])\n",
    "    biasesM  = np.hstack([net.get_biases(param)[0].cpu().detach().numpy().flatten(), \n",
    "                         net.get_biases(param)[1].cpu().detach().numpy().flatten(),\n",
    "                         net.get_biases(param)[2].cpu().detach().numpy().flatten()])\n",
    "\n",
    "    param = 'sigmas'\n",
    "    weightsS = np.hstack([net.get_weights(param)[0].cpu().detach().numpy().flatten(), \n",
    "                         net.get_weights(param)[1].cpu().detach().numpy().flatten(),\n",
    "                         net.get_weights(param)[2].cpu().detach().numpy().flatten()])\n",
    "    biasesS  = np.hstack([net.get_biases(param)[0].cpu().detach().numpy().flatten(), \n",
    "                         net.get_biases(param)[1].cpu().detach().numpy().flatten(),\n",
    "                         net.get_biases(param)[2].cpu().detach().numpy().flatten()])\n",
    "\n",
    "    param = 'samples'\n",
    "    weightSamples = np.array([])\n",
    "    for i in range(1000):\n",
    "        sample = np.hstack([net.get_weights(param)[0].cpu().detach().numpy().flatten(), \n",
    "                    net.get_weights(param)[1].cpu().detach().numpy().flatten(),\n",
    "                    net.get_weights(param)[2].cpu().detach().numpy().flatten()])\n",
    "        weightSamples = np.append(weightSamples,sample)\n",
    "        \n",
    "    print (weightSamples.shape)\n",
    "\n",
    "    ###################################################\n",
    "    # derive number of degrees of freedom from S2N of weights\n",
    "    \n",
    "    weightsS2N = np.abs(weightsM/weightsS)\n",
    "    weightsS2N = np.sort(weightsS2N)\n",
    "\n",
    "    idx = np.where(weightsS2N >= 1)[0]\n",
    "    nDOF = len(idx)\n",
    "\n",
    "    ###################################################\n",
    "    # fit probability for entropy estimate\n",
    "    X = weightsM.copy().reshape(-1, 1)\n",
    "\n",
    "    ### gennorm\n",
    "    params = gennorm.fit(X)\n",
    "\n",
    "    final_differential_entropy = gennorm.entropy(params[0],loc=params[1],scale=params[2])\n",
    "    initial_differential_entropy = prior.entropy().cpu().detach().numpy()[0]\n",
    "    entropy_change = initial_differential_entropy - final_differential_entropy\n",
    "\n",
    "    ###################################################\n",
    "    # AIC & BIC\n",
    "    Loss = np.array([])\n",
    "    for i in range(1024):\n",
    "        with torch.no_grad():\n",
    "            features = Tensor(X_train.to_numpy())\n",
    "            labels = Tensor(y_train.to_numpy()).long()\n",
    "            outputs = net(features.to(DEVICE), sample=True)\n",
    "            loss = torch.nn.NLLLoss()(outputs, labels.to(DEVICE))\n",
    "            Loss = np.append(Loss, loss.cpu().detach().numpy())\n",
    "    Loss = Loss.mean()\n",
    "    \n",
    "    AIC = 2*Loss + 2*nDOF\n",
    "    BIC = 2*Loss + np.log(TRAIN_SIZE)*nDOF\n",
    "    \n",
    "    AICc = AIC + (2*nDOF*(nDOF+1))/(TRAIN_SIZE-nDOF-1)\n",
    "    \n",
    "    ###################################################\n",
    "    avgTrainAcc = train_acc[-100:].mean()\n",
    "    avgTestAcc = test_acc[-100:].mean()\n",
    "    \n",
    "    ###################################################\n",
    "    result = [weightScale,\n",
    "              Loss, nDOF, \n",
    "              entropy_change, BIC, \n",
    "              AIC, AICc, \n",
    "              avgTrainAcc, avgTestAcc]\n",
    "    \n",
    "    ###################################################\n",
    "    # classification report\n",
    "    \n",
    "    X = X_test.to_numpy()\n",
    "    y = y_test.to_numpy()\n",
    "\n",
    "    net.eval()\n",
    "    net.to(DEVICE)\n",
    "    features = Tensor(X).to(DEVICE)\n",
    "\n",
    "    with torch.no_grad():\n",
    "        p = net.mfvi_forward(features, stat='mean', q=None, sample_nbr=1024)\n",
    "        # m = p[0].squeeze() # means\n",
    "    \n",
    "    ypred = p[:,1].cpu()\n",
    "    \n",
    "    threshold = 0.5\n",
    "    yclass = to_class(ypred, threshold)\n",
    "    \n",
    "    y_true = y.squeeze()\n",
    "    y_pred = yclass.squeeze()\n",
    "\n",
    "    score = [weightScale,\n",
    "             precision_score(y_true, y_pred, average=\"macro\"),\n",
    "             recall_score(y_true, y_pred , average=\"macro\"),\n",
    "             f1_score(y_true, y_pred , average=\"macro\"),\n",
    "             roc_auc_score(y_true, y_pred)]\n",
    "    \n",
    "    confusion = [weightScale]+confusion_matrix(y_true, y_pred).flatten().tolist()\n",
    "\n",
    "    ###################################################\n",
    "    results.append(result)\n",
    "    scores.append(score)\n",
    "    confusions.append(confusion)\n",
    "\n",
    "    print ('')\n",
    "\n",
    "results = np.array(results)\n",
    "scores = np.array(scores)\n",
    "confusions = np.array(confusions)"
   ]
  },
  {
   "cell_type": "code",
   "execution_count": 61,
   "metadata": {},
   "outputs": [],
   "source": [
    "summary_dict = {'nFeatures': nFeatures, \n",
    "                'featureNames': columns,\n",
    "                'results': results, \n",
    "                'scores': scores, \n",
    "                'confusions': confusions}\n",
    "\n",
    "summary_filename = 'summary_results_test.pkl'\n",
    "\n",
    "# write python dict to a file\n",
    "with open(summary_filename, 'wb') as fout:\n",
    "    pickle.dump(summary_dict, fout,\n",
    "                protocol=pickle.HIGHEST_PROTOCOL)\n"
   ]
  },
  {
   "cell_type": "code",
   "execution_count": 62,
   "metadata": {},
   "outputs": [],
   "source": [
    "# read python dict back from the file\n",
    "with open(summary_filename, 'rb') as fin:\n",
    "    summary_dict2 = pickle.load(fin)"
   ]
  },
  {
   "cell_type": "code",
   "execution_count": 63,
   "metadata": {},
   "outputs": [
    {
     "data": {
      "text/plain": [
       "dict_keys(['nFeatures', 'featureNames', 'results', 'scores', 'confusions'])"
      ]
     },
     "execution_count": 63,
     "metadata": {},
     "output_type": "execute_result"
    }
   ],
   "source": [
    "summary_dict2.keys()"
   ]
  },
  {
   "cell_type": "code",
   "execution_count": 64,
   "metadata": {
    "tags": []
   },
   "outputs": [
    {
     "data": {
      "text/plain": [
       "(30, 5)"
      ]
     },
     "execution_count": 64,
     "metadata": {},
     "output_type": "execute_result"
    }
   ],
   "source": [
    "summary_dict2['confusions'].shape"
   ]
  },
  {
   "cell_type": "markdown",
   "metadata": {},
   "source": [
    "## plot all model results"
   ]
  },
  {
   "cell_type": "code",
   "execution_count": 65,
   "metadata": {
    "lines_to_next_cell": 0,
    "tags": []
   },
   "outputs": [
    {
     "name": "stdout",
     "output_type": "stream",
     "text": [
      "0 0 1 data loss\n",
      "0 1 2 # DOF\n",
      "1 0 3 $\\Delta$ S\n",
      "1 1 4 BIC\n",
      "2 0 5 AIC\n",
      "2 1 6 AICc\n",
      "3 0 7 train acc\n",
      "3 1 8 test acc\n"
     ]
    },
    {
     "data": {
      "image/png": "[encoded data removed]",
      "text/plain": [
       "<Figure size 1600x1200 with 8 Axes>"
      ]
     },
     "metadata": {},
     "output_type": "display_data"
    }
   ],
   "source": [
    "# plt.rc('figure', figsize=(16, 12))\n",
    "\n",
    "rowcol = np.array([[1,2],\n",
    "                   [3,4],\n",
    "                   [5,6],\n",
    "                   [7,8]])\n",
    "\n",
    "ytxt = np.array([['data loss', '# DOF'], \n",
    "                 [r'$\\Delta$ S', 'BIC'], \n",
    "                 ['AIC', 'AICc'], \n",
    "                 ['train acc', 'test acc']])\n",
    "\n",
    "rows, cols = 4, 2\n",
    "\n",
    "fig, axes = plt.subplots(rows,cols, figsize=(16, 12))\n",
    "for row in range(rows):\n",
    "    for col in range(cols):\n",
    "        print(row, col, rowcol[row,col], ytxt[row,col])\n",
    "        axes[row,col].plot(results[:,0], results[:,rowcol[row,col]], '-o')\n",
    "        \n",
    "        axes[row,col].grid(True)\n",
    "        axes[row,col].set_ylabel(ytxt[row,col], fontsize=16)\n",
    "        if row==3:\n",
    "            axes[row,col].set_xlabel(r'$\\alpha$', fontsize=20)\n",
    "                                                 \n",
    "# plt.savefig('bayes_loop.png')"
   ]
  },
  {
   "cell_type": "markdown",
   "metadata": {},
   "source": [
    "## plot more"
   ]
  },
  {
   "cell_type": "code",
   "execution_count": 66,
   "metadata": {
    "lines_to_end_of_cell_marker": 2,
    "lines_to_next_cell": 0,
    "tags": []
   },
   "outputs": [
    {
     "name": "stdout",
     "output_type": "stream",
     "text": [
      "1\n",
      "2\n",
      "3\n",
      "4\n"
     ]
    },
    {
     "data": {
      "image/png": "[encoded data removed]",
      "text/plain": [
       "<Figure size 1600x600 with 4 Axes>"
      ]
     },
     "metadata": {},
     "output_type": "display_data"
    }
   ],
   "source": [
    "%matplotlib inline\n",
    "\n",
    "plt.rc('figure', figsize=(16, 6))\n",
    "\n",
    "rowcol = np.array([[1,2],\n",
    "                   [3,4]])\n",
    "\n",
    "ytxt = np.array([['precision_score', 'recall_score'], \n",
    "                 ['f1_score', 'roc_auc_score']])\n",
    "\n",
    "rows, cols = 2, 2\n",
    "\n",
    "fig, axes = plt.subplots(rows,cols)\n",
    "for row in range(rows):\n",
    "    for col in range(cols):\n",
    "        print (rowcol[row,col])\n",
    "        axes[row,col].plot(scores[:,0], scores[:,rowcol[row,col]], '-o')\n",
    "        \n",
    "        axes[row,col].grid(True)\n",
    "        axes[row,col].set_ylabel(ytxt[row,col], fontsize=16)\n",
    "        if row==1:\n",
    "            axes[row,col].set_xlabel(r'$\\alpha$', fontsize=20)"
   ]
  },
  {
   "cell_type": "code",
   "execution_count": null,
   "metadata": {},
   "outputs": [],
   "source": []
  },
  {
   "cell_type": "code",
   "execution_count": null,
   "metadata": {},
   "outputs": [],
   "source": []
  }
 ],
 "metadata": {
  "jupytext": {
   "encoding": "# -*- coding: utf-8 -*-",
   "formats": "ipynb,py:light"
  },
  "kernelspec": {
   "display_name": "Python 3 (ipykernel)",
   "language": "python",
   "name": "python3"
  },
  "language_info": {
   "codemirror_mode": {
    "name": "ipython",
    "version": 3
   },
   "file_extension": ".py",
   "mimetype": "text/x-python",
   "name": "python",
   "nbconvert_exporter": "python",
   "pygments_lexer": "ipython3",
   "version": "3.11.4"
  }
 },
 "nbformat": 4,
 "nbformat_minor": 4
}
