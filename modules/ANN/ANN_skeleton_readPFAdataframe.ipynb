{
 "cells": [
  {
   "cell_type": "markdown",
   "metadata": {
    "editable": true,
    "jp-MarkdownHeadingCollapsed": true,
    "slideshow": {
     "slide_type": ""
    },
    "tags": []
   },
   "source": [
    "# Geothermal and Machine Learning Sandbox"
   ]
  },
  {
   "cell_type": "markdown",
   "metadata": {
    "tags": []
   },
   "source": [
    "# Skeleton of an Artificial Neural Network (ANN) in PyTorch applied to Nevada PFA Geothermal Resources Dataset"
   ]
  },
  {
   "cell_type": "code",
   "execution_count": 1,
   "metadata": {
    "editable": true,
    "slideshow": {
     "slide_type": ""
    },
    "tags": []
   },
   "outputs": [],
   "source": [
    "import numpy as np\n",
    "import matplotlib.pyplot as plt\n",
    "\n",
    "import pickle\n",
    "\n",
    "import pandas as pd\n",
    "\n",
    "from sklearn.model_selection import train_test_split\n",
    "from sklearn.preprocessing import StandardScaler\n",
    "from sklearn.preprocessing import OneHotEncoder\n",
    "\n",
    "import torch\n",
    "import torch.nn as nn\n",
    "import torch.nn.functional as F\n",
    "import torch.optim as optim\n",
    "\n",
    "# Load packages to create dataset\n",
    "from torch.utils.data import DataLoader, TensorDataset\n",
    "from torch.utils.data import Dataset\n",
    "from torch import Tensor\n",
    "\n",
    "from torch.utils.data import WeightedRandomSampler\n",
    "\n",
    "# from torchvision import models\n",
    "# from torchsummary import summary\n",
    "\n",
    "import datetime\n",
    "import time\n",
    "\n",
    "from pathlib import Path\n",
    "import sys\n",
    "\n",
    "import h5py\n",
    "\n",
    "from tqdm.notebook import trange, tqdm\n",
    "\n",
    "%matplotlib inline"
   ]
  },
  {
   "cell_type": "markdown",
   "metadata": {
    "editable": true,
    "slideshow": {
     "slide_type": ""
    },
    "tags": []
   },
   "source": [
    "## BEGIN data preprocessing"
   ]
  },
  {
   "cell_type": "markdown",
   "metadata": {},
   "source": [
    "## load preprocessed data"
   ]
  },
  {
   "cell_type": "code",
   "execution_count": 2,
   "metadata": {
    "lines_to_next_cell": 2,
    "tags": []
   },
   "outputs": [],
   "source": [
    "path = '../../datasets/'\n",
    "\n",
    "filename = 'PFA_features&labels_march2021_tc2_imbalanced_SmoothLSS_FSS_df.h5'\n",
    "\n",
    "hf5File = path+filename"
   ]
  },
  {
   "cell_type": "code",
   "execution_count": 3,
   "metadata": {
    "editable": true,
    "slideshow": {
     "slide_type": ""
    },
    "tags": []
   },
   "outputs": [
    {
     "name": "stdout",
     "output_type": "stream",
     "text": [
      "['X', 'XyInfo', 'dfInfo', 'dfn', 'nullIndexes', 'scaler', 'y']\n"
     ]
    }
   ],
   "source": [
    "f = h5py.File(hf5File, 'r')\n",
    "\n",
    "def keys(f):\n",
    "    return [key for key in f.keys()]\n",
    "\n",
    "key_list = keys(f)\n",
    "print(key_list)\n",
    "\n",
    "f.close()"
   ]
  },
  {
   "cell_type": "code",
   "execution_count": 4,
   "metadata": {
    "editable": true,
    "slideshow": {
     "slide_type": ""
    },
    "tags": []
   },
   "outputs": [],
   "source": [
    "dfXAll = pd.read_hdf(hf5File, key='X')\n",
    "dfyAll = pd.read_hdf(hf5File, key='y')\n",
    "XyInfo = pd.read_hdf(hf5File, key='XyInfo')"
   ]
  },
  {
   "cell_type": "code",
   "execution_count": 5,
   "metadata": {
    "tags": []
   },
   "outputs": [
    {
     "name": "stdout",
     "output_type": "stream",
     "text": [
      "(725, 20) (725,) (725, 17)\n"
     ]
    }
   ],
   "source": [
    "print( dfXAll.shape, dfyAll.shape, XyInfo.shape)"
   ]
  },
  {
   "cell_type": "code",
   "execution_count": 6,
   "metadata": {},
   "outputs": [
    {
     "data": {
      "text/html": [
       "<div>\n",
       "<style scoped>\n",
       "    .dataframe tbody tr th:only-of-type {\n",
       "        vertical-align: middle;\n",
       "    }\n",
       "\n",
       "    .dataframe tbody tr th {\n",
       "        vertical-align: top;\n",
       "    }\n",
       "\n",
       "    .dataframe thead th {\n",
       "        text-align: right;\n",
       "    }\n",
       "</style>\n",
       "<table border=\"1\" class=\"dataframe\">\n",
       "  <thead>\n",
       "    <tr style=\"text-align: right;\">\n",
       "      <th></th>\n",
       "      <th>Local-StructuralSetting</th>\n",
       "      <th>Local-QuaternaryFaultRecency</th>\n",
       "      <th>Local-QuaternaryFaultSlipDilation</th>\n",
       "      <th>Local-QuaternaryFaultSlipRate</th>\n",
       "      <th>QuaternaryFaultTraces</th>\n",
       "      <th>HorizGravityGradient2</th>\n",
       "      <th>HorizMagneticGradient2</th>\n",
       "      <th>GeodeticStrainRate</th>\n",
       "      <th>QuaternarySlipRate</th>\n",
       "      <th>FaultRecency</th>\n",
       "      <th>FaultSlipDilationTendency2</th>\n",
       "      <th>Earthquakes</th>\n",
       "      <th>Heatflow</th>\n",
       "      <th>GravityDensity</th>\n",
       "      <th>MagneticDensity</th>\n",
       "      <th>GeochemistryTemperature2</th>\n",
       "      <th>Silica_Distance</th>\n",
       "      <th>TufaOrTravertine_Distance</th>\n",
       "      <th>DEM-30m</th>\n",
       "      <th>FavorableStructuralSettings_Distance</th>\n",
       "    </tr>\n",
       "  </thead>\n",
       "  <tbody>\n",
       "    <tr>\n",
       "      <th>1629211</th>\n",
       "      <td>0.605907</td>\n",
       "      <td>1.214984</td>\n",
       "      <td>3.191540</td>\n",
       "      <td>1.120474</td>\n",
       "      <td>-0.784042</td>\n",
       "      <td>0.956721</td>\n",
       "      <td>-0.383781</td>\n",
       "      <td>-1.553196</td>\n",
       "      <td>3.963975</td>\n",
       "      <td>-2.485171</td>\n",
       "      <td>0.451266</td>\n",
       "      <td>-1.352377</td>\n",
       "      <td>0.856456</td>\n",
       "      <td>-1.447685</td>\n",
       "      <td>0.042378</td>\n",
       "      <td>7.965358</td>\n",
       "      <td>-1.153277</td>\n",
       "      <td>-1.748728</td>\n",
       "      <td>0.071722</td>\n",
       "      <td>-1.439888</td>\n",
       "    </tr>\n",
       "    <tr>\n",
       "      <th>792748</th>\n",
       "      <td>2.753820</td>\n",
       "      <td>0.973401</td>\n",
       "      <td>0.219568</td>\n",
       "      <td>2.368457</td>\n",
       "      <td>0.743874</td>\n",
       "      <td>2.838552</td>\n",
       "      <td>-0.631091</td>\n",
       "      <td>-1.014735</td>\n",
       "      <td>-1.162640</td>\n",
       "      <td>1.180387</td>\n",
       "      <td>1.218827</td>\n",
       "      <td>0.250527</td>\n",
       "      <td>-1.224496</td>\n",
       "      <td>-1.678404</td>\n",
       "      <td>0.500513</td>\n",
       "      <td>-0.185826</td>\n",
       "      <td>0.993788</td>\n",
       "      <td>1.746996</td>\n",
       "      <td>-0.003075</td>\n",
       "      <td>0.524243</td>\n",
       "    </tr>\n",
       "    <tr>\n",
       "      <th>1427233</th>\n",
       "      <td>-0.532809</td>\n",
       "      <td>-0.586230</td>\n",
       "      <td>-0.402900</td>\n",
       "      <td>-0.584992</td>\n",
       "      <td>1.248917</td>\n",
       "      <td>1.627900</td>\n",
       "      <td>-0.435304</td>\n",
       "      <td>-1.246016</td>\n",
       "      <td>-0.087931</td>\n",
       "      <td>0.565757</td>\n",
       "      <td>-0.099213</td>\n",
       "      <td>-2.182920</td>\n",
       "      <td>0.426947</td>\n",
       "      <td>-1.332326</td>\n",
       "      <td>1.416784</td>\n",
       "      <td>-0.185826</td>\n",
       "      <td>0.055923</td>\n",
       "      <td>1.526730</td>\n",
       "      <td>-0.137194</td>\n",
       "      <td>1.095007</td>\n",
       "    </tr>\n",
       "    <tr>\n",
       "      <th>630421</th>\n",
       "      <td>0.627393</td>\n",
       "      <td>1.615954</td>\n",
       "      <td>-0.183165</td>\n",
       "      <td>1.500129</td>\n",
       "      <td>-1.064303</td>\n",
       "      <td>-1.286707</td>\n",
       "      <td>-0.662004</td>\n",
       "      <td>-0.813587</td>\n",
       "      <td>-1.262306</td>\n",
       "      <td>0.897017</td>\n",
       "      <td>0.459076</td>\n",
       "      <td>0.142340</td>\n",
       "      <td>-0.693443</td>\n",
       "      <td>0.974860</td>\n",
       "      <td>0.844115</td>\n",
       "      <td>-0.185826</td>\n",
       "      <td>1.719070</td>\n",
       "      <td>1.030348</td>\n",
       "      <td>0.948657</td>\n",
       "      <td>-1.130844</td>\n",
       "    </tr>\n",
       "    <tr>\n",
       "      <th>741007</th>\n",
       "      <td>-0.108018</td>\n",
       "      <td>-0.384650</td>\n",
       "      <td>-0.362674</td>\n",
       "      <td>-0.394128</td>\n",
       "      <td>-0.965216</td>\n",
       "      <td>-0.928128</td>\n",
       "      <td>-0.971141</td>\n",
       "      <td>-0.811781</td>\n",
       "      <td>-1.198261</td>\n",
       "      <td>0.909340</td>\n",
       "      <td>0.206954</td>\n",
       "      <td>-0.170018</td>\n",
       "      <td>-0.528820</td>\n",
       "      <td>-0.178733</td>\n",
       "      <td>1.416784</td>\n",
       "      <td>-0.185826</td>\n",
       "      <td>1.529526</td>\n",
       "      <td>1.298969</td>\n",
       "      <td>0.732003</td>\n",
       "      <td>-0.038541</td>\n",
       "    </tr>\n",
       "  </tbody>\n",
       "</table>\n",
       "</div>"
      ],
      "text/plain": [
       "         Local-StructuralSetting  Local-QuaternaryFaultRecency  \\\n",
       "1629211                 0.605907                      1.214984   \n",
       "792748                  2.753820                      0.973401   \n",
       "1427233                -0.532809                     -0.586230   \n",
       "630421                  0.627393                      1.615954   \n",
       "741007                 -0.108018                     -0.384650   \n",
       "\n",
       "         Local-QuaternaryFaultSlipDilation  Local-QuaternaryFaultSlipRate  \\\n",
       "1629211                           3.191540                       1.120474   \n",
       "792748                            0.219568                       2.368457   \n",
       "1427233                          -0.402900                      -0.584992   \n",
       "630421                           -0.183165                       1.500129   \n",
       "741007                           -0.362674                      -0.394128   \n",
       "\n",
       "         QuaternaryFaultTraces  HorizGravityGradient2  HorizMagneticGradient2  \\\n",
       "1629211              -0.784042               0.956721               -0.383781   \n",
       "792748                0.743874               2.838552               -0.631091   \n",
       "1427233               1.248917               1.627900               -0.435304   \n",
       "630421               -1.064303              -1.286707               -0.662004   \n",
       "741007               -0.965216              -0.928128               -0.971141   \n",
       "\n",
       "         GeodeticStrainRate  QuaternarySlipRate  FaultRecency  \\\n",
       "1629211           -1.553196            3.963975     -2.485171   \n",
       "792748            -1.014735           -1.162640      1.180387   \n",
       "1427233           -1.246016           -0.087931      0.565757   \n",
       "630421            -0.813587           -1.262306      0.897017   \n",
       "741007            -0.811781           -1.198261      0.909340   \n",
       "\n",
       "         FaultSlipDilationTendency2  Earthquakes  Heatflow  GravityDensity  \\\n",
       "1629211                    0.451266    -1.352377  0.856456       -1.447685   \n",
       "792748                     1.218827     0.250527 -1.224496       -1.678404   \n",
       "1427233                   -0.099213    -2.182920  0.426947       -1.332326   \n",
       "630421                     0.459076     0.142340 -0.693443        0.974860   \n",
       "741007                     0.206954    -0.170018 -0.528820       -0.178733   \n",
       "\n",
       "         MagneticDensity  GeochemistryTemperature2  Silica_Distance  \\\n",
       "1629211         0.042378                  7.965358        -1.153277   \n",
       "792748          0.500513                 -0.185826         0.993788   \n",
       "1427233         1.416784                 -0.185826         0.055923   \n",
       "630421          0.844115                 -0.185826         1.719070   \n",
       "741007          1.416784                 -0.185826         1.529526   \n",
       "\n",
       "         TufaOrTravertine_Distance   DEM-30m  \\\n",
       "1629211                  -1.748728  0.071722   \n",
       "792748                    1.746996 -0.003075   \n",
       "1427233                   1.526730 -0.137194   \n",
       "630421                    1.030348  0.948657   \n",
       "741007                    1.298969  0.732003   \n",
       "\n",
       "         FavorableStructuralSettings_Distance  \n",
       "1629211                             -1.439888  \n",
       "792748                               0.524243  \n",
       "1427233                              1.095007  \n",
       "630421                              -1.130844  \n",
       "741007                              -0.038541  "
      ]
     },
     "execution_count": 6,
     "metadata": {},
     "output_type": "execute_result"
    }
   ],
   "source": [
    "dfXAll.head()"
   ]
  },
  {
   "cell_type": "code",
   "execution_count": 7,
   "metadata": {
    "tags": []
   },
   "outputs": [
    {
     "data": {
      "text/plain": [
       "1629211    1\n",
       "792748     0\n",
       "1427233    0\n",
       "630421     0\n",
       "741007     0\n",
       "Name: labels, dtype: int64"
      ]
     },
     "execution_count": 7,
     "metadata": {},
     "output_type": "execute_result"
    }
   ],
   "source": [
    "dfyAll.head()"
   ]
  },
  {
   "cell_type": "code",
   "execution_count": 8,
   "metadata": {
    "tags": []
   },
   "outputs": [
    {
     "data": {
      "text/html": [
       "<div>\n",
       "<style scoped>\n",
       "    .dataframe tbody tr th:only-of-type {\n",
       "        vertical-align: middle;\n",
       "    }\n",
       "\n",
       "    .dataframe tbody tr th {\n",
       "        vertical-align: top;\n",
       "    }\n",
       "\n",
       "    .dataframe thead th {\n",
       "        text-align: right;\n",
       "    }\n",
       "</style>\n",
       "<table border=\"1\" class=\"dataframe\">\n",
       "  <thead>\n",
       "    <tr style=\"text-align: right;\">\n",
       "      <th></th>\n",
       "      <th>row</th>\n",
       "      <th>column</th>\n",
       "      <th>id_rc</th>\n",
       "      <th>X_83UTM11</th>\n",
       "      <th>Y_83UTM11</th>\n",
       "      <th>NullInfo</th>\n",
       "      <th>TrainCodeNeg</th>\n",
       "      <th>TrainCodePos</th>\n",
       "      <th>TrainCodePosT130</th>\n",
       "      <th>PosSite130_Id</th>\n",
       "      <th>PosSite130_Distance</th>\n",
       "      <th>PosSite_Id</th>\n",
       "      <th>PosSite_Distance</th>\n",
       "      <th>NegSite_Id</th>\n",
       "      <th>NegSite_Distance</th>\n",
       "      <th>Local_polygon_Id</th>\n",
       "      <th>Local_polygon_overlap_Id</th>\n",
       "    </tr>\n",
       "  </thead>\n",
       "  <tbody>\n",
       "    <tr>\n",
       "      <th>1629211</th>\n",
       "      <td>942.0</td>\n",
       "      <td>1435.0</td>\n",
       "      <td>R943C1436</td>\n",
       "      <td>645077.690182</td>\n",
       "      <td>4.494214e+06</td>\n",
       "      <td>notNull</td>\n",
       "      <td>12</td>\n",
       "      <td>1</td>\n",
       "      <td>1</td>\n",
       "      <td>14</td>\n",
       "      <td>84.074090</td>\n",
       "      <td>14</td>\n",
       "      <td>84.074090</td>\n",
       "      <td>4</td>\n",
       "      <td>10574.081138</td>\n",
       "      <td>315</td>\n",
       "      <td>0</td>\n",
       "    </tr>\n",
       "    <tr>\n",
       "      <th>792748</th>\n",
       "      <td>458.0</td>\n",
       "      <td>1324.0</td>\n",
       "      <td>R459C1325</td>\n",
       "      <td>617327.690182</td>\n",
       "      <td>4.373214e+06</td>\n",
       "      <td>notNull</td>\n",
       "      <td>2</td>\n",
       "      <td>12</td>\n",
       "      <td>12</td>\n",
       "      <td>76</td>\n",
       "      <td>109719.824992</td>\n",
       "      <td>47</td>\n",
       "      <td>28269.390720</td>\n",
       "      <td>48</td>\n",
       "      <td>224.802810</td>\n",
       "      <td>24</td>\n",
       "      <td>0</td>\n",
       "    </tr>\n",
       "    <tr>\n",
       "      <th>1427233</th>\n",
       "      <td>825.0</td>\n",
       "      <td>1633.0</td>\n",
       "      <td>R826C1634</td>\n",
       "      <td>694577.690182</td>\n",
       "      <td>4.464964e+06</td>\n",
       "      <td>notNull</td>\n",
       "      <td>1</td>\n",
       "      <td>12</td>\n",
       "      <td>12</td>\n",
       "      <td>14</td>\n",
       "      <td>57577.584385</td>\n",
       "      <td>25</td>\n",
       "      <td>49848.864916</td>\n",
       "      <td>31</td>\n",
       "      <td>83.994037</td>\n",
       "      <td>0</td>\n",
       "      <td>0</td>\n",
       "    </tr>\n",
       "    <tr>\n",
       "      <th>630421</th>\n",
       "      <td>364.0</td>\n",
       "      <td>1429.0</td>\n",
       "      <td>R365C1430</td>\n",
       "      <td>643577.690182</td>\n",
       "      <td>4.349714e+06</td>\n",
       "      <td>notNull</td>\n",
       "      <td>2</td>\n",
       "      <td>12</td>\n",
       "      <td>12</td>\n",
       "      <td>13</td>\n",
       "      <td>88734.532066</td>\n",
       "      <td>55</td>\n",
       "      <td>38087.135264</td>\n",
       "      <td>41</td>\n",
       "      <td>173.133020</td>\n",
       "      <td>37</td>\n",
       "      <td>0</td>\n",
       "    </tr>\n",
       "    <tr>\n",
       "      <th>741007</th>\n",
       "      <td>428.0</td>\n",
       "      <td>1423.0</td>\n",
       "      <td>R429C1424</td>\n",
       "      <td>642077.690182</td>\n",
       "      <td>4.365714e+06</td>\n",
       "      <td>notNull</td>\n",
       "      <td>2</td>\n",
       "      <td>12</td>\n",
       "      <td>12</td>\n",
       "      <td>13</td>\n",
       "      <td>104234.526475</td>\n",
       "      <td>47</td>\n",
       "      <td>37025.554552</td>\n",
       "      <td>33</td>\n",
       "      <td>218.270209</td>\n",
       "      <td>0</td>\n",
       "      <td>0</td>\n",
       "    </tr>\n",
       "  </tbody>\n",
       "</table>\n",
       "</div>"
      ],
      "text/plain": [
       "           row  column      id_rc      X_83UTM11     Y_83UTM11 NullInfo  \\\n",
       "1629211  942.0  1435.0  R943C1436  645077.690182  4.494214e+06  notNull   \n",
       "792748   458.0  1324.0  R459C1325  617327.690182  4.373214e+06  notNull   \n",
       "1427233  825.0  1633.0  R826C1634  694577.690182  4.464964e+06  notNull   \n",
       "630421   364.0  1429.0  R365C1430  643577.690182  4.349714e+06  notNull   \n",
       "741007   428.0  1423.0  R429C1424  642077.690182  4.365714e+06  notNull   \n",
       "\n",
       "         TrainCodeNeg  TrainCodePos  TrainCodePosT130  PosSite130_Id  \\\n",
       "1629211            12             1                 1             14   \n",
       "792748              2            12                12             76   \n",
       "1427233             1            12                12             14   \n",
       "630421              2            12                12             13   \n",
       "741007              2            12                12             13   \n",
       "\n",
       "         PosSite130_Distance  PosSite_Id  PosSite_Distance  NegSite_Id  \\\n",
       "1629211            84.074090          14         84.074090           4   \n",
       "792748         109719.824992          47      28269.390720          48   \n",
       "1427233         57577.584385          25      49848.864916          31   \n",
       "630421          88734.532066          55      38087.135264          41   \n",
       "741007         104234.526475          47      37025.554552          33   \n",
       "\n",
       "         NegSite_Distance  Local_polygon_Id  Local_polygon_overlap_Id  \n",
       "1629211      10574.081138               315                         0  \n",
       "792748         224.802810                24                         0  \n",
       "1427233         83.994037                 0                         0  \n",
       "630421         173.133020                37                         0  \n",
       "741007         218.270209                 0                         0  "
      ]
     },
     "execution_count": 8,
     "metadata": {},
     "output_type": "execute_result"
    }
   ],
   "source": [
    "XyInfo.head()"
   ]
  },
  {
   "cell_type": "code",
   "execution_count": 9,
   "metadata": {
    "tags": []
   },
   "outputs": [],
   "source": [
    "columns=dfXAll.columns"
   ]
  },
  {
   "cell_type": "markdown",
   "metadata": {},
   "source": [
    "### balance the dataset?"
   ]
  },
  {
   "cell_type": "code",
   "execution_count": 10,
   "metadata": {},
   "outputs": [],
   "source": [
    "# balance = None\n",
    "# balance = 'truncate'\n",
    "balance = 'weighted'"
   ]
  },
  {
   "cell_type": "markdown",
   "metadata": {},
   "source": [
    "### balance dataset method 1: by truncation"
   ]
  },
  {
   "cell_type": "code",
   "execution_count": 11,
   "metadata": {
    "lines_to_next_cell": 2,
    "tags": []
   },
   "outputs": [],
   "source": [
    "if balance == 'truncate':\n",
    "    dfyAll_neg = dfyAll[dfyAll==0]\n",
    "    dfyAll_pos = dfyAll[dfyAll==1]\n",
    "    dfXAll_neg = dfXAll.loc[dfyAll_neg.index]\n",
    "    dfXAll_pos = dfXAll.loc[dfyAll_pos.index]\n",
    "    \n",
    "    # find out which set is smaller\n",
    "    imin = np.argmin([len(dfyAll_neg), len(dfyAll_pos)])\n",
    "    \n",
    "    if imin==0:\n",
    "        dfyAll_pos = dfyAll_pos.sample(n=len(dfyAll_neg))\n",
    "        dfXAll_pos = dfXAll_pos.loc[dfyAll_pos.index]\n",
    "    elif imin==1:\n",
    "        dfyAll_neg = dfyAll_neg.sample(n=len(dfyAll_pos))\n",
    "        dfXAll_neg = dfXAll_neg.loc[dfyAll_neg.index]\n",
    "\n",
    "    dfXAll = pd.concat([dfXAll_neg, dfXAll_pos])\n",
    "    dfyAll = pd.concat([dfyAll_neg, dfyAll_pos])\n",
    "    XyInfo = XyInfo.loc[dfXAll.index]"
   ]
  },
  {
   "cell_type": "markdown",
   "metadata": {},
   "source": [
    "### balance dataset method 2: design weighted sampler for dataloaders"
   ]
  },
  {
   "cell_type": "code",
   "execution_count": 12,
   "metadata": {
    "tags": []
   },
   "outputs": [
    {
     "name": "stdout",
     "output_type": "stream",
     "text": [
      "[415 310] [0.57241379 0.42758621]\n"
     ]
    }
   ],
   "source": [
    "if balance == 'weighted':\n",
    "    class_counts = dfyAll.value_counts()\n",
    "    class_weights = class_counts/len(dfyAll)\n",
    "\n",
    "    print(class_counts.values,  class_weights.values)"
   ]
  },
  {
   "cell_type": "markdown",
   "metadata": {},
   "source": [
    "### break into features and labels"
   ]
  },
  {
   "cell_type": "code",
   "execution_count": 13,
   "metadata": {
    "tags": []
   },
   "outputs": [],
   "source": [
    "XAll = dfXAll\n",
    "yAll = dfyAll"
   ]
  },
  {
   "cell_type": "code",
   "execution_count": 14,
   "metadata": {
    "tags": []
   },
   "outputs": [
    {
     "data": {
      "text/plain": [
       "(725, 20)"
      ]
     },
     "execution_count": 14,
     "metadata": {},
     "output_type": "execute_result"
    }
   ],
   "source": [
    "XAll.shape"
   ]
  },
  {
   "cell_type": "code",
   "execution_count": 15,
   "metadata": {
    "tags": []
   },
   "outputs": [
    {
     "data": {
      "text/plain": [
       "(725,)"
      ]
     },
     "execution_count": 15,
     "metadata": {},
     "output_type": "execute_result"
    }
   ],
   "source": [
    "yAll.shape"
   ]
  },
  {
   "cell_type": "code",
   "execution_count": 16,
   "metadata": {
    "tags": []
   },
   "outputs": [
    {
     "data": {
      "text/plain": [
       "Index(['Local-StructuralSetting', 'Local-QuaternaryFaultRecency',\n",
       "       'Local-QuaternaryFaultSlipDilation', 'Local-QuaternaryFaultSlipRate',\n",
       "       'QuaternaryFaultTraces', 'HorizGravityGradient2',\n",
       "       'HorizMagneticGradient2', 'GeodeticStrainRate', 'QuaternarySlipRate',\n",
       "       'FaultRecency', 'FaultSlipDilationTendency2', 'Earthquakes', 'Heatflow',\n",
       "       'GravityDensity', 'MagneticDensity', 'GeochemistryTemperature2',\n",
       "       'Silica_Distance', 'TufaOrTravertine_Distance', 'DEM-30m',\n",
       "       'FavorableStructuralSettings_Distance'],\n",
       "      dtype='object')"
      ]
     },
     "execution_count": 16,
     "metadata": {},
     "output_type": "execute_result"
    }
   ],
   "source": [
    "XAll.columns"
   ]
  },
  {
   "cell_type": "code",
   "execution_count": 17,
   "metadata": {
    "tags": []
   },
   "outputs": [
    {
     "data": {
      "text/plain": [
       "'labels'"
      ]
     },
     "execution_count": 17,
     "metadata": {},
     "output_type": "execute_result"
    }
   ],
   "source": [
    "yAll.name"
   ]
  },
  {
   "cell_type": "markdown",
   "metadata": {},
   "source": [
    "### train/test split"
   ]
  },
  {
   "cell_type": "code",
   "execution_count": 18,
   "metadata": {
    "lines_to_next_cell": 2,
    "tags": []
   },
   "outputs": [],
   "source": [
    "X_trainAll, X_testAll, y_trainAll, y_testAll = train_test_split(\n",
    "    XAll, yAll, test_size=0.33, random_state=42)\n",
    "    # XAll, yAll, test_size=0.33)"
   ]
  },
  {
   "cell_type": "code",
   "execution_count": 19,
   "metadata": {
    "tags": []
   },
   "outputs": [
    {
     "name": "stdout",
     "output_type": "stream",
     "text": [
      "(485, 20) (485,) (240, 20) (240,)\n"
     ]
    }
   ],
   "source": [
    "print (X_trainAll.shape, y_trainAll.shape, X_testAll.shape, y_testAll.shape)"
   ]
  },
  {
   "cell_type": "code",
   "execution_count": 20,
   "metadata": {
    "tags": []
   },
   "outputs": [
    {
     "data": {
      "text/html": [
       "<div>\n",
       "<style scoped>\n",
       "    .dataframe tbody tr th:only-of-type {\n",
       "        vertical-align: middle;\n",
       "    }\n",
       "\n",
       "    .dataframe tbody tr th {\n",
       "        vertical-align: top;\n",
       "    }\n",
       "\n",
       "    .dataframe thead th {\n",
       "        text-align: right;\n",
       "    }\n",
       "</style>\n",
       "<table border=\"1\" class=\"dataframe\">\n",
       "  <thead>\n",
       "    <tr style=\"text-align: right;\">\n",
       "      <th></th>\n",
       "      <th>Local-StructuralSetting</th>\n",
       "      <th>Local-QuaternaryFaultRecency</th>\n",
       "      <th>Local-QuaternaryFaultSlipDilation</th>\n",
       "      <th>Local-QuaternaryFaultSlipRate</th>\n",
       "      <th>QuaternaryFaultTraces</th>\n",
       "      <th>HorizGravityGradient2</th>\n",
       "      <th>HorizMagneticGradient2</th>\n",
       "      <th>GeodeticStrainRate</th>\n",
       "      <th>QuaternarySlipRate</th>\n",
       "      <th>FaultRecency</th>\n",
       "      <th>FaultSlipDilationTendency2</th>\n",
       "      <th>Earthquakes</th>\n",
       "      <th>Heatflow</th>\n",
       "      <th>GravityDensity</th>\n",
       "      <th>MagneticDensity</th>\n",
       "      <th>GeochemistryTemperature2</th>\n",
       "      <th>Silica_Distance</th>\n",
       "      <th>TufaOrTravertine_Distance</th>\n",
       "      <th>DEM-30m</th>\n",
       "      <th>FavorableStructuralSettings_Distance</th>\n",
       "    </tr>\n",
       "  </thead>\n",
       "  <tbody>\n",
       "    <tr>\n",
       "      <th>851760</th>\n",
       "      <td>1.219532</td>\n",
       "      <td>1.907248</td>\n",
       "      <td>0.150295</td>\n",
       "      <td>2.039372</td>\n",
       "      <td>-0.211921</td>\n",
       "      <td>1.557584</td>\n",
       "      <td>0.296321</td>\n",
       "      <td>-1.218099</td>\n",
       "      <td>0.455146</td>\n",
       "      <td>0.218541</td>\n",
       "      <td>0.639279</td>\n",
       "      <td>-1.200670</td>\n",
       "      <td>-0.469886</td>\n",
       "      <td>-1.447685</td>\n",
       "      <td>-0.644825</td>\n",
       "      <td>-0.185826</td>\n",
       "      <td>1.339493</td>\n",
       "      <td>-1.021991</td>\n",
       "      <td>0.035613</td>\n",
       "      <td>-1.214275</td>\n",
       "    </tr>\n",
       "    <tr>\n",
       "      <th>918627</th>\n",
       "      <td>-0.276916</td>\n",
       "      <td>-0.203856</td>\n",
       "      <td>-0.021599</td>\n",
       "      <td>-0.403835</td>\n",
       "      <td>-1.064303</td>\n",
       "      <td>-0.292717</td>\n",
       "      <td>-0.569263</td>\n",
       "      <td>-0.811781</td>\n",
       "      <td>-0.922382</td>\n",
       "      <td>-1.454516</td>\n",
       "      <td>-0.400033</td>\n",
       "      <td>-0.787486</td>\n",
       "      <td>0.507925</td>\n",
       "      <td>-0.986248</td>\n",
       "      <td>0.156912</td>\n",
       "      <td>-0.185826</td>\n",
       "      <td>-0.351455</td>\n",
       "      <td>-1.018601</td>\n",
       "      <td>0.198104</td>\n",
       "      <td>-0.658516</td>\n",
       "    </tr>\n",
       "    <tr>\n",
       "      <th>1528718</th>\n",
       "      <td>-0.092083</td>\n",
       "      <td>-0.287456</td>\n",
       "      <td>-0.283656</td>\n",
       "      <td>-0.019209</td>\n",
       "      <td>-0.309676</td>\n",
       "      <td>2.304730</td>\n",
       "      <td>-0.198299</td>\n",
       "      <td>-1.537737</td>\n",
       "      <td>-0.428710</td>\n",
       "      <td>0.947958</td>\n",
       "      <td>0.481170</td>\n",
       "      <td>-0.467806</td>\n",
       "      <td>-0.467885</td>\n",
       "      <td>-1.678404</td>\n",
       "      <td>0.271446</td>\n",
       "      <td>-0.185826</td>\n",
       "      <td>-0.452455</td>\n",
       "      <td>-0.201201</td>\n",
       "      <td>-0.397695</td>\n",
       "      <td>0.010648</td>\n",
       "    </tr>\n",
       "    <tr>\n",
       "      <th>626965</th>\n",
       "      <td>0.564056</td>\n",
       "      <td>1.495610</td>\n",
       "      <td>-0.195161</td>\n",
       "      <td>1.386182</td>\n",
       "      <td>-1.064303</td>\n",
       "      <td>-1.304623</td>\n",
       "      <td>-0.651700</td>\n",
       "      <td>-0.813587</td>\n",
       "      <td>-1.268894</td>\n",
       "      <td>0.949120</td>\n",
       "      <td>0.460385</td>\n",
       "      <td>0.118718</td>\n",
       "      <td>-0.701636</td>\n",
       "      <td>1.090220</td>\n",
       "      <td>0.729581</td>\n",
       "      <td>-0.185826</td>\n",
       "      <td>1.724593</td>\n",
       "      <td>1.008396</td>\n",
       "      <td>0.982187</td>\n",
       "      <td>-1.091732</td>\n",
       "    </tr>\n",
       "    <tr>\n",
       "      <th>134427</th>\n",
       "      <td>-0.398323</td>\n",
       "      <td>-0.395663</td>\n",
       "      <td>-0.276137</td>\n",
       "      <td>-0.384507</td>\n",
       "      <td>0.095486</td>\n",
       "      <td>2.098599</td>\n",
       "      <td>-1.032969</td>\n",
       "      <td>-0.052316</td>\n",
       "      <td>0.787964</td>\n",
       "      <td>0.168520</td>\n",
       "      <td>-0.360607</td>\n",
       "      <td>0.504901</td>\n",
       "      <td>-1.420290</td>\n",
       "      <td>-1.678404</td>\n",
       "      <td>1.645851</td>\n",
       "      <td>-0.185826</td>\n",
       "      <td>1.916649</td>\n",
       "      <td>-0.381975</td>\n",
       "      <td>-0.895485</td>\n",
       "      <td>-0.793871</td>\n",
       "    </tr>\n",
       "  </tbody>\n",
       "</table>\n",
       "</div>"
      ],
      "text/plain": [
       "         Local-StructuralSetting  Local-QuaternaryFaultRecency  \\\n",
       "851760                  1.219532                      1.907248   \n",
       "918627                 -0.276916                     -0.203856   \n",
       "1528718                -0.092083                     -0.287456   \n",
       "626965                  0.564056                      1.495610   \n",
       "134427                 -0.398323                     -0.395663   \n",
       "\n",
       "         Local-QuaternaryFaultSlipDilation  Local-QuaternaryFaultSlipRate  \\\n",
       "851760                            0.150295                       2.039372   \n",
       "918627                           -0.021599                      -0.403835   \n",
       "1528718                          -0.283656                      -0.019209   \n",
       "626965                           -0.195161                       1.386182   \n",
       "134427                           -0.276137                      -0.384507   \n",
       "\n",
       "         QuaternaryFaultTraces  HorizGravityGradient2  HorizMagneticGradient2  \\\n",
       "851760               -0.211921               1.557584                0.296321   \n",
       "918627               -1.064303              -0.292717               -0.569263   \n",
       "1528718              -0.309676               2.304730               -0.198299   \n",
       "626965               -1.064303              -1.304623               -0.651700   \n",
       "134427                0.095486               2.098599               -1.032969   \n",
       "\n",
       "         GeodeticStrainRate  QuaternarySlipRate  FaultRecency  \\\n",
       "851760            -1.218099            0.455146      0.218541   \n",
       "918627            -0.811781           -0.922382     -1.454516   \n",
       "1528718           -1.537737           -0.428710      0.947958   \n",
       "626965            -0.813587           -1.268894      0.949120   \n",
       "134427            -0.052316            0.787964      0.168520   \n",
       "\n",
       "         FaultSlipDilationTendency2  Earthquakes  Heatflow  GravityDensity  \\\n",
       "851760                     0.639279    -1.200670 -0.469886       -1.447685   \n",
       "918627                    -0.400033    -0.787486  0.507925       -0.986248   \n",
       "1528718                    0.481170    -0.467806 -0.467885       -1.678404   \n",
       "626965                     0.460385     0.118718 -0.701636        1.090220   \n",
       "134427                    -0.360607     0.504901 -1.420290       -1.678404   \n",
       "\n",
       "         MagneticDensity  GeochemistryTemperature2  Silica_Distance  \\\n",
       "851760         -0.644825                 -0.185826         1.339493   \n",
       "918627          0.156912                 -0.185826        -0.351455   \n",
       "1528718         0.271446                 -0.185826        -0.452455   \n",
       "626965          0.729581                 -0.185826         1.724593   \n",
       "134427          1.645851                 -0.185826         1.916649   \n",
       "\n",
       "         TufaOrTravertine_Distance   DEM-30m  \\\n",
       "851760                   -1.021991  0.035613   \n",
       "918627                   -1.018601  0.198104   \n",
       "1528718                  -0.201201 -0.397695   \n",
       "626965                    1.008396  0.982187   \n",
       "134427                   -0.381975 -0.895485   \n",
       "\n",
       "         FavorableStructuralSettings_Distance  \n",
       "851760                              -1.214275  \n",
       "918627                              -0.658516  \n",
       "1528718                              0.010648  \n",
       "626965                              -1.091732  \n",
       "134427                              -0.793871  "
      ]
     },
     "execution_count": 20,
     "metadata": {},
     "output_type": "execute_result"
    }
   ],
   "source": [
    "X_trainAll.head()"
   ]
  },
  {
   "cell_type": "code",
   "execution_count": 21,
   "metadata": {
    "tags": []
   },
   "outputs": [
    {
     "data": {
      "text/plain": [
       "851760     0\n",
       "918627     0\n",
       "1528718    0\n",
       "626965     0\n",
       "134427     0\n",
       "Name: labels, dtype: int64"
      ]
     },
     "execution_count": 21,
     "metadata": {},
     "output_type": "execute_result"
    }
   ],
   "source": [
    "y_trainAll.head()"
   ]
  },
  {
   "cell_type": "code",
   "execution_count": 22,
   "metadata": {
    "tags": []
   },
   "outputs": [
    {
     "name": "stdout",
     "output_type": "stream",
     "text": [
      "(485,) 275\n"
     ]
    }
   ],
   "source": [
    "print(y_trainAll.shape, y_trainAll.sum())"
   ]
  },
  {
   "cell_type": "code",
   "execution_count": 23,
   "metadata": {
    "tags": []
   },
   "outputs": [
    {
     "data": {
      "text/plain": [
       "['Local-StructuralSetting',\n",
       " 'Local-QuaternaryFaultRecency',\n",
       " 'Local-QuaternaryFaultSlipDilation',\n",
       " 'Local-QuaternaryFaultSlipRate',\n",
       " 'QuaternaryFaultTraces',\n",
       " 'HorizGravityGradient2',\n",
       " 'HorizMagneticGradient2',\n",
       " 'GeodeticStrainRate',\n",
       " 'QuaternarySlipRate',\n",
       " 'FaultRecency',\n",
       " 'FaultSlipDilationTendency2',\n",
       " 'Earthquakes',\n",
       " 'Heatflow',\n",
       " 'GravityDensity',\n",
       " 'MagneticDensity',\n",
       " 'GeochemistryTemperature2',\n",
       " 'Silica_Distance',\n",
       " 'TufaOrTravertine_Distance',\n",
       " 'DEM-30m',\n",
       " 'FavorableStructuralSettings_Distance']"
      ]
     },
     "execution_count": 23,
     "metadata": {},
     "output_type": "execute_result"
    }
   ],
   "source": [
    "columns = X_trainAll.columns.to_list()\n",
    "columns"
   ]
  },
  {
   "cell_type": "markdown",
   "metadata": {},
   "source": [
    "## select feature set"
   ]
  },
  {
   "cell_type": "code",
   "execution_count": 24,
   "metadata": {
    "scrolled": true,
    "tags": []
   },
   "outputs": [
    {
     "name": "stdout",
     "output_type": "stream",
     "text": [
      "1\n"
     ]
    }
   ],
   "source": [
    "featureSets = [\n",
    "\n",
    "# MASTER SET 1\n",
    "################################# 0\n",
    "['QuaternaryFaultTraces',\n",
    " 'HorizGravityGradient2',\n",
    " 'HorizMagneticGradient2',\n",
    " 'GeodeticStrainRate',\n",
    " 'QuaternarySlipRate',\n",
    " 'FaultRecency',\n",
    " 'FaultSlipDilationTendency2',\n",
    " 'Earthquakes',\n",
    " 'Heatflow',\n",
    " 'DEM-30m',\n",
    "],\n",
    "\n",
    "]\n",
    "\n",
    "print (len(featureSets))"
   ]
  },
  {
   "cell_type": "code",
   "execution_count": 25,
   "metadata": {
    "tags": []
   },
   "outputs": [],
   "source": [
    "# featureSets"
   ]
  },
  {
   "cell_type": "code",
   "execution_count": 26,
   "metadata": {
    "tags": []
   },
   "outputs": [
    {
     "data": {
      "text/plain": [
       "['QuaternaryFaultTraces',\n",
       " 'HorizGravityGradient2',\n",
       " 'HorizMagneticGradient2',\n",
       " 'GeodeticStrainRate',\n",
       " 'QuaternarySlipRate',\n",
       " 'FaultRecency',\n",
       " 'FaultSlipDilationTendency2',\n",
       " 'Earthquakes',\n",
       " 'Heatflow',\n",
       " 'DEM-30m']"
      ]
     },
     "execution_count": 26,
     "metadata": {},
     "output_type": "execute_result"
    }
   ],
   "source": [
    "feature_set = 0\n",
    "\n",
    "columns = featureSets[feature_set]\n",
    "\n",
    "columns"
   ]
  },
  {
   "cell_type": "markdown",
   "metadata": {},
   "source": [
    "## END data preprocessing"
   ]
  },
  {
   "cell_type": "code",
   "execution_count": null,
   "metadata": {
    "editable": true,
    "slideshow": {
     "slide_type": ""
    },
    "tags": []
   },
   "outputs": [],
   "source": []
  },
  {
   "cell_type": "markdown",
   "metadata": {},
   "source": [
    "## fix input types and dimensions"
   ]
  },
  {
   "cell_type": "code",
   "execution_count": 27,
   "metadata": {
    "tags": []
   },
   "outputs": [],
   "source": [
    "X_train = X_trainAll[columns].copy()\n",
    "X_test = X_testAll[columns].copy()\n",
    "\n",
    "y_train = y_trainAll.copy()\n",
    "y_test = y_testAll.copy()"
   ]
  },
  {
   "cell_type": "code",
   "execution_count": 28,
   "metadata": {
    "tags": []
   },
   "outputs": [
    {
     "data": {
      "text/plain": [
       "10"
      ]
     },
     "execution_count": 28,
     "metadata": {},
     "output_type": "execute_result"
    }
   ],
   "source": [
    "nFeatures = X_train.shape[1]\n",
    "nFeatures"
   ]
  },
  {
   "cell_type": "code",
   "execution_count": 29,
   "metadata": {
    "tags": []
   },
   "outputs": [
    {
     "name": "stdout",
     "output_type": "stream",
     "text": [
      "(485, 10) (485,)\n"
     ]
    }
   ],
   "source": [
    "print (X_train.shape, y_train.shape)"
   ]
  },
  {
   "cell_type": "code",
   "execution_count": 30,
   "metadata": {},
   "outputs": [
    {
     "data": {
      "text/html": [
       "<div>\n",
       "<style scoped>\n",
       "    .dataframe tbody tr th:only-of-type {\n",
       "        vertical-align: middle;\n",
       "    }\n",
       "\n",
       "    .dataframe tbody tr th {\n",
       "        vertical-align: top;\n",
       "    }\n",
       "\n",
       "    .dataframe thead th {\n",
       "        text-align: right;\n",
       "    }\n",
       "</style>\n",
       "<table border=\"1\" class=\"dataframe\">\n",
       "  <thead>\n",
       "    <tr style=\"text-align: right;\">\n",
       "      <th></th>\n",
       "      <th>QuaternaryFaultTraces</th>\n",
       "      <th>HorizGravityGradient2</th>\n",
       "      <th>HorizMagneticGradient2</th>\n",
       "      <th>GeodeticStrainRate</th>\n",
       "      <th>QuaternarySlipRate</th>\n",
       "      <th>FaultRecency</th>\n",
       "      <th>FaultSlipDilationTendency2</th>\n",
       "      <th>Earthquakes</th>\n",
       "      <th>Heatflow</th>\n",
       "      <th>DEM-30m</th>\n",
       "    </tr>\n",
       "  </thead>\n",
       "  <tbody>\n",
       "    <tr>\n",
       "      <th>851760</th>\n",
       "      <td>-0.211921</td>\n",
       "      <td>1.557584</td>\n",
       "      <td>0.296321</td>\n",
       "      <td>-1.218099</td>\n",
       "      <td>0.455146</td>\n",
       "      <td>0.218541</td>\n",
       "      <td>0.639279</td>\n",
       "      <td>-1.200670</td>\n",
       "      <td>-0.469886</td>\n",
       "      <td>0.035613</td>\n",
       "    </tr>\n",
       "    <tr>\n",
       "      <th>918627</th>\n",
       "      <td>-1.064303</td>\n",
       "      <td>-0.292717</td>\n",
       "      <td>-0.569263</td>\n",
       "      <td>-0.811781</td>\n",
       "      <td>-0.922382</td>\n",
       "      <td>-1.454516</td>\n",
       "      <td>-0.400033</td>\n",
       "      <td>-0.787486</td>\n",
       "      <td>0.507925</td>\n",
       "      <td>0.198104</td>\n",
       "    </tr>\n",
       "    <tr>\n",
       "      <th>1528718</th>\n",
       "      <td>-0.309676</td>\n",
       "      <td>2.304730</td>\n",
       "      <td>-0.198299</td>\n",
       "      <td>-1.537737</td>\n",
       "      <td>-0.428710</td>\n",
       "      <td>0.947958</td>\n",
       "      <td>0.481170</td>\n",
       "      <td>-0.467806</td>\n",
       "      <td>-0.467885</td>\n",
       "      <td>-0.397695</td>\n",
       "    </tr>\n",
       "    <tr>\n",
       "      <th>626965</th>\n",
       "      <td>-1.064303</td>\n",
       "      <td>-1.304623</td>\n",
       "      <td>-0.651700</td>\n",
       "      <td>-0.813587</td>\n",
       "      <td>-1.268894</td>\n",
       "      <td>0.949120</td>\n",
       "      <td>0.460385</td>\n",
       "      <td>0.118718</td>\n",
       "      <td>-0.701636</td>\n",
       "      <td>0.982187</td>\n",
       "    </tr>\n",
       "    <tr>\n",
       "      <th>134427</th>\n",
       "      <td>0.095486</td>\n",
       "      <td>2.098599</td>\n",
       "      <td>-1.032969</td>\n",
       "      <td>-0.052316</td>\n",
       "      <td>0.787964</td>\n",
       "      <td>0.168520</td>\n",
       "      <td>-0.360607</td>\n",
       "      <td>0.504901</td>\n",
       "      <td>-1.420290</td>\n",
       "      <td>-0.895485</td>\n",
       "    </tr>\n",
       "    <tr>\n",
       "      <th>...</th>\n",
       "      <td>...</td>\n",
       "      <td>...</td>\n",
       "      <td>...</td>\n",
       "      <td>...</td>\n",
       "      <td>...</td>\n",
       "      <td>...</td>\n",
       "      <td>...</td>\n",
       "      <td>...</td>\n",
       "      <td>...</td>\n",
       "      <td>...</td>\n",
       "    </tr>\n",
       "    <tr>\n",
       "      <th>1034747</th>\n",
       "      <td>1.016534</td>\n",
       "      <td>0.773579</td>\n",
       "      <td>-1.043273</td>\n",
       "      <td>-1.030113</td>\n",
       "      <td>-0.196457</td>\n",
       "      <td>0.114891</td>\n",
       "      <td>1.103443</td>\n",
       "      <td>-0.417395</td>\n",
       "      <td>-1.321948</td>\n",
       "      <td>0.125886</td>\n",
       "    </tr>\n",
       "    <tr>\n",
       "      <th>726187</th>\n",
       "      <td>-0.767041</td>\n",
       "      <td>2.506430</td>\n",
       "      <td>0.770331</td>\n",
       "      <td>1.632089</td>\n",
       "      <td>0.760124</td>\n",
       "      <td>-1.297311</td>\n",
       "      <td>1.012005</td>\n",
       "      <td>1.301080</td>\n",
       "      <td>0.950572</td>\n",
       "      <td>-0.921277</td>\n",
       "    </tr>\n",
       "    <tr>\n",
       "      <th>618084</th>\n",
       "      <td>-0.530701</td>\n",
       "      <td>-0.262086</td>\n",
       "      <td>-0.631091</td>\n",
       "      <td>-0.436451</td>\n",
       "      <td>-0.324187</td>\n",
       "      <td>-0.319921</td>\n",
       "      <td>0.707384</td>\n",
       "      <td>0.250527</td>\n",
       "      <td>-1.536378</td>\n",
       "      <td>0.071722</td>\n",
       "    </tr>\n",
       "    <tr>\n",
       "      <th>341768</th>\n",
       "      <td>-0.429834</td>\n",
       "      <td>-0.880416</td>\n",
       "      <td>-1.074187</td>\n",
       "      <td>-0.601991</td>\n",
       "      <td>-0.402264</td>\n",
       "      <td>0.367175</td>\n",
       "      <td>-0.521013</td>\n",
       "      <td>0.475535</td>\n",
       "      <td>-1.654041</td>\n",
       "      <td>-0.286789</td>\n",
       "    </tr>\n",
       "    <tr>\n",
       "      <th>1481915</th>\n",
       "      <td>-1.064303</td>\n",
       "      <td>0.239243</td>\n",
       "      <td>0.935204</td>\n",
       "      <td>-0.805818</td>\n",
       "      <td>1.418586</td>\n",
       "      <td>-2.351693</td>\n",
       "      <td>0.203807</td>\n",
       "      <td>-0.206034</td>\n",
       "      <td>2.158736</td>\n",
       "      <td>-0.952228</td>\n",
       "    </tr>\n",
       "  </tbody>\n",
       "</table>\n",
       "<p>485 rows × 10 columns</p>\n",
       "</div>"
      ],
      "text/plain": [
       "         QuaternaryFaultTraces  HorizGravityGradient2  HorizMagneticGradient2  \\\n",
       "851760               -0.211921               1.557584                0.296321   \n",
       "918627               -1.064303              -0.292717               -0.569263   \n",
       "1528718              -0.309676               2.304730               -0.198299   \n",
       "626965               -1.064303              -1.304623               -0.651700   \n",
       "134427                0.095486               2.098599               -1.032969   \n",
       "...                        ...                    ...                     ...   \n",
       "1034747               1.016534               0.773579               -1.043273   \n",
       "726187               -0.767041               2.506430                0.770331   \n",
       "618084               -0.530701              -0.262086               -0.631091   \n",
       "341768               -0.429834              -0.880416               -1.074187   \n",
       "1481915              -1.064303               0.239243                0.935204   \n",
       "\n",
       "         GeodeticStrainRate  QuaternarySlipRate  FaultRecency  \\\n",
       "851760            -1.218099            0.455146      0.218541   \n",
       "918627            -0.811781           -0.922382     -1.454516   \n",
       "1528718           -1.537737           -0.428710      0.947958   \n",
       "626965            -0.813587           -1.268894      0.949120   \n",
       "134427            -0.052316            0.787964      0.168520   \n",
       "...                     ...                 ...           ...   \n",
       "1034747           -1.030113           -0.196457      0.114891   \n",
       "726187             1.632089            0.760124     -1.297311   \n",
       "618084            -0.436451           -0.324187     -0.319921   \n",
       "341768            -0.601991           -0.402264      0.367175   \n",
       "1481915           -0.805818            1.418586     -2.351693   \n",
       "\n",
       "         FaultSlipDilationTendency2  Earthquakes  Heatflow   DEM-30m  \n",
       "851760                     0.639279    -1.200670 -0.469886  0.035613  \n",
       "918627                    -0.400033    -0.787486  0.507925  0.198104  \n",
       "1528718                    0.481170    -0.467806 -0.467885 -0.397695  \n",
       "626965                     0.460385     0.118718 -0.701636  0.982187  \n",
       "134427                    -0.360607     0.504901 -1.420290 -0.895485  \n",
       "...                             ...          ...       ...       ...  \n",
       "1034747                    1.103443    -0.417395 -1.321948  0.125886  \n",
       "726187                     1.012005     1.301080  0.950572 -0.921277  \n",
       "618084                     0.707384     0.250527 -1.536378  0.071722  \n",
       "341768                    -0.521013     0.475535 -1.654041 -0.286789  \n",
       "1481915                    0.203807    -0.206034  2.158736 -0.952228  \n",
       "\n",
       "[485 rows x 10 columns]"
      ]
     },
     "execution_count": 30,
     "metadata": {},
     "output_type": "execute_result"
    }
   ],
   "source": [
    "X_train"
   ]
  },
  {
   "cell_type": "code",
   "execution_count": 31,
   "metadata": {},
   "outputs": [
    {
     "data": {
      "text/plain": [
       "851760     0\n",
       "918627     0\n",
       "1528718    0\n",
       "626965     0\n",
       "134427     0\n",
       "          ..\n",
       "1034747    0\n",
       "726187     1\n",
       "618084     1\n",
       "341768     0\n",
       "1481915    1\n",
       "Name: labels, Length: 485, dtype: int64"
      ]
     },
     "execution_count": 31,
     "metadata": {},
     "output_type": "execute_result"
    }
   ],
   "source": [
    "y_train"
   ]
  },
  {
   "cell_type": "markdown",
   "metadata": {},
   "source": [
    "### balance dataset method 2: using weighted samplers in the dataloaders"
   ]
  },
  {
   "cell_type": "code",
   "execution_count": 32,
   "metadata": {
    "tags": []
   },
   "outputs": [],
   "source": [
    "if balance == 'weighted':\n",
    "\n",
    "    # training dataloader sampler\n",
    "    sample_weights = [1-class_weights[i] for i in y_train.to_numpy()]\n",
    "    sampler = WeightedRandomSampler(weights=sample_weights, \n",
    "                                    num_samples=len(y_train), replacement=True)\n",
    "\n",
    "    # testing dataloader sampler\n",
    "    sample_weights_test = [1-class_weights[i] for i in y_test.to_numpy()]\n",
    "    sampler_test = WeightedRandomSampler(weights=sample_weights_test, \n",
    "                                         num_samples=len(y_test), replacement=True)"
   ]
  },
  {
   "cell_type": "markdown",
   "metadata": {},
   "source": [
    "### use GPU"
   ]
  },
  {
   "cell_type": "code",
   "execution_count": 33,
   "metadata": {
    "tags": []
   },
   "outputs": [
    {
     "name": "stdout",
     "output_type": "stream",
     "text": [
      "Using device: cuda\n",
      "\n",
      "NVIDIA GeForce RTX 2070\n",
      "Memory Usage:\n",
      "Allocated: 0.0 GB\n",
      "Cached:    0.0 GB\n"
     ]
    }
   ],
   "source": [
    "# setting device on GPU if available, else CPU\n",
    "DEVICE = torch.device('cuda' if torch.cuda.is_available() else 'cpu')\n",
    "# DEVICE = torch.device('cpu')\n",
    "print('Using device:', DEVICE)\n",
    "print()\n",
    "\n",
    "#Additional Info when using cuda\n",
    "if DEVICE.type == 'cuda':\n",
    "    print(torch.cuda.get_device_name(0))\n",
    "    print('Memory Usage:')\n",
    "    print('Allocated:', round(torch.cuda.memory_allocated(0)/1024**3,1), 'GB')\n",
    "    print('Cached:   ', round(torch.cuda.memory_reserved(0)/1024**3,1), 'GB')"
   ]
  },
  {
   "cell_type": "markdown",
   "metadata": {},
   "source": [
    "## custom dataset class to put random numbers in certain columns each call"
   ]
  },
  {
   "cell_type": "code",
   "execution_count": 34,
   "metadata": {
    "tags": []
   },
   "outputs": [],
   "source": [
    "# class CustomDataset(Dataset):\n",
    "#     def __init__(self, X, y, randomList=[]):\n",
    "#         self.X = X.clone() # without clone this seems to retain changes in original array\n",
    "#         self.y = y.clone()\n",
    "#         self.randomList = randomList\n",
    "        \n",
    "#     def __len__(self):\n",
    "#         return len(self.X)\n",
    "    \n",
    "#     def __getitem__(self, idx):\n",
    "#         if self.randomList:\n",
    "#             self.X[idx,self.randomList] = torch.rand(len(self.randomList))*0\n",
    "#         return self.X[idx], self.y[idx]"
   ]
  },
  {
   "cell_type": "code",
   "execution_count": 35,
   "metadata": {
    "tags": []
   },
   "outputs": [],
   "source": [
    "# # test new custom datasets\n",
    "\n",
    "# features = Tensor(X_train.to_numpy())\n",
    "# labels = Tensor(y_train.to_numpy()).long()\n",
    "\n",
    "# dataset = CustomDataset(features, labels, randomList=[9,10,11,12,13,14])\n",
    "# # dataset = CustomDataset(features, labels)\n",
    "# print('Number of samples in the data: ', len(dataset))\n",
    "# print(dataset[2])\n",
    "# print(dataset[0:5])"
   ]
  },
  {
   "cell_type": "code",
   "execution_count": 36,
   "metadata": {
    "tags": []
   },
   "outputs": [],
   "source": [
    "# feature columns to continually randomize\n",
    "\n",
    "# randomList = [9,10,11,12,13,14]"
   ]
  },
  {
   "cell_type": "markdown",
   "metadata": {},
   "source": [
    "## create datasets and batch loaders"
   ]
  },
  {
   "cell_type": "code",
   "execution_count": 37,
   "metadata": {
    "tags": []
   },
   "outputs": [],
   "source": [
    "# batch_size = 1024\n",
    "batch_size = 64"
   ]
  },
  {
   "cell_type": "code",
   "execution_count": 38,
   "metadata": {
    "tags": []
   },
   "outputs": [],
   "source": [
    "###################################################################\n",
    "# Create train dataset from several tensors with matching first dimension\n",
    "features = Tensor(X_train.to_numpy())\n",
    "labels = Tensor(y_train.to_numpy()).long()\n",
    "\n",
    "train_dataset = TensorDataset( features, labels )\n",
    "# train_dataset = CustomDataset( features, labels, randomList ) # randomize certain columns\n",
    "\n",
    "# Create a data loader from the dataset\n",
    "if balance == None or balance == 'truncate':\n",
    "    # Type of sampling and batch size are specified at this step\n",
    "    train_loader = DataLoader(train_dataset, shuffle=True, \n",
    "                              batch_size=batch_size, drop_last=False)\n",
    "\n",
    "if balance == 'weighted':\n",
    "    # weighted sampler to balance training data\n",
    "    train_loader = DataLoader(train_dataset, sampler=sampler, \n",
    "                              batch_size=batch_size, drop_last=False)\n",
    "\n",
    "###################################################################\n",
    "# Create test dataset from several tensors with matching first dimension\n",
    "features = Tensor(X_test.to_numpy())\n",
    "labels = Tensor(y_test.to_numpy()).long()\n",
    "\n",
    "test_dataset = TensorDataset( features, labels )\n",
    "# test_dataset = CustomDataset( features, labels, randomList ) # randomize certain columns\n",
    "\n",
    "# Create a data loader from the dataset\n",
    "if balance == None or balance == 'truncate':\n",
    "    test_loader = DataLoader(test_dataset, shuffle=False, \n",
    "                             batch_size=batch_size, drop_last=False)\n",
    "\n",
    "if balance == 'weighted':\n",
    "    # need this weighted sampler to balance testing data too, \n",
    "    #      otherwise learning curves are odd\n",
    "    # a weighted test_loader is a good substitute for the required weighting \n",
    "    #      of the test accuracy in imbalanced cases ... \n",
    "    #      since accuracies are means over epochs statistics are incorrect without it\n",
    "    #\n",
    "    # test_loader = DataLoader(test_dataset, shuffle=False, \n",
    "    #                          batch_size=batch_size, drop_last=False)\n",
    "    test_loader = DataLoader(test_dataset, sampler=sampler_test, \n",
    "                             batch_size=batch_size, drop_last=True)"
   ]
  },
  {
   "cell_type": "markdown",
   "metadata": {},
   "source": [
    "## FCNN in pytorch"
   ]
  },
  {
   "cell_type": "code",
   "execution_count": 39,
   "metadata": {
    "tags": []
   },
   "outputs": [],
   "source": [
    "DropoutValue = 0.2\n",
    "WeightDecayValue = 5e-02"
   ]
  },
  {
   "cell_type": "code",
   "execution_count": 40,
   "metadata": {
    "tags": []
   },
   "outputs": [],
   "source": [
    "class FCNN(nn.Module):\n",
    "    def __init__(self, nFeatures, nHidden, nLabels):\n",
    "        super().__init__()\n",
    "        self.nFeatures = nFeatures\n",
    "        self.nHidden = nHidden\n",
    "        self.nLabels = nLabels\n",
    "        \n",
    "        self.fc1   = nn.Linear(self.nFeatures, self.nHidden)\n",
    "        self.fc2   = nn.Linear(self.nHidden, self.nHidden)\n",
    "        self.fc3   = nn.Linear(self.nHidden, nLabels)\n",
    "        \n",
    "#         self.Relu = nn.ReLU()\n",
    "        self.LeakyRelu = nn.LeakyReLU(0.1)\n",
    "        self.BatchNorm = nn.BatchNorm1d(self.nHidden)\n",
    "        self.dropout = nn.Dropout(p=DropoutValue)\n",
    "        # self.dropout = nn.Dropout(p=0.0)\n",
    "        self.LogSoftmax = nn.LogSoftmax(dim=1)\n",
    "\n",
    "    def forward(self, x):\n",
    "        out = x.view(-1, self.nFeatures)\n",
    "        out = self.LeakyRelu(self.fc1(out))\n",
    "#         out = self.Relu(self.fc1(out))\n",
    "        out = self.dropout(out)\n",
    "        out = self.BatchNorm(out)\n",
    "        out = self.LeakyRelu(self.fc2(out))\n",
    "#         out = self.Relu(self.fc2(out))\n",
    "        out = self.dropout(out)\n",
    "    \n",
    "        ######################################\n",
    "        out = self.fc3(out) # these are logits\n",
    "        \n",
    "        ######################################\n",
    "        out = self.LogSoftmax(out) \n",
    "        # output of network is LogSoftmax \n",
    "        # this makes probabilty=torch.exp(out)\n",
    "        # proper loss criterion is used accordingly\n",
    "        \n",
    "        return out"
   ]
  },
  {
   "cell_type": "markdown",
   "metadata": {},
   "source": [
    "## clean up from multiple trials"
   ]
  },
  {
   "cell_type": "code",
   "execution_count": 41,
   "metadata": {
    "tags": []
   },
   "outputs": [],
   "source": [
    "try:\n",
    "    del net\n",
    "    del optimizer\n",
    "    del criterion\n",
    "except:\n",
    "    pass"
   ]
  },
  {
   "cell_type": "markdown",
   "metadata": {},
   "source": [
    "## instantiate model"
   ]
  },
  {
   "cell_type": "code",
   "execution_count": 42,
   "metadata": {
    "tags": []
   },
   "outputs": [],
   "source": [
    "DEVICE = torch.device('cuda' if torch.cuda.is_available() else 'cpu')\n",
    "\n",
    "net = FCNN(nFeatures, 16, 2).to(DEVICE)\n",
    "# net = FCNN(nFeatures, 8, 2).to(DEVICE)\n",
    "\n",
    "#####################################\n",
    "# initialize weights however you like\n",
    "#####################################\n",
    "# torch.nn.init.xavier_uniform_(net.fc1.weight)\n",
    "# torch.nn.init.zeros_(net.fc1.bias)\n",
    "\n",
    "# torch.nn.init.xavier_uniform_(net.fc2.weight)\n",
    "# torch.nn.init.zeros_(net.fc2.bias)\n",
    "\n",
    "optimizer = optim.Adam(net.parameters(), lr=0.01, weight_decay=WeightDecayValue)\n",
    "\n",
    "# criterion = torch.nn.CrossEntropyLoss()\n",
    "# use negative log likelihood instead since we set LogSoftmax as network output\n",
    "criterion = torch.nn.NLLLoss() "
   ]
  },
  {
   "cell_type": "markdown",
   "metadata": {},
   "source": [
    "## train model"
   ]
  },
  {
   "cell_type": "code",
   "execution_count": 43,
   "metadata": {
    "lines_to_next_cell": 2,
    "tags": []
   },
   "outputs": [
    {
     "data": {
      "application/vnd.jupyter.widget-view+json": {
       "model_id": "f9b31b0971fb46bfbac1b4676da4ab68",
       "version_major": 2,
       "version_minor": 0
      },
      "text/plain": [
       "  0%|          | 0/1000 [00:00<?, ?it/s]"
      ]
     },
     "metadata": {},
     "output_type": "display_data"
    },
    {
     "name": "stdout",
     "output_type": "stream",
     "text": [
      "Training Time =  20.028025150299072\n"
     ]
    }
   ],
   "source": [
    "startTime = time.time()\n",
    "\n",
    "epoch_train_loss = []\n",
    "epoch_train_acc = []\n",
    "epoch_test_acc = []\n",
    "        \n",
    "for epoch in trange(1000):\n",
    "    \n",
    "    total = 0\n",
    "    total_loss = 0.0\n",
    "    for i, (features, labels) in enumerate(train_loader):\n",
    "        \n",
    "        y_pred = net.forward(features.to(DEVICE))\n",
    "        loss = criterion(y_pred, labels.to(DEVICE))\n",
    "\n",
    "        optimizer.zero_grad()\n",
    "        loss.backward()\n",
    "        optimizer.step()\n",
    "        \n",
    "        total += labels.size(0)\n",
    "        total_loss += loss.cpu().detach().numpy()\n",
    "        \n",
    "    epoch_train_loss.append(total_loss/total)\n",
    "        \n",
    "    # average test accuracy per epoch ... since this is an average they should be weighted\n",
    "    correct = 0\n",
    "    total = 0\n",
    "    with torch.no_grad():\n",
    "        for data in test_loader:\n",
    "            features, labels = data\n",
    "            outputs = net.forward(features.to(DEVICE))\n",
    "            _, predicted = torch.max(outputs.data, 1)\n",
    "            total += labels.size(0)\n",
    "            correct += (predicted == labels.to(DEVICE)).sum().item()\n",
    "\n",
    "    epoch_test_acc.append(100 * correct / total)\n",
    "\n",
    "    # average train accuracy per epoch ... since this is an average they should be weighted\n",
    "    correct = 0\n",
    "    total = 0\n",
    "    with torch.no_grad():\n",
    "        for data in train_loader:\n",
    "            features, labels = data\n",
    "            outputs = net.forward(features.to(DEVICE))\n",
    "            _, predicted = torch.max(outputs.data, 1)\n",
    "            total += labels.size(0)\n",
    "            correct += (predicted == labels.to(DEVICE)).sum().item()\n",
    "\n",
    "    epoch_train_acc.append(100 * correct / total)\n",
    "    \n",
    "train_loss = np.asarray(epoch_train_loss)\n",
    "train_acc = np.asarray(epoch_train_acc)\n",
    "test_acc = np.asarray(epoch_test_acc)\n",
    "\n",
    "trainTime = time.time() - startTime\n",
    "\n",
    "print ('Training Time = ', trainTime)"
   ]
  },
  {
   "cell_type": "markdown",
   "metadata": {},
   "source": [
    "## a look at last batch results"
   ]
  },
  {
   "cell_type": "code",
   "execution_count": 44,
   "metadata": {
    "tags": []
   },
   "outputs": [
    {
     "data": {
      "text/plain": [
       "Text(0.5, 0, 'probability of class')"
      ]
     },
     "execution_count": 44,
     "metadata": {},
     "output_type": "execute_result"
    },
    {
     "data": {
      "image/png": "[encoded data removed]",
      "text/plain": [
       "<Figure size 600x300 with 1 Axes>"
      ]
     },
     "metadata": {},
     "output_type": "display_data"
    }
   ],
   "source": [
    "plt.rc('figure', figsize=(6, 3))\n",
    "\n",
    "plt.hist(torch.exp(outputs[:,0]).cpu(), 50, label='class 0');\n",
    "plt.hist(torch.exp(outputs[:,1]).cpu(), 50, alpha=0.5, label='class 1');\n",
    "plt.legend()\n",
    "\n",
    "plt.xlabel('probability of class')"
   ]
  },
  {
   "cell_type": "markdown",
   "metadata": {},
   "source": [
    "## learning curves"
   ]
  },
  {
   "cell_type": "code",
   "execution_count": 45,
   "metadata": {
    "lines_to_next_cell": 0,
    "scrolled": true,
    "tags": []
   },
   "outputs": [
    {
     "data": {
      "image/png": "[encoded data removed]",
      "text/plain": [
       "<Figure size 1600x400 with 2 Axes>"
      ]
     },
     "metadata": {},
     "output_type": "display_data"
    }
   ],
   "source": [
    "plt.rc('figure', figsize=(16, 4))\n",
    "\n",
    "plt.subplot(121)\n",
    "plt.plot(train_loss, label='train')\n",
    "# plt.plot(test_loss, label='test')\n",
    "plt.ylabel('loss')\n",
    "plt.legend()\n",
    "\n",
    "plt.grid(True)\n",
    "\n",
    "plt.subplot(122)\n",
    "plt.plot(train_acc, label='train')\n",
    "plt.plot(test_acc, label='test')\n",
    "plt.ylabel('accuracy')\n",
    "plt.legend()\n",
    "# plt.ylim([50,100])\n",
    "\n",
    "plt.grid(True)\n",
    "\n",
    "# plt.savefig('learning_curves.png')"
   ]
  },
  {
   "cell_type": "code",
   "execution_count": 46,
   "metadata": {},
   "outputs": [],
   "source": [
    "# xxx"
   ]
  },
  {
   "cell_type": "markdown",
   "metadata": {},
   "source": [
    "## save model"
   ]
  },
  {
   "cell_type": "code",
   "execution_count": 47,
   "metadata": {
    "tags": []
   },
   "outputs": [
    {
     "name": "stdout",
     "output_type": "stream",
     "text": [
      "ANN_model_trial_dropout-0.2_weight_decay-0.05.torch\n"
     ]
    }
   ],
   "source": [
    "model_filename = 'ANN_model_trial'+ \\\n",
    "                '_dropout-' + str(DropoutValue) + \\\n",
    "                '_weight_decay-'+str(WeightDecayValue) + \\\n",
    "                '.torch'\n",
    "print (model_filename)\n",
    "torch.save(net, model_filename)"
   ]
  },
  {
   "cell_type": "markdown",
   "metadata": {},
   "source": [
    "## save learning curve data"
   ]
  },
  {
   "cell_type": "code",
   "execution_count": 48,
   "metadata": {
    "tags": []
   },
   "outputs": [],
   "source": [
    "# traintest_filename = 'ann_traintest_'+ \\\n",
    "#                     'featureSet'+str(feature_set)+'.pkl'"
   ]
  },
  {
   "cell_type": "code",
   "execution_count": 49,
   "metadata": {
    "lines_to_next_cell": 2,
    "tags": []
   },
   "outputs": [],
   "source": [
    "# traintest_dict = {'group': grp, 'feature_set': feature_set, \n",
    "#                   'train_loss': train_loss, \n",
    "#                   'train_acc': train_acc, \n",
    "#                   'test_acc': test_acc}\n",
    "\n",
    "# # write python dict to a file\n",
    "# output = open(traintest_filename, 'wb')\n",
    "# pickle.dump(traintest_dict, output)\n",
    "# output.close()\n",
    "\n",
    "# # read python dict back from the file\n",
    "# pkl_file = open(traintest_filename, 'rb')\n",
    "# traintest_dict2 = pickle.load(pkl_file)\n",
    "# pkl_file.close()\n",
    "\n",
    "# print (traintest_dict)\n",
    "# print (traintest_dict2)"
   ]
  },
  {
   "cell_type": "code",
   "execution_count": 50,
   "metadata": {},
   "outputs": [
    {
     "ename": "NameError",
     "evalue": "name 'xxx' is not defined",
     "output_type": "error",
     "traceback": [
      "\u001b[0;31m---------------------------------------------------------------------------\u001b[0m",
      "\u001b[0;31mNameError\u001b[0m                                 Traceback (most recent call last)",
      "Cell \u001b[0;32mIn[50], line 1\u001b[0m\n\u001b[0;32m----> 1\u001b[0m \u001b[43mxxx\u001b[49m\n",
      "\u001b[0;31mNameError\u001b[0m: name 'xxx' is not defined"
     ]
    }
   ],
   "source": [
    "xxx"
   ]
  },
  {
   "cell_type": "code",
   "execution_count": null,
   "metadata": {},
   "outputs": [],
   "source": []
  },
  {
   "cell_type": "markdown",
   "metadata": {},
   "source": [
    "# Extra Stuff"
   ]
  },
  {
   "cell_type": "code",
   "execution_count": null,
   "metadata": {},
   "outputs": [],
   "source": []
  },
  {
   "cell_type": "markdown",
   "metadata": {},
   "source": [
    "## evaluate the classifier"
   ]
  },
  {
   "cell_type": "code",
   "execution_count": null,
   "metadata": {
    "lines_to_next_cell": 2,
    "tags": []
   },
   "outputs": [],
   "source": [
    "X = X_test.to_numpy()\n",
    "y = y_test.to_numpy()\n",
    "\n",
    "# X = np.vstack((X_train.to_numpy(), X_test.to_numpy()))\n",
    "# y = np.hstack((y_train.to_numpy(), y_test.to_numpy()))"
   ]
  },
  {
   "cell_type": "code",
   "execution_count": null,
   "metadata": {
    "tags": []
   },
   "outputs": [],
   "source": [
    "net.eval()\n",
    "\n",
    "net.to(DEVICE)\n",
    "features = Tensor(X).to(DEVICE)\n",
    "\n",
    "with torch.no_grad():\n",
    "    p = net.forward(features)\n",
    "    p = torch.exp(p)"
   ]
  },
  {
   "cell_type": "code",
   "execution_count": null,
   "metadata": {
    "tags": []
   },
   "outputs": [],
   "source": [
    "ypred = p[:,1].cpu()"
   ]
  },
  {
   "cell_type": "code",
   "execution_count": null,
   "metadata": {
    "tags": []
   },
   "outputs": [],
   "source": [
    "plt.rc('figure', figsize=(12, 3))\n",
    "\n",
    "plt.hist(ypred,50, label='(+)');\n",
    "plt.legend()\n",
    "\n",
    "plt.grid(True)"
   ]
  },
  {
   "cell_type": "code",
   "execution_count": null,
   "metadata": {
    "tags": []
   },
   "outputs": [],
   "source": [
    "def to_class(ypred,threshold):\n",
    "    yclass = np.zeros(ypred.shape,dtype='int')\n",
    "    yclass[ypred > threshold] = 1\n",
    "    return yclass\n",
    "\n",
    "def CrossEntropyLoss(ypred, y):\n",
    "    if y == 1:\n",
    "        loss = -np.log(ypred)\n",
    "    else:\n",
    "        loss = -np.log(1 - ypred)\n",
    "    return loss"
   ]
  },
  {
   "cell_type": "code",
   "execution_count": null,
   "metadata": {
    "lines_to_next_cell": 2,
    "tags": []
   },
   "outputs": [],
   "source": [
    "threshold = 0.5\n",
    "\n",
    "yclass = to_class(ypred, threshold)\n",
    "pred_positives = np.sum(yclass)\n",
    "\n",
    "d = y-yclass\n",
    "true_positives = np.sum(y)\n",
    "false_positives = np.sum(np.abs(d[d==-1]))\n",
    "false_negatives = np.sum(d[d==1])\n",
    "\n",
    "accuracy = float(pred_positives)/float(true_positives)\n",
    "precision = true_positives/(true_positives + false_positives)\n",
    "recall = true_positives/(true_positives + false_negatives)\n",
    "print (pred_positives, true_positives, false_positives, false_negatives)\n",
    "print (accuracy, precision, recall)\n"
   ]
  },
  {
   "cell_type": "code",
   "execution_count": null,
   "metadata": {
    "lines_to_end_of_cell_marker": 2,
    "lines_to_next_cell": 2,
    "tags": []
   },
   "outputs": [],
   "source": [
    "from sklearn.metrics import classification_report\n",
    "from sklearn.metrics import f1_score, precision_score, recall_score, confusion_matrix\n",
    "\n",
    "y_true = y.squeeze()\n",
    "y_pred = yclass.squeeze() \n",
    "# labels = ['noise', 'event']\n",
    "\n",
    "# print (y_true)\n",
    "\n",
    "# # # Print f1, precision, and recall scores\n",
    "# print(precision_score(y_true, y_pred, average=\"macro\"))\n",
    "# print(recall_score(y_true, y_pred , average=\"macro\"))\n",
    "# print(f1_score(y_true, y_pred , average=\"macro\"))\n",
    "print('Report for Trained Classifier')\n",
    "print(classification_report(y_true, y_pred))\n",
    "\n",
    "print('')\n",
    "print('Confusion Matrix')\n",
    "print('[true negative  false positive]')\n",
    "print('[false negative  true positive]')\n",
    "print('')\n",
    "print(confusion_matrix(y_true, y_pred))\n",
    "print('')"
   ]
  },
  {
   "cell_type": "code",
   "execution_count": null,
   "metadata": {
    "tags": []
   },
   "outputs": [],
   "source": [
    "print(precision_score(y_true, y_pred, average=\"macro\"))\n",
    "print(recall_score(y_true, y_pred , average=\"macro\"))\n",
    "print(f1_score(y_true, y_pred , average=\"macro\"))\n",
    "# print(classification_report(y_true, y_pred))"
   ]
  },
  {
   "cell_type": "code",
   "execution_count": null,
   "metadata": {
    "tags": []
   },
   "outputs": [],
   "source": [
    "ypred.shape"
   ]
  },
  {
   "cell_type": "code",
   "execution_count": null,
   "metadata": {
    "tags": []
   },
   "outputs": [],
   "source": [
    "# roc curve and auc\n",
    "from sklearn.metrics import roc_curve, auc\n",
    "from sklearn.metrics import roc_auc_score\n",
    "\n",
    "fpr, tpr, thresholds = roc_curve(y, ypred)\n",
    "\n",
    "roc_auc = auc(fpr, tpr)"
   ]
  },
  {
   "cell_type": "code",
   "execution_count": null,
   "metadata": {
    "tags": []
   },
   "outputs": [],
   "source": [
    "plt.rc('figure', figsize=(6,6))\n",
    "\n",
    "lw = 2\n",
    "plt.plot(fpr, tpr, color='darkorange',\n",
    "         lw=lw, label='ROC curve (area = %0.2f)' % roc_auc)\n",
    "plt.plot([0, 1], [0, 1], color='navy', lw=lw, linestyle='--')\n",
    "plt.xlim([0.0, 1.0])\n",
    "plt.ylim([0.0, 1.05])\n",
    "plt.xlabel('False Positive Rate')\n",
    "plt.ylabel('True Positive Rate')\n",
    "plt.title('Receiver operating characteristic')\n",
    "\n",
    "# idx4 = np.where(np.abs(thresholds)>=0.4)[0][-1]\n",
    "idx5 = np.where(np.abs(thresholds)>=0.5)[0][-1]\n",
    "idx6 = np.where(np.abs(thresholds)>=0.6)[0][-1]\n",
    "idx7 = np.where(np.abs(thresholds)>=0.7)[0][-1]\n",
    "idx8 = np.where(np.abs(thresholds)>=0.8)[0][-1]\n",
    "idx9 = np.where(np.abs(thresholds)<=0.9)[0][-1]\n",
    "\n",
    "# plt.plot(fpr[idx4],tpr[idx4],'o', label='threshold=0.4')\n",
    "plt.plot(fpr[idx5],tpr[idx5],'o', label='threshold=0.5')\n",
    "plt.plot(fpr[idx6],tpr[idx6],'o', label='threshold=0.6')\n",
    "plt.plot(fpr[idx7],tpr[idx7],'o', label='threshold=0.7')\n",
    "plt.plot(fpr[idx8],tpr[idx8],'o', label='threshold=0.8')\n",
    "plt.plot(fpr[idx9],tpr[idx9],'o', label='threshold=0.9')\n",
    "\n",
    "plt.legend(loc=\"lower right\")\n",
    "\n",
    "plt.grid(True)\n",
    "\n",
    "# plt.savefig('figures/roc.png')"
   ]
  },
  {
   "cell_type": "markdown",
   "metadata": {},
   "source": [
    "“A receiver operating characteristic (ROC), or simply ROC curve, is a graphical plot which illustrates the performance of a binary classifier system as its discrimination threshold is varied. It is created by plotting the fraction of true positives out of the positives (TPR = true positive rate) vs. the fraction of false positives out of the negatives (FPR = false positive rate), at various threshold settings. TPR is also known as sensitivity, and FPR is one minus the specificity or true negative rate.”"
   ]
  },
  {
   "cell_type": "code",
   "execution_count": null,
   "metadata": {
    "tags": []
   },
   "outputs": [],
   "source": [
    "from sklearn.metrics import precision_recall_curve\n",
    "\n",
    "precision, recall, thresholds = precision_recall_curve(y, ypred)"
   ]
  },
  {
   "cell_type": "code",
   "execution_count": null,
   "metadata": {
    "lines_to_next_cell": 2,
    "tags": []
   },
   "outputs": [],
   "source": [
    "plt.rc('figure', figsize=(6,6))\n",
    "\n",
    "lw = 2\n",
    "plt.plot(recall, precision, color='darkorange',\n",
    "         lw=lw, label='PR curve')\n",
    "# plt.plot([0, 1], [0, 1], color='navy', lw=lw, linestyle='--')\n",
    "# plt.xlim([0.0, 1.0])\n",
    "# plt.ylim([0.0, 1.05])\n",
    "plt.xlabel('Precision')\n",
    "plt.ylabel('Recall')\n",
    "plt.title('Precision / Recall Curve')\n",
    "\n",
    "idx5 = np.where(np.abs(thresholds)<=0.5)[0][-1]\n",
    "idx6 = np.where(np.abs(thresholds)<=0.6)[0][-1]\n",
    "idx7 = np.where(np.abs(thresholds)<=0.7)[0][-1]\n",
    "idx8 = np.where(np.abs(thresholds)<=0.8)[0][-1]\n",
    "idx9 = np.where(np.abs(thresholds)<=0.9)[0][-1]\n",
    "\n",
    "plt.plot(recall[idx5],precision[idx5],'o', label='threshold=0.5')\n",
    "plt.plot(recall[idx6],precision[idx6],'o', label='threshold=0.6')\n",
    "plt.plot(recall[idx7],precision[idx7],'o', label='threshold=0.7')\n",
    "plt.plot(recall[idx8],precision[idx8],'o', label='threshold=0.8')\n",
    "plt.plot(recall[idx9],precision[idx9],'o', label='threshold=0.9')\n",
    "\n",
    "plt.legend(loc=\"lower center\")\n",
    "\n",
    "plt.grid(True)\n"
   ]
  },
  {
   "cell_type": "markdown",
   "metadata": {},
   "source": [
    "## Global Sensitivity Analysis"
   ]
  },
  {
   "cell_type": "markdown",
   "metadata": {
    "tags": []
   },
   "source": [
    "### in Sobel and Delta methods can choose to use either log probability (logsoftmax) or probability exp(logsoftmax) as output to look at. Integrated Gradients uses output of network which is log probability"
   ]
  },
  {
   "cell_type": "code",
   "execution_count": null,
   "metadata": {
    "tags": []
   },
   "outputs": [],
   "source": [
    "useOutput = 'probability'\n",
    "# useOutput = 'logprob'"
   ]
  },
  {
   "cell_type": "markdown",
   "metadata": {},
   "source": [
    "## Sobol analysis"
   ]
  },
  {
   "cell_type": "code",
   "execution_count": null,
   "metadata": {
    "tags": []
   },
   "outputs": [],
   "source": [
    "import SALib as salib\n",
    "# from SALib.sample import sobol\n",
    "from SALib.sample import saltelli\n",
    "from SALib.analyze import sobol\n",
    "\n",
    "from SALib.plotting.bar import plot as barplot"
   ]
  },
  {
   "cell_type": "code",
   "execution_count": null,
   "metadata": {
    "lines_to_next_cell": 2,
    "tags": []
   },
   "outputs": [],
   "source": [
    "Xtest = torch.Tensor(X_test.to_numpy())\n",
    "# Xtest = torch.Tensor(X_train.to_numpy())\n",
    "ytest = torch.Tensor(y_test.to_numpy())\n",
    "\n",
    "ytest[:20]"
   ]
  },
  {
   "cell_type": "code",
   "execution_count": null,
   "metadata": {
    "tags": []
   },
   "outputs": [],
   "source": [
    "preds = net.forward(Xtest.to(DEVICE)).cpu().detach()\n",
    "preds = np.argmax(torch.exp(preds).numpy(), axis=1)\n",
    "preds[:20]\n",
    "# np.argmax(torch.softmax(preds, dim=1).numpy(), axis=1)"
   ]
  },
  {
   "cell_type": "markdown",
   "metadata": {},
   "source": [
    "### choose specific example where we want to evaluate sensitivity"
   ]
  },
  {
   "cell_type": "code",
   "execution_count": null,
   "metadata": {
    "tags": []
   },
   "outputs": [],
   "source": [
    "test_index = 0 # a collapse case\n",
    "# test_index = 3 # a noncollapse case"
   ]
  },
  {
   "cell_type": "code",
   "execution_count": null,
   "metadata": {
    "tags": []
   },
   "outputs": [],
   "source": [
    "Xtrue = X_test.to_numpy()[test_index].copy()"
   ]
  },
  {
   "cell_type": "code",
   "execution_count": null,
   "metadata": {
    "tags": []
   },
   "outputs": [],
   "source": [
    "# Xtrue"
   ]
  },
  {
   "cell_type": "code",
   "execution_count": null,
   "metadata": {
    "tags": []
   },
   "outputs": [],
   "source": [
    "bounds = np.zeros((nFeatures,2))\n",
    "bounds[:,0] = -0.2*np.abs(Xtrue)\n",
    "bounds[:,1] = 0.2*np.abs(Xtrue)\n",
    "\n",
    "bounds = bounds.tolist()"
   ]
  },
  {
   "cell_type": "code",
   "execution_count": null,
   "metadata": {
    "tags": []
   },
   "outputs": [],
   "source": [
    "# Define the model inputs\n",
    "problem = {\n",
    "    'num_vars': nFeatures,\n",
    "    'names':  featureSets[feature_set],\n",
    "    'bounds': bounds\n",
    "}"
   ]
  },
  {
   "cell_type": "code",
   "execution_count": null,
   "metadata": {
    "tags": []
   },
   "outputs": [],
   "source": [
    "problem"
   ]
  },
  {
   "cell_type": "code",
   "execution_count": null,
   "metadata": {
    "tags": []
   },
   "outputs": [],
   "source": [
    "# Generate samples\n",
    "Xsample = saltelli.sample(problem, 1024)"
   ]
  },
  {
   "cell_type": "code",
   "execution_count": null,
   "metadata": {
    "tags": []
   },
   "outputs": [],
   "source": [
    "Xsample.shape"
   ]
  },
  {
   "cell_type": "code",
   "execution_count": null,
   "metadata": {
    "tags": []
   },
   "outputs": [],
   "source": [
    "Xsample[0]"
   ]
  },
  {
   "cell_type": "code",
   "execution_count": null,
   "metadata": {
    "tags": []
   },
   "outputs": [],
   "source": [
    "Xtrue"
   ]
  },
  {
   "cell_type": "code",
   "execution_count": null,
   "metadata": {
    "tags": []
   },
   "outputs": [],
   "source": [
    "Xtrue + Xsample[0]"
   ]
  },
  {
   "cell_type": "code",
   "execution_count": null,
   "metadata": {
    "tags": []
   },
   "outputs": [],
   "source": [
    "def evalSensitivity(Xsample, Xtrue, fixColumns=None, model=None, output=None):\n",
    "    \n",
    "    X0 = Xtrue.copy()\n",
    "    X0 = torch.Tensor(X0)\n",
    "    \n",
    "    print (Xsample.shape, Xtrue.shape)\n",
    "    \n",
    "    model.eval()\n",
    "\n",
    "    p = model.forward(X0.to(DEVICE))\n",
    "    m = p.squeeze() # means\n",
    "    print (p.shape, m.shape)\n",
    "    \n",
    "    if output == 'probability':\n",
    "        p_mean0 = torch.exp(m.cpu().detach()).numpy() # probability\n",
    "        # p_mean0 = torch.softmax(m.cpu().detach(), dim=0).numpy() # probability\n",
    "    elif output == 'logprob':\n",
    "        p_mean0 = m.cpu().detach().numpy() # logsoftmax\n",
    "    \n",
    "    print(p_mean0.shape)\n",
    "\n",
    "    outputs0 = np.array([p_mean0[1]])\n",
    "    \n",
    "    outputs = []\n",
    "    for i in trange(len(Xsample)):\n",
    "    \n",
    "        X = Xtrue + Xsample[i]\n",
    "        if fixColumns:\n",
    "            X[fixColumns] = Xtrue[fixColumns]\n",
    "\n",
    "        X = torch.Tensor(X)\n",
    "\n",
    "        p = model.forward(X.to(DEVICE))\n",
    "        m = p.squeeze() # means\n",
    "        \n",
    "        if output == 'probability':\n",
    "            p_mean = torch.exp(m.cpu().detach()).numpy() # probability\n",
    "            # p_mean = torch.softmax(m.cpu().detach(), dim=0).numpy() # probability\n",
    "        elif output == 'logprob':\n",
    "            p_mean = m.cpu().detach().numpy()  # logsoftmax\n",
    "        \n",
    "        out = np.array([p_mean[1]])\n",
    "        \n",
    "        outputs.append(out)\n",
    "        \n",
    "    outputs = np.asarray(outputs)\n",
    "\n",
    "    return outputs, outputs0"
   ]
  },
  {
   "cell_type": "code",
   "execution_count": null,
   "metadata": {
    "lines_to_next_cell": 2,
    "tags": []
   },
   "outputs": [],
   "source": [
    "Y, Y0 = evalSensitivity(Xsample, Xtrue, fixColumns=[], model=net, output=useOutput)"
   ]
  },
  {
   "cell_type": "code",
   "execution_count": null,
   "metadata": {
    "tags": []
   },
   "outputs": [],
   "source": [
    "print (p.shape, Y.shape, Y0.shape)"
   ]
  },
  {
   "cell_type": "code",
   "execution_count": null,
   "metadata": {
    "tags": []
   },
   "outputs": [],
   "source": [
    "Y, Y0"
   ]
  },
  {
   "cell_type": "code",
   "execution_count": null,
   "metadata": {
    "tags": []
   },
   "outputs": [],
   "source": [
    "# save sensitivity analysis to pickle file\n",
    "\n",
    "sensitivity_dict = {'feature_set': feature_set, \n",
    "                  'Y': Y, 'Y0': Y0, \n",
    "                  'problem': problem,\n",
    "                  'Xsample': Xsample, 'Xtrue': Xtrue}\n",
    "\n",
    "# write python dict to a file\n",
    "# output = open('sensitivity.pkl', 'wb')\n",
    "# pickle.dump(sensitivity_dict, output)\n",
    "# output.close()\n",
    "\n",
    "# # read python dict back from the file\n",
    "# pkl_file = open('sensitivity.pkl', 'rb')\n",
    "# sensitivity_dict2 = pickle.load(pkl_file)\n",
    "# pkl_file.close()\n",
    "\n",
    "# print (sensitivity_dict2)\n"
   ]
  },
  {
   "cell_type": "code",
   "execution_count": null,
   "metadata": {
    "tags": []
   },
   "outputs": [],
   "source": [
    "Y.shape"
   ]
  },
  {
   "cell_type": "code",
   "execution_count": null,
   "metadata": {
    "tags": []
   },
   "outputs": [],
   "source": [
    "# Perform analysis\n",
    "Si = sobol.analyze(problem, Y[:,0], print_to_console=False)"
   ]
  },
  {
   "cell_type": "code",
   "execution_count": null,
   "metadata": {
    "tags": []
   },
   "outputs": [],
   "source": [
    "# Print the first-order sensitivity indices\n",
    "print(Si['S1'])"
   ]
  },
  {
   "cell_type": "code",
   "execution_count": null,
   "metadata": {
    "tags": []
   },
   "outputs": [],
   "source": [
    "Si_df = Si.to_df()"
   ]
  },
  {
   "cell_type": "code",
   "execution_count": null,
   "metadata": {
    "tags": []
   },
   "outputs": [],
   "source": [
    "Si_df[0]"
   ]
  },
  {
   "cell_type": "code",
   "execution_count": null,
   "metadata": {
    "tags": []
   },
   "outputs": [],
   "source": [
    "Si_df[0].sort_values(['ST'],ascending=False)"
   ]
  },
  {
   "cell_type": "code",
   "execution_count": null,
   "metadata": {
    "tags": []
   },
   "outputs": [],
   "source": [
    "plt.rc('figure', figsize=(12, 4))\n",
    "\n",
    "barplot(Si_df[0])\n",
    "plt.grid(True)\n",
    "\n",
    "plt.tight_layout()"
   ]
  },
  {
   "cell_type": "code",
   "execution_count": null,
   "metadata": {
    "scrolled": true,
    "tags": []
   },
   "outputs": [],
   "source": [
    "Si_df[1]"
   ]
  },
  {
   "cell_type": "code",
   "execution_count": null,
   "metadata": {
    "tags": []
   },
   "outputs": [],
   "source": [
    "plt.rc('figure', figsize=(12, 4))\n",
    "\n",
    "barplot(Si_df[1])\n",
    "plt.grid(True)\n",
    "\n",
    "plt.tight_layout()"
   ]
  },
  {
   "cell_type": "code",
   "execution_count": null,
   "metadata": {
    "tags": []
   },
   "outputs": [],
   "source": [
    "Si_df[2]"
   ]
  },
  {
   "cell_type": "markdown",
   "metadata": {
    "lines_to_next_cell": 2
   },
   "source": [
    "## Delta Moment-Independent Measure"
   ]
  },
  {
   "cell_type": "code",
   "execution_count": null,
   "metadata": {
    "tags": []
   },
   "outputs": [],
   "source": [
    "from SALib.sample import latin\n",
    "from SALib.analyze import delta"
   ]
  },
  {
   "cell_type": "code",
   "execution_count": null,
   "metadata": {
    "tags": []
   },
   "outputs": [],
   "source": [
    "bounds = np.zeros((nFeatures,2))\n",
    "bounds[:,0] = -0.2*np.abs(Xtrue)\n",
    "bounds[:,1] = 0.2*np.abs(Xtrue)\n",
    "\n",
    "bounds = bounds.tolist()"
   ]
  },
  {
   "cell_type": "code",
   "execution_count": null,
   "metadata": {
    "tags": []
   },
   "outputs": [],
   "source": [
    "# Define the model inputs\n",
    "problem = {\n",
    "    'num_vars': nFeatures,\n",
    "    'names':  featureSets[feature_set],\n",
    "    'bounds': bounds\n",
    "}"
   ]
  },
  {
   "cell_type": "code",
   "execution_count": null,
   "metadata": {
    "tags": []
   },
   "outputs": [],
   "source": [
    "# Generate samples\n",
    "# nsamples = 10000\n",
    "nsamples = 1024\n",
    "Xsample = latin.sample(problem, nsamples) # This is Set 1"
   ]
  },
  {
   "cell_type": "code",
   "execution_count": null,
   "metadata": {
    "tags": []
   },
   "outputs": [],
   "source": [
    "Xsample.shape"
   ]
  },
  {
   "cell_type": "code",
   "execution_count": null,
   "metadata": {
    "tags": []
   },
   "outputs": [],
   "source": [
    "Y, Y0 = evalSensitivity(Xsample, Xtrue, model=net, output=useOutput)"
   ]
  },
  {
   "cell_type": "code",
   "execution_count": null,
   "metadata": {
    "tags": []
   },
   "outputs": [],
   "source": [
    "Y.shape"
   ]
  },
  {
   "cell_type": "code",
   "execution_count": null,
   "metadata": {
    "lines_to_next_cell": 2,
    "scrolled": true,
    "tags": []
   },
   "outputs": [],
   "source": [
    "# Perform analysis\n",
    "results0 = delta.analyze(problem, Xsample, Y.squeeze(), print_to_console=True)"
   ]
  },
  {
   "cell_type": "code",
   "execution_count": null,
   "metadata": {
    "tags": []
   },
   "outputs": [],
   "source": [
    "results0_df = results0.to_df()"
   ]
  },
  {
   "cell_type": "code",
   "execution_count": null,
   "metadata": {
    "tags": []
   },
   "outputs": [],
   "source": [
    "# Si_df['delta_significant'] = Si_df['delta_conf'] / Si_df['delta']\n",
    "# Si_df['Sobol_significant'] = Si_df['S1_conf'] / Si_df['S1']"
   ]
  },
  {
   "cell_type": "code",
   "execution_count": null,
   "metadata": {
    "tags": []
   },
   "outputs": [],
   "source": [
    "results0_df"
   ]
  },
  {
   "cell_type": "code",
   "execution_count": null,
   "metadata": {
    "tags": []
   },
   "outputs": [],
   "source": [
    "plt.rc('figure', figsize=(12, 4))\n",
    "\n",
    "barplot(results0_df)\n",
    "plt.grid(True)\n",
    "\n",
    "plt.tight_layout()\n",
    "\n",
    "plt.savefig('sensitivity_delta_analysis.png')"
   ]
  },
  {
   "cell_type": "code",
   "execution_count": null,
   "metadata": {
    "tags": []
   },
   "outputs": [],
   "source": [
    "# Sort factors by importance\n",
    "factors_sorted = np.argsort(results0['delta'])[::-1].tolist()\n",
    "# factors_sorted = np.argsort(results0['S1'])[::-1].tolist()"
   ]
  },
  {
   "cell_type": "code",
   "execution_count": null,
   "metadata": {
    "tags": []
   },
   "outputs": [],
   "source": [
    "factors_sorted"
   ]
  },
  {
   "cell_type": "code",
   "execution_count": null,
   "metadata": {
    "tags": []
   },
   "outputs": [],
   "source": [
    "results_sorted_df = results0_df.iloc[factors_sorted,:].copy()"
   ]
  },
  {
   "cell_type": "code",
   "execution_count": null,
   "metadata": {
    "tags": []
   },
   "outputs": [],
   "source": [
    "plt.rc('figure', figsize=(12, 4))\n",
    "\n",
    "barplot(results_sorted_df)\n",
    "plt.grid(True)\n",
    "\n",
    "plt.tight_layout()\n"
   ]
  },
  {
   "cell_type": "markdown",
   "metadata": {},
   "source": [
    "### print names of top features"
   ]
  },
  {
   "cell_type": "code",
   "execution_count": null,
   "metadata": {
    "tags": []
   },
   "outputs": [],
   "source": [
    "print(results_sorted_df.index[:12].tolist())"
   ]
  },
  {
   "cell_type": "markdown",
   "metadata": {},
   "source": [
    "### fix first feature and look at sensitivity to rest"
   ]
  },
  {
   "cell_type": "code",
   "execution_count": null,
   "metadata": {
    "tags": []
   },
   "outputs": [],
   "source": [
    "Y, Y0 = evalSensitivity(Xsample, Xtrue, fixColumns=factors_sorted[0], \n",
    "                        model=net, output=useOutput)"
   ]
  },
  {
   "cell_type": "code",
   "execution_count": null,
   "metadata": {
    "lines_to_next_cell": 2,
    "scrolled": true,
    "tags": []
   },
   "outputs": [],
   "source": [
    "# Perform analysis\n",
    "results1 = delta.analyze(problem, Xsample, Y.squeeze(), print_to_console=True)"
   ]
  },
  {
   "cell_type": "code",
   "execution_count": null,
   "metadata": {
    "tags": []
   },
   "outputs": [],
   "source": [
    "results1_df = results1.to_df()"
   ]
  },
  {
   "cell_type": "code",
   "execution_count": null,
   "metadata": {
    "tags": []
   },
   "outputs": [],
   "source": [
    "# Si_df['delta_significant'] = Si_df['delta_conf'] / Si_df['delta']\n",
    "# Si_df['Sobol_significant'] = Si_df['S1_conf'] / Si_df['S1']"
   ]
  },
  {
   "cell_type": "code",
   "execution_count": null,
   "metadata": {
    "tags": []
   },
   "outputs": [],
   "source": [
    "results1_df"
   ]
  },
  {
   "cell_type": "code",
   "execution_count": null,
   "metadata": {
    "tags": []
   },
   "outputs": [],
   "source": [
    "plt.rc('figure', figsize=(12,4))\n",
    "\n",
    "barplot(results1_df)\n",
    "plt.grid(True)\n",
    "\n",
    "plt.tight_layout()\n",
    "\n",
    "plt.savefig('sensitivity_delta_analysis_fix_most_important.png')"
   ]
  },
  {
   "cell_type": "markdown",
   "metadata": {},
   "source": [
    "## loop through, replacing each important feature with default"
   ]
  },
  {
   "cell_type": "code",
   "execution_count": null,
   "metadata": {
    "tags": []
   },
   "outputs": [],
   "source": [
    "def evalSensitivity2(Xsample, model=None, output=None):\n",
    "    \n",
    "    model.eval()\n",
    "\n",
    "    outputs = []\n",
    "    for i in range(len(Xsample)):\n",
    "    \n",
    "        X = Xsample[i]\n",
    "\n",
    "        X = torch.Tensor(X)\n",
    "\n",
    "        p = model.forward(X.to(DEVICE))\n",
    "        m = p.squeeze() # means\n",
    "\n",
    "        if output == 'probability':\n",
    "            p_mean = torch.exp(m.cpu().detach()).numpy() # probability\n",
    "            # p_mean = torch.softmax(m.cpu().detach(), dim=0).numpy() # probability\n",
    "        elif output == 'logprob':\n",
    "            p_mean = m.cpu().detach().numpy()  # logsoftmax\n",
    "        \n",
    "        out = np.array([p_mean[1]])\n",
    "        \n",
    "        outputs.append(out)\n",
    "        \n",
    "    outputs = np.asarray(outputs)\n",
    "\n",
    "    return outputs"
   ]
  },
  {
   "cell_type": "code",
   "execution_count": null,
   "metadata": {
    "tags": []
   },
   "outputs": [],
   "source": [
    "X_Set1 = Xsample+Xtrue\n",
    "\n",
    "Y1 = evalSensitivity2(X_Set1, model=net, output=useOutput)\n",
    "\n",
    "results1 = delta.analyze(problem, X_Set1, Y1.squeeze(), print_to_console=True)\n",
    "results1 = results1.to_df().to_numpy()"
   ]
  },
  {
   "cell_type": "code",
   "execution_count": null,
   "metadata": {
    "lines_to_next_cell": 0,
    "scrolled": true,
    "tags": []
   },
   "outputs": [],
   "source": [
    "# Sort factors by importance\n",
    "factors_sorted = np.argsort(results0['delta'])[::-1]\n",
    " \n",
    "# Set up DataFrame of default values to use for experiment\n",
    "X_defaults = np.tile(Xtrue,(nsamples, 1))\n",
    " \n",
    "# Create initial Sets 2 and 3\n",
    "X_Set2 = np.copy(X_defaults)\n",
    "X_Set3 = np.copy(X_Set1)\n",
    " \n",
    "for f in range(1, len(factors_sorted)+1):\n",
    "    ntopfactors = f\n",
    "     \n",
    "    for i in range(ntopfactors): #Loop through all important factors\n",
    "        X_Set2[:,factors_sorted[i]] = X_Set1[:,factors_sorted[i]] #Fix use samples for important\n",
    "        X_Set3[:,factors_sorted[i]] = X_defaults[:,factors_sorted[i]] #Fix important to defaults\n",
    "     \n",
    "        # Run model for all samples    \n",
    "        Y2 = evalSensitivity2(X_Set2, model=net, output=useOutput)\n",
    "        Y3 = evalSensitivity2(X_Set3, model=net, output=useOutput)\n",
    "\n",
    "        # Calculate coefficients of correlation\n",
    "        coefficient_S1_S2 = np.corrcoef(Y1.squeeze(),Y2.squeeze())[0][1]\n",
    "        coefficient_S1_S3 = np.corrcoef(Y1.squeeze(),Y3.squeeze())[0][1]\n",
    "    \n",
    "        print(f,i, coefficient_S1_S2, coefficient_S1_S3)\n"
   ]
  },
  {
   "cell_type": "markdown",
   "metadata": {},
   "source": [
    "## captum: integrated gradients"
   ]
  },
  {
   "cell_type": "code",
   "execution_count": null,
   "metadata": {
    "lines_to_next_cell": 2,
    "tags": []
   },
   "outputs": [],
   "source": [
    "from captum.attr import IntegratedGradients"
   ]
  },
  {
   "cell_type": "code",
   "execution_count": null,
   "metadata": {
    "tags": []
   },
   "outputs": [],
   "source": [
    "ig = IntegratedGradients(net)"
   ]
  },
  {
   "cell_type": "code",
   "execution_count": null,
   "metadata": {
    "tags": []
   },
   "outputs": [],
   "source": [
    "X = Xsample + Xtrue\n",
    "# X = np.tile(Xtrue,(100,1))"
   ]
  },
  {
   "cell_type": "code",
   "execution_count": null,
   "metadata": {
    "tags": []
   },
   "outputs": [],
   "source": [
    "X.shape"
   ]
  },
  {
   "cell_type": "code",
   "execution_count": null,
   "metadata": {
    "tags": []
   },
   "outputs": [],
   "source": [
    "test_input_tensor = Tensor(X).to(DEVICE)"
   ]
  },
  {
   "cell_type": "code",
   "execution_count": null,
   "metadata": {
    "lines_to_next_cell": 2,
    "tags": []
   },
   "outputs": [],
   "source": [
    "test_input_tensor.requires_grad_()\n",
    "attr, delta = ig.attribute(test_input_tensor, target=0, return_convergence_delta=True)\n",
    "attr = attr.cpu().detach().numpy()"
   ]
  },
  {
   "cell_type": "code",
   "execution_count": null,
   "metadata": {
    "lines_to_next_cell": 2,
    "tags": []
   },
   "outputs": [],
   "source": [
    "plt.rc('figure', figsize=(12, 6))\n",
    "\n",
    "def visualize_importances(feature_names, importances, title=\"Average Integrated Gradients Importances\", \n",
    "                          plot=True, axis_title=\"Features\"):\n",
    "    print(title)\n",
    "    for i in range(len(feature_names)):\n",
    "        print(feature_names[i], \": \", '%.3f'%(importances[i]))\n",
    "    x_pos = (np.arange(len(feature_names)))\n",
    "    if plot:\n",
    "#         plt.figure(figsize=(16,6))\n",
    "        plt.bar(x_pos, importances, width=0.5, align='center')\n",
    "        # plt.bar(x_pos, np.abs(importances), width=0.5, align='center')\n",
    "        plt.xticks(x_pos, feature_names, rotation='vertical')\n",
    "        plt.xlabel(axis_title)\n",
    "        plt.title(title)\n",
    "        plt.grid(True)\n",
    "        plt.tight_layout()\n",
    "        \n",
    "feature_names = featureSets[feature_set]\n",
    "visualize_importances(feature_names, np.mean(attr, axis=0))\n",
    "\n",
    "plt.savefig('sensitivity_integrated_gradients.png')"
   ]
  },
  {
   "cell_type": "code",
   "execution_count": null,
   "metadata": {
    "tags": []
   },
   "outputs": [],
   "source": [
    "# Sort factors by importance\n",
    "factors_sorted = np.argsort(-np.abs(np.mean(attr, axis=0)))"
   ]
  },
  {
   "cell_type": "code",
   "execution_count": null,
   "metadata": {
    "tags": []
   },
   "outputs": [],
   "source": [
    "np.array(feature_names)[factors_sorted].tolist()"
   ]
  },
  {
   "cell_type": "code",
   "execution_count": null,
   "metadata": {
    "tags": []
   },
   "outputs": [],
   "source": [
    "visualize_importances(np.array(feature_names)[factors_sorted].tolist(),\n",
    "                      np.abs(np.mean(attr, axis=0)[factors_sorted]))"
   ]
  },
  {
   "cell_type": "code",
   "execution_count": null,
   "metadata": {},
   "outputs": [],
   "source": []
  },
  {
   "cell_type": "code",
   "execution_count": null,
   "metadata": {
    "lines_to_next_cell": 2
   },
   "outputs": [],
   "source": []
  }
 ],
 "metadata": {
  "jupytext": {
   "encoding": "# -*- coding: utf-8 -*-",
   "formats": "ipynb,py:light"
  },
  "kernelspec": {
   "display_name": "Python 3 (ipykernel)",
   "language": "python",
   "name": "python3"
  },
  "language_info": {
   "codemirror_mode": {
    "name": "ipython",
    "version": 3
   },
   "file_extension": ".py",
   "mimetype": "text/x-python",
   "name": "python",
   "nbconvert_exporter": "python",
   "pygments_lexer": "ipython3",
   "version": "3.11.4"
  }
 },
 "nbformat": 4,
 "nbformat_minor": 4
}
